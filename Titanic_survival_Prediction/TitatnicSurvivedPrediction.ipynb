{
 "cells": [
  {
   "cell_type": "code",
   "execution_count": 139,
   "metadata": {},
   "outputs": [],
   "source": [
    "#reading the data set\n",
    "training_set = read.csv(\"titanic_train.csv\")"
   ]
  },
  {
   "cell_type": "code",
   "execution_count": 138,
   "metadata": {},
   "outputs": [
    {
     "data": {
      "text/html": [
       "<table>\n",
       "<thead><tr><th scope=col>PassengerId</th><th scope=col>Pclass</th><th scope=col>Name</th><th scope=col>Sex</th><th scope=col>Age</th><th scope=col>SibSp</th><th scope=col>Parch</th><th scope=col>Ticket</th><th scope=col>Fare</th><th scope=col>Cabin</th><th scope=col>Embarked</th></tr></thead>\n",
       "<tbody>\n",
       "\t<tr><td>892                                         </td><td>3                                           </td><td>Kelly, Mr. James                            </td><td>male                                        </td><td>34.5                                        </td><td>0                                           </td><td>0                                           </td><td>330911                                      </td><td> 7.8292                                     </td><td>                                            </td><td>Q                                           </td></tr>\n",
       "\t<tr><td>893                                         </td><td>3                                           </td><td>Wilkes, Mrs. James (Ellen Needs)            </td><td>female                                      </td><td>47.0                                        </td><td>1                                           </td><td>0                                           </td><td>363272                                      </td><td> 7.0000                                     </td><td>                                            </td><td>S                                           </td></tr>\n",
       "\t<tr><td>894                                         </td><td>2                                           </td><td>Myles, Mr. Thomas Francis                   </td><td>male                                        </td><td>62.0                                        </td><td>0                                           </td><td>0                                           </td><td>240276                                      </td><td> 9.6875                                     </td><td>                                            </td><td>Q                                           </td></tr>\n",
       "\t<tr><td>895                                         </td><td>3                                           </td><td>Wirz, Mr. Albert                            </td><td>male                                        </td><td>27.0                                        </td><td>0                                           </td><td>0                                           </td><td>315154                                      </td><td> 8.6625                                     </td><td>                                            </td><td>S                                           </td></tr>\n",
       "\t<tr><td>896                                         </td><td>3                                           </td><td>Hirvonen, Mrs. Alexander (Helga E Lindqvist)</td><td>female                                      </td><td>22.0                                        </td><td>1                                           </td><td>1                                           </td><td>3101298                                     </td><td>12.2875                                     </td><td>                                            </td><td>S                                           </td></tr>\n",
       "\t<tr><td>897                                         </td><td>3                                           </td><td>Svensson, Mr. Johan Cervin                  </td><td>male                                        </td><td>14.0                                        </td><td>0                                           </td><td>0                                           </td><td>7538                                        </td><td> 9.2250                                     </td><td>                                            </td><td>S                                           </td></tr>\n",
       "</tbody>\n",
       "</table>\n"
      ],
      "text/latex": [
       "\\begin{tabular}{r|lllllllllll}\n",
       " PassengerId & Pclass & Name & Sex & Age & SibSp & Parch & Ticket & Fare & Cabin & Embarked\\\\\n",
       "\\hline\n",
       "\t 892                                          & 3                                            & Kelly, Mr. James                             & male                                         & 34.5                                         & 0                                            & 0                                            & 330911                                       &  7.8292                                      &                                              & Q                                           \\\\\n",
       "\t 893                                          & 3                                            & Wilkes, Mrs. James (Ellen Needs)             & female                                       & 47.0                                         & 1                                            & 0                                            & 363272                                       &  7.0000                                      &                                              & S                                           \\\\\n",
       "\t 894                                          & 2                                            & Myles, Mr. Thomas Francis                    & male                                         & 62.0                                         & 0                                            & 0                                            & 240276                                       &  9.6875                                      &                                              & Q                                           \\\\\n",
       "\t 895                                          & 3                                            & Wirz, Mr. Albert                             & male                                         & 27.0                                         & 0                                            & 0                                            & 315154                                       &  8.6625                                      &                                              & S                                           \\\\\n",
       "\t 896                                          & 3                                            & Hirvonen, Mrs. Alexander (Helga E Lindqvist) & female                                       & 22.0                                         & 1                                            & 1                                            & 3101298                                      & 12.2875                                      &                                              & S                                           \\\\\n",
       "\t 897                                          & 3                                            & Svensson, Mr. Johan Cervin                   & male                                         & 14.0                                         & 0                                            & 0                                            & 7538                                         &  9.2250                                      &                                              & S                                           \\\\\n",
       "\\end{tabular}\n"
      ],
      "text/markdown": [
       "\n",
       "PassengerId | Pclass | Name | Sex | Age | SibSp | Parch | Ticket | Fare | Cabin | Embarked | \n",
       "|---|---|---|---|---|---|\n",
       "| 892                                          | 3                                            | Kelly, Mr. James                             | male                                         | 34.5                                         | 0                                            | 0                                            | 330911                                       |  7.8292                                      |                                              | Q                                            | \n",
       "| 893                                          | 3                                            | Wilkes, Mrs. James (Ellen Needs)             | female                                       | 47.0                                         | 1                                            | 0                                            | 363272                                       |  7.0000                                      |                                              | S                                            | \n",
       "| 894                                          | 2                                            | Myles, Mr. Thomas Francis                    | male                                         | 62.0                                         | 0                                            | 0                                            | 240276                                       |  9.6875                                      |                                              | Q                                            | \n",
       "| 895                                          | 3                                            | Wirz, Mr. Albert                             | male                                         | 27.0                                         | 0                                            | 0                                            | 315154                                       |  8.6625                                      |                                              | S                                            | \n",
       "| 896                                          | 3                                            | Hirvonen, Mrs. Alexander (Helga E Lindqvist) | female                                       | 22.0                                         | 1                                            | 1                                            | 3101298                                      | 12.2875                                      |                                              | S                                            | \n",
       "| 897                                          | 3                                            | Svensson, Mr. Johan Cervin                   | male                                         | 14.0                                         | 0                                            | 0                                            | 7538                                         |  9.2250                                      |                                              | S                                            | \n",
       "\n",
       "\n"
      ],
      "text/plain": [
       "  PassengerId Pclass Name                                         Sex    Age \n",
       "1 892         3      Kelly, Mr. James                             male   34.5\n",
       "2 893         3      Wilkes, Mrs. James (Ellen Needs)             female 47.0\n",
       "3 894         2      Myles, Mr. Thomas Francis                    male   62.0\n",
       "4 895         3      Wirz, Mr. Albert                             male   27.0\n",
       "5 896         3      Hirvonen, Mrs. Alexander (Helga E Lindqvist) female 22.0\n",
       "6 897         3      Svensson, Mr. Johan Cervin                   male   14.0\n",
       "  SibSp Parch Ticket  Fare    Cabin Embarked\n",
       "1 0     0     330911   7.8292       Q       \n",
       "2 1     0     363272   7.0000       S       \n",
       "3 0     0     240276   9.6875       Q       \n",
       "4 0     0     315154   8.6625       S       \n",
       "5 1     1     3101298 12.2875       S       \n",
       "6 0     0     7538     9.2250       S       "
      ]
     },
     "metadata": {},
     "output_type": "display_data"
    }
   ],
   "source": [
    "# checking the head of the data set\n",
    "head(test_set)"
   ]
  },
  {
   "cell_type": "code",
   "execution_count": 3,
   "metadata": {},
   "outputs": [
    {
     "data": {
      "text/html": [
       "<ol class=list-inline>\n",
       "\t<li>891</li>\n",
       "\t<li>12</li>\n",
       "</ol>\n"
      ],
      "text/latex": [
       "\\begin{enumerate*}\n",
       "\\item 891\n",
       "\\item 12\n",
       "\\end{enumerate*}\n"
      ],
      "text/markdown": [
       "1. 891\n",
       "2. 12\n",
       "\n",
       "\n"
      ],
      "text/plain": [
       "[1] 891  12"
      ]
     },
     "metadata": {},
     "output_type": "display_data"
    }
   ],
   "source": [
    "# let's see the dim of the data set\n",
    "dim(training_set)"
   ]
  },
  {
   "cell_type": "code",
   "execution_count": 4,
   "metadata": {},
   "outputs": [
    {
     "name": "stdout",
     "output_type": "stream",
     "text": [
      "'data.frame':\t891 obs. of  12 variables:\n",
      " $ PassengerId: int  1 2 3 4 5 6 7 8 9 10 ...\n",
      " $ Survived   : int  0 1 1 1 0 0 0 0 1 1 ...\n",
      " $ Pclass     : int  3 1 3 1 3 3 1 3 3 2 ...\n",
      " $ Name       : Factor w/ 891 levels \"Abbing, Mr. Anthony\",..: 109 191 358 277 16 559 520 629 417 581 ...\n",
      " $ Sex        : Factor w/ 2 levels \"female\",\"male\": 2 1 1 1 2 2 2 2 1 1 ...\n",
      " $ Age        : num  22 38 26 35 35 NA 54 2 27 14 ...\n",
      " $ SibSp      : int  1 1 0 1 0 0 0 3 0 1 ...\n",
      " $ Parch      : int  0 0 0 0 0 0 0 1 2 0 ...\n",
      " $ Ticket     : Factor w/ 681 levels \"110152\",\"110413\",..: 524 597 670 50 473 276 86 396 345 133 ...\n",
      " $ Fare       : num  7.25 71.28 7.92 53.1 8.05 ...\n",
      " $ Cabin      : Factor w/ 148 levels \"\",\"A10\",\"A14\",..: 1 83 1 57 1 1 131 1 1 1 ...\n",
      " $ Embarked   : Factor w/ 4 levels \"\",\"C\",\"Q\",\"S\": 4 2 4 4 4 3 4 4 4 2 ...\n"
     ]
    }
   ],
   "source": [
    "#checking the structure of the dataset\n",
    "str(training_set)"
   ]
  },
  {
   "cell_type": "code",
   "execution_count": 5,
   "metadata": {},
   "outputs": [
    {
     "name": "stderr",
     "output_type": "stream",
     "text": [
      "Warning message:\n",
      "\"package 'Amelia' was built under R version 3.5.2\"Loading required package: Rcpp\n",
      "## \n",
      "## Amelia II: Multiple Imputation\n",
      "## (Version 1.7.5, built: 2018-05-07)\n",
      "## Copyright (C) 2005-2018 James Honaker, Gary King and Matthew Blackwell\n",
      "## Refer to http://gking.harvard.edu/amelia/ for more information\n",
      "## \n"
     ]
    }
   ],
   "source": [
    "library(Amelia)"
   ]
  },
  {
   "cell_type": "markdown",
   "metadata": {},
   "source": [
    "### Exploratory Data Analysis (EDA)\n",
    "### Let's first explorehow much missing data we have, we can also use the Amelia pacakge for this purpose."
   ]
  },
  {
   "cell_type": "code",
   "execution_count": 6,
   "metadata": {},
   "outputs": [],
   "source": [
    "#help(missmap)"
   ]
  },
  {
   "cell_type": "code",
   "execution_count": 7,
   "metadata": {},
   "outputs": [
    {
     "data": {
      "image/png": "[encoded data removed]",
      "text/plain": [
       "Plot with title \"Missing values\""
      ]
     },
     "metadata": {},
     "output_type": "display_data"
    }
   ],
   "source": [
    "missmap(obj = training_set, col = c(\"yellow\", 'black'),main = \"Missing values\", legend = FALSE)"
   ]
  },
  {
   "cell_type": "markdown",
   "metadata": {},
   "source": [
    "### only the Age column has missing value, we can find how many age values are missing"
   ]
  },
  {
   "cell_type": "code",
   "execution_count": 8,
   "metadata": {},
   "outputs": [
    {
     "data": {
      "text/html": [
       "177"
      ],
      "text/latex": [
       "177"
      ],
      "text/markdown": [
       "177"
      ],
      "text/plain": [
       "[1] 177"
      ]
     },
     "metadata": {},
     "output_type": "display_data"
    }
   ],
   "source": [
    "sum(is.na(training_set))"
   ]
  },
  {
   "cell_type": "code",
   "execution_count": 9,
   "metadata": {},
   "outputs": [
    {
     "data": {
      "text/plain": [
       "\n",
       "FALSE  TRUE \n",
       "10515   177 "
      ]
     },
     "metadata": {},
     "output_type": "display_data"
    }
   ],
   "source": [
    "table(is.na(training_set))"
   ]
  },
  {
   "cell_type": "code",
   "execution_count": 10,
   "metadata": {},
   "outputs": [
    {
     "data": {
      "text/html": [
       "<dl class=dl-horizontal>\n",
       "\t<dt>PassengerId</dt>\n",
       "\t\t<dd>0</dd>\n",
       "\t<dt>Survived</dt>\n",
       "\t\t<dd>0</dd>\n",
       "\t<dt>Pclass</dt>\n",
       "\t\t<dd>0</dd>\n",
       "\t<dt>Name</dt>\n",
       "\t\t<dd>0</dd>\n",
       "\t<dt>Sex</dt>\n",
       "\t\t<dd>0</dd>\n",
       "\t<dt>Age</dt>\n",
       "\t\t<dd>177</dd>\n",
       "\t<dt>SibSp</dt>\n",
       "\t\t<dd>0</dd>\n",
       "\t<dt>Parch</dt>\n",
       "\t\t<dd>0</dd>\n",
       "\t<dt>Ticket</dt>\n",
       "\t\t<dd>0</dd>\n",
       "\t<dt>Fare</dt>\n",
       "\t\t<dd>0</dd>\n",
       "\t<dt>Cabin</dt>\n",
       "\t\t<dd>0</dd>\n",
       "\t<dt>Embarked</dt>\n",
       "\t\t<dd>0</dd>\n",
       "</dl>\n"
      ],
      "text/latex": [
       "\\begin{description*}\n",
       "\\item[PassengerId] 0\n",
       "\\item[Survived] 0\n",
       "\\item[Pclass] 0\n",
       "\\item[Name] 0\n",
       "\\item[Sex] 0\n",
       "\\item[Age] 177\n",
       "\\item[SibSp] 0\n",
       "\\item[Parch] 0\n",
       "\\item[Ticket] 0\n",
       "\\item[Fare] 0\n",
       "\\item[Cabin] 0\n",
       "\\item[Embarked] 0\n",
       "\\end{description*}\n"
      ],
      "text/markdown": [
       "PassengerId\n",
       ":   0Survived\n",
       ":   0Pclass\n",
       ":   0Name\n",
       ":   0Sex\n",
       ":   0Age\n",
       ":   177SibSp\n",
       ":   0Parch\n",
       ":   0Ticket\n",
       ":   0Fare\n",
       ":   0Cabin\n",
       ":   0Embarked\n",
       ":   0\n",
       "\n"
      ],
      "text/plain": [
       "PassengerId    Survived      Pclass        Name         Sex         Age \n",
       "          0           0           0           0           0         177 \n",
       "      SibSp       Parch      Ticket        Fare       Cabin    Embarked \n",
       "          0           0           0           0           0           0 "
      ]
     },
     "metadata": {},
     "output_type": "display_data"
    }
   ],
   "source": [
    "sapply(training_set, function(x)sum(is.na(x)))"
   ]
  },
  {
   "cell_type": "markdown",
   "metadata": {},
   "source": [
    "as seen, roughly 20 percent of the Age data is missing. The proportion of Age \"missings\" is likely small enough for reasonable replacement with some form of imputation."
   ]
  },
  {
   "cell_type": "markdown",
   "metadata": {},
   "source": [
    "# Data Visualization using ggplot2"
   ]
  },
  {
   "cell_type": "code",
   "execution_count": 11,
   "metadata": {},
   "outputs": [
    {
     "data": {},
     "metadata": {},
     "output_type": "display_data"
    },
    {
     "data": {
      "image/png": "[encoded data removed]",
      "text/plain": [
       "plot without title"
      ]
     },
     "metadata": {},
     "output_type": "display_data"
    }
   ],
   "source": [
    "# let's see the count of survival and non-survival\n",
    "library(ggplot2)\n",
    "\n",
    "ggplot(data = training_set, aes(Survived)) +\n",
    "    geom_bar(aes(fill = factor(Survived)), alpha = 0.5)"
   ]
  },
  {
   "cell_type": "markdown",
   "metadata": {},
   "source": [
    "#### as shown, the number of survived are less"
   ]
  },
  {
   "cell_type": "code",
   "execution_count": 12,
   "metadata": {},
   "outputs": [
    {
     "data": {},
     "metadata": {},
     "output_type": "display_data"
    },
    {
     "data": {
      "image/png": "[encoded data removed]",
      "text/plain": [
       "plot without title"
      ]
     },
     "metadata": {},
     "output_type": "display_data"
    }
   ],
   "source": [
    "ggplot(data = training_set, aes(x = Survived)) +\n",
    "geom_bar(aes(fill = factor(Pclass)), alpha = 0.5)"
   ]
  },
  {
   "cell_type": "markdown",
   "metadata": {},
   "source": [
    "#### as shown, majority of survived passenger belonged to first 1."
   ]
  },
  {
   "cell_type": "code",
   "execution_count": 13,
   "metadata": {},
   "outputs": [
    {
     "data": {},
     "metadata": {},
     "output_type": "display_data"
    },
    {
     "data": {
      "image/png": "[encoded data removed]",
      "text/plain": [
       "plot without title"
      ]
     },
     "metadata": {},
     "output_type": "display_data"
    }
   ],
   "source": [
    "ggplot(data = training_set, aes(x = Pclass)) + geom_bar(aes(fill = factor(Pclass)), alpha = 0.5)"
   ]
  },
  {
   "cell_type": "code",
   "execution_count": 14,
   "metadata": {},
   "outputs": [
    {
     "data": {},
     "metadata": {},
     "output_type": "display_data"
    },
    {
     "data": {
      "image/png": "[encoded data removed]",
      "text/plain": [
       "plot without title"
      ]
     },
     "metadata": {},
     "output_type": "display_data"
    }
   ],
   "source": [
    "ggplot(data = training_set, aes(x = Sex)) + geom_bar(aes(fill = factor(Sex)), alpha = 0.5)"
   ]
  },
  {
   "cell_type": "code",
   "execution_count": 15,
   "metadata": {},
   "outputs": [
    {
     "name": "stderr",
     "output_type": "stream",
     "text": [
      "Warning message:\n",
      "\"Removed 177 rows containing non-finite values (stat_bin).\""
     ]
    },
    {
     "data": {},
     "metadata": {},
     "output_type": "display_data"
    },
    {
     "data": {
      "image/png": "[encoded data removed]",
      "text/plain": [
       "plot without title"
      ]
     },
     "metadata": {},
     "output_type": "display_data"
    }
   ],
   "source": [
    "ggplot(data = training_set, aes(x = Age)) + geom_histogram(fill = 'blue',bins = 30, alpha = 0.5)"
   ]
  },
  {
   "cell_type": "code",
   "execution_count": 16,
   "metadata": {},
   "outputs": [
    {
     "data": {},
     "metadata": {},
     "output_type": "display_data"
    },
    {
     "data": {
      "image/png": "[encoded data removed]",
      "text/plain": [
       "plot without title"
      ]
     },
     "metadata": {},
     "output_type": "display_data"
    }
   ],
   "source": [
    "ggplot(data = training_set,aes(x = SibSp)) + geom_bar(fill='red',alpha=0.5)"
   ]
  },
  {
   "cell_type": "code",
   "execution_count": 17,
   "metadata": {},
   "outputs": [
    {
     "name": "stderr",
     "output_type": "stream",
     "text": [
      "`stat_bin()` using `bins = 30`. Pick better value with `binwidth`.\n"
     ]
    },
    {
     "data": {},
     "metadata": {},
     "output_type": "display_data"
    },
    {
     "data": {
      "image/png": "[encoded data removed]",
      "text/plain": [
       "plot without title"
      ]
     },
     "metadata": {},
     "output_type": "display_data"
    }
   ],
   "source": [
    "ggplot(data = training_set,aes(Fare)) + geom_histogram(fill='blue',color='black',alpha=0.5)"
   ]
  },
  {
   "cell_type": "markdown",
   "metadata": {},
   "source": [
    "# Dealing the missing values in 'Age' column\n",
    "we can either drop the missing values or fill the missing values with the mean of the column.\n",
    "as we have three classes, we can fill the missing values with the mean of each class."
   ]
  },
  {
   "cell_type": "code",
   "execution_count": 18,
   "metadata": {},
   "outputs": [
    {
     "name": "stderr",
     "output_type": "stream",
     "text": [
      "Warning message:\n",
      "\"Removed 177 rows containing non-finite values (stat_boxplot).\""
     ]
    },
    {
     "data": {},
     "metadata": {},
     "output_type": "display_data"
    },
    {
     "data": {
      "image/png": "[encoded data removed]",
      "text/plain": [
       "plot without title"
      ]
     },
     "metadata": {},
     "output_type": "display_data"
    }
   ],
   "source": [
    "ggplot(training_set,aes(Pclass,Age)) + geom_boxplot(aes(group = Pclass, fill = factor(Pclass)), alpha = 0.5) +\n",
    "scale_y_continuous(breaks = seq(min(0), max(80), by = 2))"
   ]
  },
  {
   "cell_type": "markdown",
   "metadata": {},
   "source": [
    "as we can, most of the richer passengers n the higher classes tend to be older. we'll use these averge age values to impute based on Pclass for age."
   ]
  },
  {
   "cell_type": "code",
   "execution_count": 19,
   "metadata": {},
   "outputs": [],
   "source": [
    "impute_age <- function(age,class){\n",
    "    out = age\n",
    "    for (i in 1:length(age)){\n",
    "        \n",
    "        if (is.na(age[i])){\n",
    "\n",
    "            if (class[i] == 1){\n",
    "                out[i] <- 37\n",
    "\n",
    "            }else if (class[i] == 2){\n",
    "                out[i] <- 29\n",
    "\n",
    "            }else{\n",
    "                out[i] <- 24\n",
    "            }\n",
    "        }else{\n",
    "            out[i]<-age[i]\n",
    "        }\n",
    "    }\n",
    "    return(out)\n",
    "}"
   ]
  },
  {
   "cell_type": "code",
   "execution_count": 20,
   "metadata": {},
   "outputs": [],
   "source": [
    "fixedAge = impute_age(training_set$Age, training_set$Pclass)"
   ]
  },
  {
   "cell_type": "code",
   "execution_count": 21,
   "metadata": {},
   "outputs": [],
   "source": [
    "training_set$Age = fixedAge"
   ]
  },
  {
   "cell_type": "markdown",
   "metadata": {},
   "source": [
    "## now let's check whether we have any null values in 'Age' column or not?"
   ]
  },
  {
   "cell_type": "code",
   "execution_count": 22,
   "metadata": {},
   "outputs": [
    {
     "data": {
      "text/html": [
       "FALSE"
      ],
      "text/latex": [
       "FALSE"
      ],
      "text/markdown": [
       "FALSE"
      ],
      "text/plain": [
       "[1] FALSE"
      ]
     },
     "metadata": {},
     "output_type": "display_data"
    }
   ],
   "source": [
    "any(is.na(training_set$Age))"
   ]
  },
  {
   "cell_type": "code",
   "execution_count": 23,
   "metadata": {},
   "outputs": [
    {
     "data": {
      "image/png": "[encoded data removed]",
      "text/plain": [
       "Plot with title \"Missingness Map\""
      ]
     },
     "metadata": {},
     "output_type": "display_data"
    }
   ],
   "source": [
    "missmap(obj = training_set, legend = FALSE,col = c('green', 'black') )"
   ]
  },
  {
   "cell_type": "markdown",
   "metadata": {},
   "source": [
    "### now, let's remove the features which are not required for model building."
   ]
  },
  {
   "cell_type": "code",
   "execution_count": 24,
   "metadata": {},
   "outputs": [
    {
     "name": "stderr",
     "output_type": "stream",
     "text": [
      "\n",
      "Attaching package: 'dplyr'\n",
      "\n",
      "The following objects are masked from 'package:stats':\n",
      "\n",
      "    filter, lag\n",
      "\n",
      "The following objects are masked from 'package:base':\n",
      "\n",
      "    intersect, setdiff, setequal, union\n",
      "\n"
     ]
    }
   ],
   "source": [
    "library(dplyr)\n",
    "training = select(training_set, -PassengerId,-Name,-Ticket,-Cabin, -Embarked)"
   ]
  },
  {
   "cell_type": "code",
   "execution_count": 25,
   "metadata": {},
   "outputs": [
    {
     "data": {
      "text/html": [
       "<table>\n",
       "<thead><tr><th scope=col>Survived</th><th scope=col>Pclass</th><th scope=col>Sex</th><th scope=col>Age</th><th scope=col>SibSp</th><th scope=col>Parch</th><th scope=col>Fare</th></tr></thead>\n",
       "<tbody>\n",
       "\t<tr><td>0      </td><td>3      </td><td>male   </td><td>22     </td><td>1      </td><td>0      </td><td> 7.2500</td></tr>\n",
       "\t<tr><td>1      </td><td>1      </td><td>female </td><td>38     </td><td>1      </td><td>0      </td><td>71.2833</td></tr>\n",
       "\t<tr><td>1      </td><td>3      </td><td>female </td><td>26     </td><td>0      </td><td>0      </td><td> 7.9250</td></tr>\n",
       "\t<tr><td>1      </td><td>1      </td><td>female </td><td>35     </td><td>1      </td><td>0      </td><td>53.1000</td></tr>\n",
       "\t<tr><td>0      </td><td>3      </td><td>male   </td><td>35     </td><td>0      </td><td>0      </td><td> 8.0500</td></tr>\n",
       "\t<tr><td>0      </td><td>3      </td><td>male   </td><td>24     </td><td>0      </td><td>0      </td><td> 8.4583</td></tr>\n",
       "</tbody>\n",
       "</table>\n"
      ],
      "text/latex": [
       "\\begin{tabular}{r|lllllll}\n",
       " Survived & Pclass & Sex & Age & SibSp & Parch & Fare\\\\\n",
       "\\hline\n",
       "\t 0       & 3       & male    & 22      & 1       & 0       &  7.2500\\\\\n",
       "\t 1       & 1       & female  & 38      & 1       & 0       & 71.2833\\\\\n",
       "\t 1       & 3       & female  & 26      & 0       & 0       &  7.9250\\\\\n",
       "\t 1       & 1       & female  & 35      & 1       & 0       & 53.1000\\\\\n",
       "\t 0       & 3       & male    & 35      & 0       & 0       &  8.0500\\\\\n",
       "\t 0       & 3       & male    & 24      & 0       & 0       &  8.4583\\\\\n",
       "\\end{tabular}\n"
      ],
      "text/markdown": [
       "\n",
       "Survived | Pclass | Sex | Age | SibSp | Parch | Fare | \n",
       "|---|---|---|---|---|---|\n",
       "| 0       | 3       | male    | 22      | 1       | 0       |  7.2500 | \n",
       "| 1       | 1       | female  | 38      | 1       | 0       | 71.2833 | \n",
       "| 1       | 3       | female  | 26      | 0       | 0       |  7.9250 | \n",
       "| 1       | 1       | female  | 35      | 1       | 0       | 53.1000 | \n",
       "| 0       | 3       | male    | 35      | 0       | 0       |  8.0500 | \n",
       "| 0       | 3       | male    | 24      | 0       | 0       |  8.4583 | \n",
       "\n",
       "\n"
      ],
      "text/plain": [
       "  Survived Pclass Sex    Age SibSp Parch Fare   \n",
       "1 0        3      male   22  1     0      7.2500\n",
       "2 1        1      female 38  1     0     71.2833\n",
       "3 1        3      female 26  0     0      7.9250\n",
       "4 1        1      female 35  1     0     53.1000\n",
       "5 0        3      male   35  0     0      8.0500\n",
       "6 0        3      male   24  0     0      8.4583"
      ]
     },
     "metadata": {},
     "output_type": "display_data"
    }
   ],
   "source": [
    "head(training)"
   ]
  },
  {
   "cell_type": "code",
   "execution_count": 26,
   "metadata": {},
   "outputs": [
    {
     "name": "stdout",
     "output_type": "stream",
     "text": [
      "'data.frame':\t891 obs. of  7 variables:\n",
      " $ Survived: int  0 1 1 1 0 0 0 0 1 1 ...\n",
      " $ Pclass  : int  3 1 3 1 3 3 1 3 3 2 ...\n",
      " $ Sex     : Factor w/ 2 levels \"female\",\"male\": 2 1 1 1 2 2 2 2 1 1 ...\n",
      " $ Age     : num  22 38 26 35 35 24 54 2 27 14 ...\n",
      " $ SibSp   : int  1 1 0 1 0 0 0 3 0 1 ...\n",
      " $ Parch   : int  0 0 0 0 0 0 0 1 2 0 ...\n",
      " $ Fare    : num  7.25 71.28 7.92 53.1 8.05 ...\n"
     ]
    }
   ],
   "source": [
    "str(training)"
   ]
  },
  {
   "cell_type": "code",
   "execution_count": 27,
   "metadata": {},
   "outputs": [],
   "source": [
    "# some of the column features are not in factor format.\n",
    "# let's convert them into factor\n",
    "training$Survived <- factor(training$Survived)\n",
    "training$Pclass <- factor(training$Pclass)\n",
    "training$Parch <- factor(training$Parch)\n",
    "training$SibSp <- factor(training$SibSp)"
   ]
  },
  {
   "cell_type": "code",
   "execution_count": 28,
   "metadata": {},
   "outputs": [],
   "source": [
    "# converting the 'Sex' Column into numeric\n",
    "training$Sex = ifelse(training$Sex==\"male\", 1, 0)"
   ]
  },
  {
   "cell_type": "code",
   "execution_count": 29,
   "metadata": {},
   "outputs": [
    {
     "data": {
      "text/html": [
       "<table>\n",
       "<thead><tr><th scope=col>Survived</th><th scope=col>Pclass</th><th scope=col>Sex</th><th scope=col>Age</th><th scope=col>SibSp</th><th scope=col>Parch</th><th scope=col>Fare</th></tr></thead>\n",
       "<tbody>\n",
       "\t<tr><td>0      </td><td>3      </td><td>1      </td><td>22     </td><td>1      </td><td>0      </td><td> 7.2500</td></tr>\n",
       "\t<tr><td>1      </td><td>1      </td><td>0      </td><td>38     </td><td>1      </td><td>0      </td><td>71.2833</td></tr>\n",
       "\t<tr><td>1      </td><td>3      </td><td>0      </td><td>26     </td><td>0      </td><td>0      </td><td> 7.9250</td></tr>\n",
       "\t<tr><td>1      </td><td>1      </td><td>0      </td><td>35     </td><td>1      </td><td>0      </td><td>53.1000</td></tr>\n",
       "\t<tr><td>0      </td><td>3      </td><td>1      </td><td>35     </td><td>0      </td><td>0      </td><td> 8.0500</td></tr>\n",
       "\t<tr><td>0      </td><td>3      </td><td>1      </td><td>24     </td><td>0      </td><td>0      </td><td> 8.4583</td></tr>\n",
       "</tbody>\n",
       "</table>\n"
      ],
      "text/latex": [
       "\\begin{tabular}{r|lllllll}\n",
       " Survived & Pclass & Sex & Age & SibSp & Parch & Fare\\\\\n",
       "\\hline\n",
       "\t 0       & 3       & 1       & 22      & 1       & 0       &  7.2500\\\\\n",
       "\t 1       & 1       & 0       & 38      & 1       & 0       & 71.2833\\\\\n",
       "\t 1       & 3       & 0       & 26      & 0       & 0       &  7.9250\\\\\n",
       "\t 1       & 1       & 0       & 35      & 1       & 0       & 53.1000\\\\\n",
       "\t 0       & 3       & 1       & 35      & 0       & 0       &  8.0500\\\\\n",
       "\t 0       & 3       & 1       & 24      & 0       & 0       &  8.4583\\\\\n",
       "\\end{tabular}\n"
      ],
      "text/markdown": [
       "\n",
       "Survived | Pclass | Sex | Age | SibSp | Parch | Fare | \n",
       "|---|---|---|---|---|---|\n",
       "| 0       | 3       | 1       | 22      | 1       | 0       |  7.2500 | \n",
       "| 1       | 1       | 0       | 38      | 1       | 0       | 71.2833 | \n",
       "| 1       | 3       | 0       | 26      | 0       | 0       |  7.9250 | \n",
       "| 1       | 1       | 0       | 35      | 1       | 0       | 53.1000 | \n",
       "| 0       | 3       | 1       | 35      | 0       | 0       |  8.0500 | \n",
       "| 0       | 3       | 1       | 24      | 0       | 0       |  8.4583 | \n",
       "\n",
       "\n"
      ],
      "text/plain": [
       "  Survived Pclass Sex Age SibSp Parch Fare   \n",
       "1 0        3      1   22  1     0      7.2500\n",
       "2 1        1      0   38  1     0     71.2833\n",
       "3 1        3      0   26  0     0      7.9250\n",
       "4 1        1      0   35  1     0     53.1000\n",
       "5 0        3      1   35  0     0      8.0500\n",
       "6 0        3      1   24  0     0      8.4583"
      ]
     },
     "metadata": {},
     "output_type": "display_data"
    }
   ],
   "source": [
    "head(training)"
   ]
  },
  {
   "cell_type": "markdown",
   "metadata": {},
   "source": [
    "# Model Building with glm()"
   ]
  },
  {
   "cell_type": "code",
   "execution_count": 30,
   "metadata": {},
   "outputs": [],
   "source": [
    "classifier = glm(formula = training$Survived ~. , data = training, family = binomial(link = 'logit'))"
   ]
  },
  {
   "cell_type": "code",
   "execution_count": 31,
   "metadata": {},
   "outputs": [
    {
     "data": {
      "text/plain": [
       "\n",
       "Call:\n",
       "glm(formula = training$Survived ~ ., family = binomial(link = \"logit\"), \n",
       "    data = training)\n",
       "\n",
       "Deviance Residuals: \n",
       "    Min       1Q   Median       3Q      Max  \n",
       "-2.8761  -0.6172  -0.4177   0.5970   2.4600  \n",
       "\n",
       "Coefficients:\n",
       "              Estimate Std. Error z value Pr(>|z|)    \n",
       "(Intercept)  3.731e+00  4.906e-01   7.606 2.82e-14 ***\n",
       "Pclass2     -1.155e+00  3.047e-01  -3.790 0.000151 ***\n",
       "Pclass3     -2.197e+00  3.106e-01  -7.073 1.52e-12 ***\n",
       "Sex         -2.718e+00  2.013e-01 -13.502  < 2e-16 ***\n",
       "Age         -4.029e-02  8.736e-03  -4.611 4.00e-06 ***\n",
       "SibSp1       6.746e-02  2.245e-01   0.300 0.763804    \n",
       "SibSp2      -3.068e-01  5.357e-01  -0.573 0.566913    \n",
       "SibSp3      -2.390e+00  7.178e-01  -3.329 0.000871 ***\n",
       "SibSp4      -1.752e+00  7.665e-01  -2.285 0.022298 *  \n",
       "SibSp5      -1.605e+01  9.564e+02  -0.017 0.986608    \n",
       "SibSp8      -1.619e+01  7.548e+02  -0.021 0.982884    \n",
       "Parch1       3.784e-01  2.893e-01   1.308 0.190953    \n",
       "Parch2       8.439e-03  3.809e-01   0.022 0.982327    \n",
       "Parch3       3.353e-01  1.043e+00   0.321 0.747965    \n",
       "Parch4      -1.598e+01  1.052e+03  -0.015 0.987881    \n",
       "Parch5      -1.201e+00  1.170e+00  -1.026 0.304882    \n",
       "Parch6      -1.656e+01  2.400e+03  -0.007 0.994495    \n",
       "Fare         2.595e-03  2.478e-03   1.047 0.295031    \n",
       "---\n",
       "Signif. codes:  0 '***' 0.001 '**' 0.01 '*' 0.05 '.' 0.1 ' ' 1\n",
       "\n",
       "(Dispersion parameter for binomial family taken to be 1)\n",
       "\n",
       "    Null deviance: 1186.66  on 890  degrees of freedom\n",
       "Residual deviance:  765.94  on 873  degrees of freedom\n",
       "AIC: 801.94\n",
       "\n",
       "Number of Fisher Scoring iterations: 15\n"
      ]
     },
     "metadata": {},
     "output_type": "display_data"
    }
   ],
   "source": [
    "#let's check the summary of our model\n",
    "summary(classifier)"
   ]
  },
  {
   "cell_type": "markdown",
   "metadata": {},
   "source": [
    "### We can see clearly that Sex,Age, and Class are the most significant features"
   ]
  },
  {
   "cell_type": "code",
   "execution_count": 32,
   "metadata": {},
   "outputs": [
    {
     "name": "stderr",
     "output_type": "stream",
     "text": [
      "Warning message:\n",
      "\"package 'pscl' was built under R version 3.5.2\"Classes and Methods for R developed in the\n",
      "Political Science Computational Laboratory\n",
      "Department of Political Science\n",
      "Stanford University\n",
      "Simon Jackman\n",
      "hurdle and zeroinfl functions by Achim Zeileis\n"
     ]
    },
    {
     "data": {
      "text/html": [
       "<dl class=dl-horizontal>\n",
       "\t<dt>llh</dt>\n",
       "\t\t<dd>-382.968368389706</dd>\n",
       "\t<dt>llhNull</dt>\n",
       "\t\t<dd>-593.327568412348</dd>\n",
       "\t<dt>G2</dt>\n",
       "\t\t<dd>420.718400045283</dd>\n",
       "\t<dt>McFadden</dt>\n",
       "\t\t<dd>0.354541422347069</dd>\n",
       "\t<dt>r2ML</dt>\n",
       "\t\t<dd>0.376362966230874</dd>\n",
       "\t<dt>r2CU</dt>\n",
       "\t\t<dd>0.511359466246419</dd>\n",
       "</dl>\n"
      ],
      "text/latex": [
       "\\begin{description*}\n",
       "\\item[llh] -382.968368389706\n",
       "\\item[llhNull] -593.327568412348\n",
       "\\item[G2] 420.718400045283\n",
       "\\item[McFadden] 0.354541422347069\n",
       "\\item[r2ML] 0.376362966230874\n",
       "\\item[r2CU] 0.511359466246419\n",
       "\\end{description*}\n"
      ],
      "text/markdown": [
       "llh\n",
       ":   -382.968368389706llhNull\n",
       ":   -593.327568412348G2\n",
       ":   420.718400045283McFadden\n",
       ":   0.354541422347069r2ML\n",
       ":   0.376362966230874r2CU\n",
       ":   0.511359466246419\n",
       "\n"
      ],
      "text/plain": [
       "         llh      llhNull           G2     McFadden         r2ML         r2CU \n",
       "-382.9683684 -593.3275684  420.7184000    0.3545414    0.3763630    0.5113595 "
      ]
     },
     "metadata": {},
     "output_type": "display_data"
    }
   ],
   "source": [
    "#install.packages(\"pscl\")\n",
    "library(pscl)\n",
    "pR2(classifier)"
   ]
  },
  {
   "cell_type": "code",
   "execution_count": 33,
   "metadata": {},
   "outputs": [
    {
     "name": "stderr",
     "output_type": "stream",
     "text": [
      "Warning message:\n",
      "\"package 'caret' was built under R version 3.5.2\"Loading required package: lattice\n",
      "Warning message:\n",
      "\"package 'lattice' was built under R version 3.5.2\""
     ]
    }
   ],
   "source": [
    "library(caret)"
   ]
  },
  {
   "cell_type": "code",
   "execution_count": 34,
   "metadata": {},
   "outputs": [
    {
     "data": {
      "text/html": [
       "<table>\n",
       "<thead><tr><th></th><th scope=col>Overall</th></tr></thead>\n",
       "<tbody>\n",
       "\t<tr><th scope=row>Pclass2</th><td> 3.789958505</td></tr>\n",
       "\t<tr><th scope=row>Pclass3</th><td> 7.073061097</td></tr>\n",
       "\t<tr><th scope=row>Sex</th><td>13.502225297</td></tr>\n",
       "\t<tr><th scope=row>Age</th><td> 4.611253859</td></tr>\n",
       "\t<tr><th scope=row>SibSp1</th><td> 0.300489705</td></tr>\n",
       "\t<tr><th scope=row>SibSp2</th><td> 0.572604010</td></tr>\n",
       "\t<tr><th scope=row>SibSp3</th><td> 3.329101057</td></tr>\n",
       "\t<tr><th scope=row>SibSp4</th><td> 2.285257091</td></tr>\n",
       "\t<tr><th scope=row>SibSp5</th><td> 0.016785457</td></tr>\n",
       "\t<tr><th scope=row>SibSp8</th><td> 0.021453288</td></tr>\n",
       "\t<tr><th scope=row>Parch1</th><td> 1.307766512</td></tr>\n",
       "\t<tr><th scope=row>Parch2</th><td> 0.022152054</td></tr>\n",
       "\t<tr><th scope=row>Parch3</th><td> 0.321323591</td></tr>\n",
       "\t<tr><th scope=row>Parch4</th><td> 0.015190015</td></tr>\n",
       "\t<tr><th scope=row>Parch5</th><td> 1.026019991</td></tr>\n",
       "\t<tr><th scope=row>Parch6</th><td> 0.006900112</td></tr>\n",
       "\t<tr><th scope=row>Fare</th><td> 1.047149777</td></tr>\n",
       "</tbody>\n",
       "</table>\n"
      ],
      "text/latex": [
       "\\begin{tabular}{r|l}\n",
       "  & Overall\\\\\n",
       "\\hline\n",
       "\tPclass2 &  3.789958505\\\\\n",
       "\tPclass3 &  7.073061097\\\\\n",
       "\tSex & 13.502225297\\\\\n",
       "\tAge &  4.611253859\\\\\n",
       "\tSibSp1 &  0.300489705\\\\\n",
       "\tSibSp2 &  0.572604010\\\\\n",
       "\tSibSp3 &  3.329101057\\\\\n",
       "\tSibSp4 &  2.285257091\\\\\n",
       "\tSibSp5 &  0.016785457\\\\\n",
       "\tSibSp8 &  0.021453288\\\\\n",
       "\tParch1 &  1.307766512\\\\\n",
       "\tParch2 &  0.022152054\\\\\n",
       "\tParch3 &  0.321323591\\\\\n",
       "\tParch4 &  0.015190015\\\\\n",
       "\tParch5 &  1.026019991\\\\\n",
       "\tParch6 &  0.006900112\\\\\n",
       "\tFare &  1.047149777\\\\\n",
       "\\end{tabular}\n"
      ],
      "text/markdown": [
       "\n",
       "| <!--/--> | Overall | \n",
       "|---|---|---|---|---|---|---|---|---|---|---|---|---|---|---|---|---|\n",
       "| Pclass2 |  3.789958505 | \n",
       "| Pclass3 |  7.073061097 | \n",
       "| Sex | 13.502225297 | \n",
       "| Age |  4.611253859 | \n",
       "| SibSp1 |  0.300489705 | \n",
       "| SibSp2 |  0.572604010 | \n",
       "| SibSp3 |  3.329101057 | \n",
       "| SibSp4 |  2.285257091 | \n",
       "| SibSp5 |  0.016785457 | \n",
       "| SibSp8 |  0.021453288 | \n",
       "| Parch1 |  1.307766512 | \n",
       "| Parch2 |  0.022152054 | \n",
       "| Parch3 |  0.321323591 | \n",
       "| Parch4 |  0.015190015 | \n",
       "| Parch5 |  1.026019991 | \n",
       "| Parch6 |  0.006900112 | \n",
       "| Fare |  1.047149777 | \n",
       "\n",
       "\n"
      ],
      "text/plain": [
       "        Overall     \n",
       "Pclass2  3.789958505\n",
       "Pclass3  7.073061097\n",
       "Sex     13.502225297\n",
       "Age      4.611253859\n",
       "SibSp1   0.300489705\n",
       "SibSp2   0.572604010\n",
       "SibSp3   3.329101057\n",
       "SibSp4   2.285257091\n",
       "SibSp5   0.016785457\n",
       "SibSp8   0.021453288\n",
       "Parch1   1.307766512\n",
       "Parch2   0.022152054\n",
       "Parch3   0.321323591\n",
       "Parch4   0.015190015\n",
       "Parch5   1.026019991\n",
       "Parch6   0.006900112\n",
       "Fare     1.047149777"
      ]
     },
     "metadata": {},
     "output_type": "display_data"
    }
   ],
   "source": [
    "varImp(classifier)"
   ]
  },
  {
   "cell_type": "markdown",
   "metadata": {},
   "source": [
    "# building an optimum model\n",
    "### let's get rid of the features which are insignificant"
   ]
  },
  {
   "cell_type": "code",
   "execution_count": 35,
   "metadata": {},
   "outputs": [
    {
     "name": "stderr",
     "output_type": "stream",
     "text": [
      "Warning message:\n",
      "\"package 'ggpubr' was built under R version 3.5.2\"Loading required package: magrittr\n"
     ]
    }
   ],
   "source": [
    "# at first let's look at the correlation among the variables.\n",
    "# if any variable which are highly correlates with each other\n",
    "# one of them, need to be removed.\n",
    "library(\"ggpubr\")"
   ]
  },
  {
   "cell_type": "code",
   "execution_count": 36,
   "metadata": {},
   "outputs": [],
   "source": [
    "copy = data.frame(training)"
   ]
  },
  {
   "cell_type": "code",
   "execution_count": 37,
   "metadata": {},
   "outputs": [],
   "source": [
    "copy$Survived = as.numeric(copy$Survived)\n",
    "copy$Pclass = as.numeric(copy$Pclass)\n",
    "copy$SibSp = as.numeric(copy$SibSp)\n",
    "copy$Parch = as.numeric(copy$Parch)"
   ]
  },
  {
   "cell_type": "code",
   "execution_count": 38,
   "metadata": {},
   "outputs": [
    {
     "name": "stdout",
     "output_type": "stream",
     "text": [
      "'data.frame':\t891 obs. of  7 variables:\n",
      " $ Survived: num  1 2 2 2 1 1 1 1 2 2 ...\n",
      " $ Pclass  : num  3 1 3 1 3 3 1 3 3 2 ...\n",
      " $ Sex     : num  1 0 0 0 1 1 1 1 0 0 ...\n",
      " $ Age     : num  22 38 26 35 35 24 54 2 27 14 ...\n",
      " $ SibSp   : num  2 2 1 2 1 1 1 4 1 2 ...\n",
      " $ Parch   : num  1 1 1 1 1 1 1 2 3 1 ...\n",
      " $ Fare    : num  7.25 71.28 7.92 53.1 8.05 ...\n"
     ]
    }
   ],
   "source": [
    "str(copy)"
   ]
  },
  {
   "cell_type": "code",
   "execution_count": 39,
   "metadata": {},
   "outputs": [
    {
     "data": {
      "text/html": [
       "<table>\n",
       "<thead><tr><th></th><th scope=col>Survived</th><th scope=col>Pclass</th><th scope=col>Sex</th><th scope=col>Age</th><th scope=col>SibSp</th><th scope=col>Parch</th><th scope=col>Fare</th></tr></thead>\n",
       "<tbody>\n",
       "\t<tr><th scope=row>Survived</th><td> 1.00000000</td><td>-0.33848104</td><td>-0.54335138</td><td>-0.04725461</td><td>-0.02638493</td><td> 0.08162941</td><td> 0.2573065 </td></tr>\n",
       "\t<tr><th scope=row>Pclass</th><td>-0.33848104</td><td> 1.00000000</td><td> 0.13190049</td><td>-0.40848699</td><td> 0.07814137</td><td> 0.01844267</td><td>-0.5494996 </td></tr>\n",
       "\t<tr><th scope=row>Sex</th><td>-0.54335138</td><td> 0.13190049</td><td> 1.00000000</td><td> 0.07842086</td><td>-0.12316372</td><td>-0.24548896</td><td>-0.1823328 </td></tr>\n",
       "\t<tr><th scope=row>Age</th><td>-0.04725461</td><td>-0.40848699</td><td> 0.07842086</td><td> 1.00000000</td><td>-0.26096468</td><td>-0.17109485</td><td> 0.1237837 </td></tr>\n",
       "\t<tr><th scope=row>SibSp</th><td>-0.02638493</td><td> 0.07814137</td><td>-0.12316372</td><td>-0.26096468</td><td> 1.00000000</td><td> 0.42333829</td><td> 0.1632538 </td></tr>\n",
       "\t<tr><th scope=row>Parch</th><td> 0.08162941</td><td> 0.01844267</td><td>-0.24548896</td><td>-0.17109485</td><td> 0.42333829</td><td> 1.00000000</td><td> 0.2162249 </td></tr>\n",
       "\t<tr><th scope=row>Fare</th><td> 0.25730652</td><td>-0.54949962</td><td>-0.18233283</td><td> 0.12378372</td><td> 0.16325376</td><td> 0.21622494</td><td> 1.0000000 </td></tr>\n",
       "</tbody>\n",
       "</table>\n"
      ],
      "text/latex": [
       "\\begin{tabular}{r|lllllll}\n",
       "  & Survived & Pclass & Sex & Age & SibSp & Parch & Fare\\\\\n",
       "\\hline\n",
       "\tSurvived &  1.00000000 & -0.33848104 & -0.54335138 & -0.04725461 & -0.02638493 &  0.08162941 &  0.2573065 \\\\\n",
       "\tPclass & -0.33848104 &  1.00000000 &  0.13190049 & -0.40848699 &  0.07814137 &  0.01844267 & -0.5494996 \\\\\n",
       "\tSex & -0.54335138 &  0.13190049 &  1.00000000 &  0.07842086 & -0.12316372 & -0.24548896 & -0.1823328 \\\\\n",
       "\tAge & -0.04725461 & -0.40848699 &  0.07842086 &  1.00000000 & -0.26096468 & -0.17109485 &  0.1237837 \\\\\n",
       "\tSibSp & -0.02638493 &  0.07814137 & -0.12316372 & -0.26096468 &  1.00000000 &  0.42333829 &  0.1632538 \\\\\n",
       "\tParch &  0.08162941 &  0.01844267 & -0.24548896 & -0.17109485 &  0.42333829 &  1.00000000 &  0.2162249 \\\\\n",
       "\tFare &  0.25730652 & -0.54949962 & -0.18233283 &  0.12378372 &  0.16325376 &  0.21622494 &  1.0000000 \\\\\n",
       "\\end{tabular}\n"
      ],
      "text/markdown": [
       "\n",
       "| <!--/--> | Survived | Pclass | Sex | Age | SibSp | Parch | Fare | \n",
       "|---|---|---|---|---|---|---|\n",
       "| Survived |  1.00000000 | -0.33848104 | -0.54335138 | -0.04725461 | -0.02638493 |  0.08162941 |  0.2573065  | \n",
       "| Pclass | -0.33848104 |  1.00000000 |  0.13190049 | -0.40848699 |  0.07814137 |  0.01844267 | -0.5494996  | \n",
       "| Sex | -0.54335138 |  0.13190049 |  1.00000000 |  0.07842086 | -0.12316372 | -0.24548896 | -0.1823328  | \n",
       "| Age | -0.04725461 | -0.40848699 |  0.07842086 |  1.00000000 | -0.26096468 | -0.17109485 |  0.1237837  | \n",
       "| SibSp | -0.02638493 |  0.07814137 | -0.12316372 | -0.26096468 |  1.00000000 |  0.42333829 |  0.1632538  | \n",
       "| Parch |  0.08162941 |  0.01844267 | -0.24548896 | -0.17109485 |  0.42333829 |  1.00000000 |  0.2162249  | \n",
       "| Fare |  0.25730652 | -0.54949962 | -0.18233283 |  0.12378372 |  0.16325376 |  0.21622494 |  1.0000000  | \n",
       "\n",
       "\n"
      ],
      "text/plain": [
       "         Survived    Pclass      Sex         Age         SibSp      \n",
       "Survived  1.00000000 -0.33848104 -0.54335138 -0.04725461 -0.02638493\n",
       "Pclass   -0.33848104  1.00000000  0.13190049 -0.40848699  0.07814137\n",
       "Sex      -0.54335138  0.13190049  1.00000000  0.07842086 -0.12316372\n",
       "Age      -0.04725461 -0.40848699  0.07842086  1.00000000 -0.26096468\n",
       "SibSp    -0.02638493  0.07814137 -0.12316372 -0.26096468  1.00000000\n",
       "Parch     0.08162941  0.01844267 -0.24548896 -0.17109485  0.42333829\n",
       "Fare      0.25730652 -0.54949962 -0.18233283  0.12378372  0.16325376\n",
       "         Parch       Fare      \n",
       "Survived  0.08162941  0.2573065\n",
       "Pclass    0.01844267 -0.5494996\n",
       "Sex      -0.24548896 -0.1823328\n",
       "Age      -0.17109485  0.1237837\n",
       "SibSp     0.42333829  0.1632538\n",
       "Parch     1.00000000  0.2162249\n",
       "Fare      0.21622494  1.0000000"
      ]
     },
     "metadata": {},
     "output_type": "display_data"
    }
   ],
   "source": [
    "cor(copy)"
   ]
  },
  {
   "cell_type": "code",
   "execution_count": 40,
   "metadata": {},
   "outputs": [
    {
     "name": "stderr",
     "output_type": "stream",
     "text": [
      "Warning message:\n",
      "\"package 'ggcorrplot' was built under R version 3.5.2\""
     ]
    },
    {
     "data": {},
     "metadata": {},
     "output_type": "display_data"
    },
    {
     "data": {
      "image/png": "[encoded data removed]",
      "text/plain": [
       "plot without title"
      ]
     },
     "metadata": {},
     "output_type": "display_data"
    }
   ],
   "source": [
    "library(ggcorrplot)\n",
    "ggcorrplot(cor(copy), lab = TRUE)"
   ]
  },
  {
   "cell_type": "code",
   "execution_count": 49,
   "metadata": {},
   "outputs": [
    {
     "data": {
      "text/html": [
       "<table>\n",
       "<thead><tr><th scope=col>Variables</th><th scope=col>VIF</th></tr></thead>\n",
       "<tbody>\n",
       "\t<tr><td>Survived</td><td>1.657679</td></tr>\n",
       "\t<tr><td>Pclass  </td><td>1.931226</td></tr>\n",
       "\t<tr><td>Sex     </td><td>1.519158</td></tr>\n",
       "\t<tr><td>Age     </td><td>1.356931</td></tr>\n",
       "\t<tr><td>SibSp   </td><td>1.317518</td></tr>\n",
       "\t<tr><td>Parch   </td><td>1.321441</td></tr>\n",
       "\t<tr><td>Fare    </td><td>1.596631</td></tr>\n",
       "</tbody>\n",
       "</table>\n"
      ],
      "text/latex": [
       "\\begin{tabular}{r|ll}\n",
       " Variables & VIF\\\\\n",
       "\\hline\n",
       "\t Survived & 1.657679\\\\\n",
       "\t Pclass   & 1.931226\\\\\n",
       "\t Sex      & 1.519158\\\\\n",
       "\t Age      & 1.356931\\\\\n",
       "\t SibSp    & 1.317518\\\\\n",
       "\t Parch    & 1.321441\\\\\n",
       "\t Fare     & 1.596631\\\\\n",
       "\\end{tabular}\n"
      ],
      "text/markdown": [
       "\n",
       "Variables | VIF | \n",
       "|---|---|---|---|---|---|---|\n",
       "| Survived | 1.657679 | \n",
       "| Pclass   | 1.931226 | \n",
       "| Sex      | 1.519158 | \n",
       "| Age      | 1.356931 | \n",
       "| SibSp    | 1.317518 | \n",
       "| Parch    | 1.321441 | \n",
       "| Fare     | 1.596631 | \n",
       "\n",
       "\n"
      ],
      "text/plain": [
       "  Variables VIF     \n",
       "1 Survived  1.657679\n",
       "2 Pclass    1.931226\n",
       "3 Sex       1.519158\n",
       "4 Age       1.356931\n",
       "5 SibSp     1.317518\n",
       "6 Parch     1.321441\n",
       "7 Fare      1.596631"
      ]
     },
     "metadata": {},
     "output_type": "display_data"
    }
   ],
   "source": [
    "# Multicollinearity\n",
    "#install.packages(\"usdm\")\n",
    "library(usdm)\n",
    "#?viv\n",
    "vif(copy)"
   ]
  },
  {
   "cell_type": "code",
   "execution_count": 51,
   "metadata": {},
   "outputs": [
    {
     "data": {
      "text/plain": [
       "No variable from the 6 input variables has collinearity problem. \n",
       "\n",
       "The linear correlation coefficients ranges between: \n",
       "min correlation ( Parch ~ Pclass ):  0.01844267 \n",
       "max correlation ( Fare ~ Pclass ):  -0.5494996 \n",
       "\n",
       "---------- VIFs of the remained variables -------- \n",
       "  Variables      VIF\n",
       "1    Pclass 1.768671\n",
       "2       Sex 1.102173\n",
       "3       Age 1.307652\n",
       "4     SibSp 1.300229\n",
       "5     Parch 1.319921\n",
       "6      Fare 1.594193"
      ]
     },
     "metadata": {},
     "output_type": "display_data"
    }
   ],
   "source": [
    "vifstep(copy[-1], th = 10)"
   ]
  },
  {
   "cell_type": "code",
   "execution_count": 52,
   "metadata": {},
   "outputs": [
    {
     "name": "stderr",
     "output_type": "stream",
     "text": [
      "Warning message:\n",
      "\"package 'MASS' was built under R version 3.5.2\"\n",
      "Attaching package: 'MASS'\n",
      "\n",
      "The following objects are masked from 'package:raster':\n",
      "\n",
      "    area, select\n",
      "\n",
      "The following object is masked from 'package:dplyr':\n",
      "\n",
      "    select\n",
      "\n"
     ]
    },
    {
     "name": "stdout",
     "output_type": "stream",
     "text": [
      "Start:  AIC=801.94\n",
      "training$Survived ~ Pclass + Sex + Age + SibSp + Parch + Fare\n",
      "\n",
      "         Df Deviance     AIC\n",
      "- Parch   6   774.45  798.45\n",
      "- Fare    1   767.14  801.14\n",
      "<none>        765.94  801.94\n",
      "- SibSp   6   791.95  815.95\n",
      "- Age     1   789.10  823.10\n",
      "- Pclass  2   819.12  851.12\n",
      "- Sex     1   993.04 1027.04\n",
      "\n",
      "Step:  AIC=798.45\n",
      "training$Survived ~ Pclass + Sex + Age + SibSp + Fare\n",
      "\n",
      "         Df Deviance     AIC\n",
      "- Fare    1   775.49  797.49\n",
      "<none>        774.45  798.45\n",
      "+ Parch   6   765.94  801.94\n",
      "- SibSp   6   802.55  814.55\n",
      "- Age     1   805.91  827.91\n",
      "- Pclass  2   838.94  858.94\n",
      "- Sex     1  1008.40 1030.40\n",
      "\n",
      "Step:  AIC=797.49\n",
      "training$Survived ~ Pclass + Sex + Age + SibSp\n",
      "\n",
      "         Df Deviance     AIC\n",
      "<none>        775.49  797.49\n",
      "+ Fare    1   774.45  798.45\n",
      "+ Parch   6   767.14  801.14\n",
      "- SibSp   6   802.60  812.60\n",
      "- Age     1   808.21  828.21\n",
      "- Pclass  2   882.44  900.44\n",
      "- Sex     1  1015.03 1035.03\n"
     ]
    }
   ],
   "source": [
    "#Select the model obtained from VIF for stepwise\n",
    "library(MASS)\n",
    "step=stepAIC(classifier, direction=\"both\")"
   ]
  },
  {
   "cell_type": "code",
   "execution_count": 126,
   "metadata": {},
   "outputs": [
    {
     "name": "stdout",
     "output_type": "stream",
     "text": [
      "'data.frame':\t891 obs. of  7 variables:\n",
      " $ Survived: Factor w/ 2 levels \"0\",\"1\": 1 2 2 2 1 1 1 1 2 2 ...\n",
      " $ Pclass  : Factor w/ 3 levels \"1\",\"2\",\"3\": 3 1 3 1 3 3 1 3 3 2 ...\n",
      " $ Sex     : num  1 0 0 0 1 1 1 1 0 0 ...\n",
      " $ Age     : num  22 38 26 35 35 24 54 2 27 14 ...\n",
      " $ SibSp   : Factor w/ 7 levels \"0\",\"1\",\"2\",\"3\",..: 2 2 1 2 1 1 1 4 1 2 ...\n",
      " $ Parch   : Factor w/ 7 levels \"0\",\"1\",\"2\",\"3\",..: 1 1 1 1 1 1 1 2 3 1 ...\n",
      " $ Fare    : num  7.25 71.28 7.92 53.1 8.05 ...\n"
     ]
    }
   ],
   "source": [
    "str(training)"
   ]
  },
  {
   "cell_type": "code",
   "execution_count": 127,
   "metadata": {},
   "outputs": [],
   "source": [
    "opt_model = glm(training$Survived ~ Pclass + Sex + Age + SibSp, data = training, family = binomial(link = \"logit\"))"
   ]
  },
  {
   "cell_type": "code",
   "execution_count": 128,
   "metadata": {},
   "outputs": [
    {
     "data": {
      "text/plain": [
       "\n",
       "Call:\n",
       "glm(formula = training$Survived ~ Pclass + Sex + Age + SibSp, \n",
       "    family = binomial(link = \"logit\"), data = training)\n",
       "\n",
       "Deviance Residuals: \n",
       "    Min       1Q   Median       3Q      Max  \n",
       "-2.8928  -0.5972  -0.4152   0.6185   2.5029  \n",
       "\n",
       "Coefficients:\n",
       "              Estimate Std. Error z value Pr(>|z|)    \n",
       "(Intercept)   4.130430   0.428922   9.630  < 2e-16 ***\n",
       "Pclass2      -1.314418   0.269634  -4.875 1.09e-06 ***\n",
       "Pclass3      -2.469048   0.260308  -9.485  < 2e-16 ***\n",
       "Sex          -2.709552   0.196019 -13.823  < 2e-16 ***\n",
       "Age          -0.045323   0.008349  -5.429 5.67e-08 ***\n",
       "SibSp1        0.128998   0.210963   0.611  0.54089    \n",
       "SibSp2       -0.171276   0.521623  -0.328  0.74265    \n",
       "SibSp3       -2.136903   0.687689  -3.107  0.00189 ** \n",
       "SibSp4       -1.674552   0.743564  -2.252  0.02432 *  \n",
       "SibSp5      -15.988273 958.419136  -0.017  0.98669    \n",
       "SibSp8      -16.009465 754.526717  -0.021  0.98307    \n",
       "---\n",
       "Signif. codes:  0 '***' 0.001 '**' 0.01 '*' 0.05 '.' 0.1 ' ' 1\n",
       "\n",
       "(Dispersion parameter for binomial family taken to be 1)\n",
       "\n",
       "    Null deviance: 1186.66  on 890  degrees of freedom\n",
       "Residual deviance:  775.49  on 880  degrees of freedom\n",
       "AIC: 797.49\n",
       "\n",
       "Number of Fisher Scoring iterations: 15\n"
      ]
     },
     "metadata": {},
     "output_type": "display_data"
    }
   ],
   "source": [
    "summary(opt_model)"
   ]
  },
  {
   "cell_type": "markdown",
   "metadata": {},
   "source": [
    "# Predicting using Test Cases"
   ]
  },
  {
   "cell_type": "code",
   "execution_count": 55,
   "metadata": {},
   "outputs": [
    {
     "data": {
      "text/html": [
       "<table>\n",
       "<thead><tr><th scope=col>PassengerId</th><th scope=col>Pclass</th><th scope=col>Name</th><th scope=col>Sex</th><th scope=col>Age</th><th scope=col>SibSp</th><th scope=col>Parch</th><th scope=col>Ticket</th><th scope=col>Fare</th><th scope=col>Cabin</th><th scope=col>Embarked</th></tr></thead>\n",
       "<tbody>\n",
       "\t<tr><td>892                                         </td><td>3                                           </td><td>Kelly, Mr. James                            </td><td>male                                        </td><td>34.5                                        </td><td>0                                           </td><td>0                                           </td><td>330911                                      </td><td> 7.8292                                     </td><td>                                            </td><td>Q                                           </td></tr>\n",
       "\t<tr><td>893                                         </td><td>3                                           </td><td>Wilkes, Mrs. James (Ellen Needs)            </td><td>female                                      </td><td>47.0                                        </td><td>1                                           </td><td>0                                           </td><td>363272                                      </td><td> 7.0000                                     </td><td>                                            </td><td>S                                           </td></tr>\n",
       "\t<tr><td>894                                         </td><td>2                                           </td><td>Myles, Mr. Thomas Francis                   </td><td>male                                        </td><td>62.0                                        </td><td>0                                           </td><td>0                                           </td><td>240276                                      </td><td> 9.6875                                     </td><td>                                            </td><td>Q                                           </td></tr>\n",
       "\t<tr><td>895                                         </td><td>3                                           </td><td>Wirz, Mr. Albert                            </td><td>male                                        </td><td>27.0                                        </td><td>0                                           </td><td>0                                           </td><td>315154                                      </td><td> 8.6625                                     </td><td>                                            </td><td>S                                           </td></tr>\n",
       "\t<tr><td>896                                         </td><td>3                                           </td><td>Hirvonen, Mrs. Alexander (Helga E Lindqvist)</td><td>female                                      </td><td>22.0                                        </td><td>1                                           </td><td>1                                           </td><td>3101298                                     </td><td>12.2875                                     </td><td>                                            </td><td>S                                           </td></tr>\n",
       "\t<tr><td>897                                         </td><td>3                                           </td><td>Svensson, Mr. Johan Cervin                  </td><td>male                                        </td><td>14.0                                        </td><td>0                                           </td><td>0                                           </td><td>7538                                        </td><td> 9.2250                                     </td><td>                                            </td><td>S                                           </td></tr>\n",
       "</tbody>\n",
       "</table>\n"
      ],
      "text/latex": [
       "\\begin{tabular}{r|lllllllllll}\n",
       " PassengerId & Pclass & Name & Sex & Age & SibSp & Parch & Ticket & Fare & Cabin & Embarked\\\\\n",
       "\\hline\n",
       "\t 892                                          & 3                                            & Kelly, Mr. James                             & male                                         & 34.5                                         & 0                                            & 0                                            & 330911                                       &  7.8292                                      &                                              & Q                                           \\\\\n",
       "\t 893                                          & 3                                            & Wilkes, Mrs. James (Ellen Needs)             & female                                       & 47.0                                         & 1                                            & 0                                            & 363272                                       &  7.0000                                      &                                              & S                                           \\\\\n",
       "\t 894                                          & 2                                            & Myles, Mr. Thomas Francis                    & male                                         & 62.0                                         & 0                                            & 0                                            & 240276                                       &  9.6875                                      &                                              & Q                                           \\\\\n",
       "\t 895                                          & 3                                            & Wirz, Mr. Albert                             & male                                         & 27.0                                         & 0                                            & 0                                            & 315154                                       &  8.6625                                      &                                              & S                                           \\\\\n",
       "\t 896                                          & 3                                            & Hirvonen, Mrs. Alexander (Helga E Lindqvist) & female                                       & 22.0                                         & 1                                            & 1                                            & 3101298                                      & 12.2875                                      &                                              & S                                           \\\\\n",
       "\t 897                                          & 3                                            & Svensson, Mr. Johan Cervin                   & male                                         & 14.0                                         & 0                                            & 0                                            & 7538                                         &  9.2250                                      &                                              & S                                           \\\\\n",
       "\\end{tabular}\n"
      ],
      "text/markdown": [
       "\n",
       "PassengerId | Pclass | Name | Sex | Age | SibSp | Parch | Ticket | Fare | Cabin | Embarked | \n",
       "|---|---|---|---|---|---|\n",
       "| 892                                          | 3                                            | Kelly, Mr. James                             | male                                         | 34.5                                         | 0                                            | 0                                            | 330911                                       |  7.8292                                      |                                              | Q                                            | \n",
       "| 893                                          | 3                                            | Wilkes, Mrs. James (Ellen Needs)             | female                                       | 47.0                                         | 1                                            | 0                                            | 363272                                       |  7.0000                                      |                                              | S                                            | \n",
       "| 894                                          | 2                                            | Myles, Mr. Thomas Francis                    | male                                         | 62.0                                         | 0                                            | 0                                            | 240276                                       |  9.6875                                      |                                              | Q                                            | \n",
       "| 895                                          | 3                                            | Wirz, Mr. Albert                             | male                                         | 27.0                                         | 0                                            | 0                                            | 315154                                       |  8.6625                                      |                                              | S                                            | \n",
       "| 896                                          | 3                                            | Hirvonen, Mrs. Alexander (Helga E Lindqvist) | female                                       | 22.0                                         | 1                                            | 1                                            | 3101298                                      | 12.2875                                      |                                              | S                                            | \n",
       "| 897                                          | 3                                            | Svensson, Mr. Johan Cervin                   | male                                         | 14.0                                         | 0                                            | 0                                            | 7538                                         |  9.2250                                      |                                              | S                                            | \n",
       "\n",
       "\n"
      ],
      "text/plain": [
       "  PassengerId Pclass Name                                         Sex    Age \n",
       "1 892         3      Kelly, Mr. James                             male   34.5\n",
       "2 893         3      Wilkes, Mrs. James (Ellen Needs)             female 47.0\n",
       "3 894         2      Myles, Mr. Thomas Francis                    male   62.0\n",
       "4 895         3      Wirz, Mr. Albert                             male   27.0\n",
       "5 896         3      Hirvonen, Mrs. Alexander (Helga E Lindqvist) female 22.0\n",
       "6 897         3      Svensson, Mr. Johan Cervin                   male   14.0\n",
       "  SibSp Parch Ticket  Fare    Cabin Embarked\n",
       "1 0     0     330911   7.8292       Q       \n",
       "2 1     0     363272   7.0000       S       \n",
       "3 0     0     240276   9.6875       Q       \n",
       "4 0     0     315154   8.6625       S       \n",
       "5 1     1     3101298 12.2875       S       \n",
       "6 0     0     7538     9.2250       S       "
      ]
     },
     "metadata": {},
     "output_type": "display_data"
    }
   ],
   "source": [
    "head(test_set)"
   ]
  },
  {
   "cell_type": "markdown",
   "metadata": {},
   "source": [
    "# we need to clean the test_set data likewise training_set data"
   ]
  },
  {
   "cell_type": "code",
   "execution_count": 141,
   "metadata": {},
   "outputs": [
    {
     "data": {
      "text/html": [
       "<table>\n",
       "<thead><tr><th scope=col>PassengerId</th><th scope=col>Pclass</th><th scope=col>Name</th><th scope=col>Sex</th><th scope=col>Age</th><th scope=col>SibSp</th><th scope=col>Parch</th><th scope=col>Ticket</th><th scope=col>Fare</th><th scope=col>Cabin</th><th scope=col>Embarked</th></tr></thead>\n",
       "<tbody>\n",
       "\t<tr><td>892                                         </td><td>3                                           </td><td>Kelly, Mr. James                            </td><td>male                                        </td><td>34.5                                        </td><td>0                                           </td><td>0                                           </td><td>330911                                      </td><td> 7.8292                                     </td><td>                                            </td><td>Q                                           </td></tr>\n",
       "\t<tr><td>893                                         </td><td>3                                           </td><td>Wilkes, Mrs. James (Ellen Needs)            </td><td>female                                      </td><td>47.0                                        </td><td>1                                           </td><td>0                                           </td><td>363272                                      </td><td> 7.0000                                     </td><td>                                            </td><td>S                                           </td></tr>\n",
       "\t<tr><td>894                                         </td><td>2                                           </td><td>Myles, Mr. Thomas Francis                   </td><td>male                                        </td><td>62.0                                        </td><td>0                                           </td><td>0                                           </td><td>240276                                      </td><td> 9.6875                                     </td><td>                                            </td><td>Q                                           </td></tr>\n",
       "\t<tr><td>895                                         </td><td>3                                           </td><td>Wirz, Mr. Albert                            </td><td>male                                        </td><td>27.0                                        </td><td>0                                           </td><td>0                                           </td><td>315154                                      </td><td> 8.6625                                     </td><td>                                            </td><td>S                                           </td></tr>\n",
       "\t<tr><td>896                                         </td><td>3                                           </td><td>Hirvonen, Mrs. Alexander (Helga E Lindqvist)</td><td>female                                      </td><td>22.0                                        </td><td>1                                           </td><td>1                                           </td><td>3101298                                     </td><td>12.2875                                     </td><td>                                            </td><td>S                                           </td></tr>\n",
       "\t<tr><td>897                                         </td><td>3                                           </td><td>Svensson, Mr. Johan Cervin                  </td><td>male                                        </td><td>14.0                                        </td><td>0                                           </td><td>0                                           </td><td>7538                                        </td><td> 9.2250                                     </td><td>                                            </td><td>S                                           </td></tr>\n",
       "</tbody>\n",
       "</table>\n"
      ],
      "text/latex": [
       "\\begin{tabular}{r|lllllllllll}\n",
       " PassengerId & Pclass & Name & Sex & Age & SibSp & Parch & Ticket & Fare & Cabin & Embarked\\\\\n",
       "\\hline\n",
       "\t 892                                          & 3                                            & Kelly, Mr. James                             & male                                         & 34.5                                         & 0                                            & 0                                            & 330911                                       &  7.8292                                      &                                              & Q                                           \\\\\n",
       "\t 893                                          & 3                                            & Wilkes, Mrs. James (Ellen Needs)             & female                                       & 47.0                                         & 1                                            & 0                                            & 363272                                       &  7.0000                                      &                                              & S                                           \\\\\n",
       "\t 894                                          & 2                                            & Myles, Mr. Thomas Francis                    & male                                         & 62.0                                         & 0                                            & 0                                            & 240276                                       &  9.6875                                      &                                              & Q                                           \\\\\n",
       "\t 895                                          & 3                                            & Wirz, Mr. Albert                             & male                                         & 27.0                                         & 0                                            & 0                                            & 315154                                       &  8.6625                                      &                                              & S                                           \\\\\n",
       "\t 896                                          & 3                                            & Hirvonen, Mrs. Alexander (Helga E Lindqvist) & female                                       & 22.0                                         & 1                                            & 1                                            & 3101298                                      & 12.2875                                      &                                              & S                                           \\\\\n",
       "\t 897                                          & 3                                            & Svensson, Mr. Johan Cervin                   & male                                         & 14.0                                         & 0                                            & 0                                            & 7538                                         &  9.2250                                      &                                              & S                                           \\\\\n",
       "\\end{tabular}\n"
      ],
      "text/markdown": [
       "\n",
       "PassengerId | Pclass | Name | Sex | Age | SibSp | Parch | Ticket | Fare | Cabin | Embarked | \n",
       "|---|---|---|---|---|---|\n",
       "| 892                                          | 3                                            | Kelly, Mr. James                             | male                                         | 34.5                                         | 0                                            | 0                                            | 330911                                       |  7.8292                                      |                                              | Q                                            | \n",
       "| 893                                          | 3                                            | Wilkes, Mrs. James (Ellen Needs)             | female                                       | 47.0                                         | 1                                            | 0                                            | 363272                                       |  7.0000                                      |                                              | S                                            | \n",
       "| 894                                          | 2                                            | Myles, Mr. Thomas Francis                    | male                                         | 62.0                                         | 0                                            | 0                                            | 240276                                       |  9.6875                                      |                                              | Q                                            | \n",
       "| 895                                          | 3                                            | Wirz, Mr. Albert                             | male                                         | 27.0                                         | 0                                            | 0                                            | 315154                                       |  8.6625                                      |                                              | S                                            | \n",
       "| 896                                          | 3                                            | Hirvonen, Mrs. Alexander (Helga E Lindqvist) | female                                       | 22.0                                         | 1                                            | 1                                            | 3101298                                      | 12.2875                                      |                                              | S                                            | \n",
       "| 897                                          | 3                                            | Svensson, Mr. Johan Cervin                   | male                                         | 14.0                                         | 0                                            | 0                                            | 7538                                         |  9.2250                                      |                                              | S                                            | \n",
       "\n",
       "\n"
      ],
      "text/plain": [
       "  PassengerId Pclass Name                                         Sex    Age \n",
       "1 892         3      Kelly, Mr. James                             male   34.5\n",
       "2 893         3      Wilkes, Mrs. James (Ellen Needs)             female 47.0\n",
       "3 894         2      Myles, Mr. Thomas Francis                    male   62.0\n",
       "4 895         3      Wirz, Mr. Albert                             male   27.0\n",
       "5 896         3      Hirvonen, Mrs. Alexander (Helga E Lindqvist) female 22.0\n",
       "6 897         3      Svensson, Mr. Johan Cervin                   male   14.0\n",
       "  SibSp Parch Ticket  Fare    Cabin Embarked\n",
       "1 0     0     330911   7.8292       Q       \n",
       "2 1     0     363272   7.0000       S       \n",
       "3 0     0     240276   9.6875       Q       \n",
       "4 0     0     315154   8.6625       S       \n",
       "5 1     1     3101298 12.2875       S       \n",
       "6 0     0     7538     9.2250       S       "
      ]
     },
     "metadata": {},
     "output_type": "display_data"
    }
   ],
   "source": [
    "#let's check the dim of the data\n",
    "test_set = read.csv(\"test.csv\")\n",
    "head(test_set)"
   ]
  },
  {
   "cell_type": "code",
   "execution_count": 142,
   "metadata": {},
   "outputs": [
    {
     "data": {
      "text/html": [
       "<ol class=list-inline>\n",
       "\t<li>418</li>\n",
       "\t<li>11</li>\n",
       "</ol>\n"
      ],
      "text/latex": [
       "\\begin{enumerate*}\n",
       "\\item 418\n",
       "\\item 11\n",
       "\\end{enumerate*}\n"
      ],
      "text/markdown": [
       "1. 418\n",
       "2. 11\n",
       "\n",
       "\n"
      ],
      "text/plain": [
       "[1] 418  11"
      ]
     },
     "metadata": {},
     "output_type": "display_data"
    }
   ],
   "source": [
    "# let's see the dim of the data\n",
    "dim(test_set)"
   ]
  },
  {
   "cell_type": "code",
   "execution_count": 143,
   "metadata": {},
   "outputs": [],
   "source": [
    "# removing the unwanted features\n",
    "library(dplyr)\n",
    "test <- dplyr::select(test_set, Pclass, Sex, Age, SibSp)"
   ]
  },
  {
   "cell_type": "code",
   "execution_count": 144,
   "metadata": {},
   "outputs": [
    {
     "data": {
      "text/html": [
       "<table>\n",
       "<thead><tr><th scope=col>Pclass</th><th scope=col>Sex</th><th scope=col>Age</th><th scope=col>SibSp</th></tr></thead>\n",
       "<tbody>\n",
       "\t<tr><td>3     </td><td>male  </td><td>34.5  </td><td>0     </td></tr>\n",
       "\t<tr><td>3     </td><td>female</td><td>47.0  </td><td>1     </td></tr>\n",
       "\t<tr><td>2     </td><td>male  </td><td>62.0  </td><td>0     </td></tr>\n",
       "\t<tr><td>3     </td><td>male  </td><td>27.0  </td><td>0     </td></tr>\n",
       "\t<tr><td>3     </td><td>female</td><td>22.0  </td><td>1     </td></tr>\n",
       "\t<tr><td>3     </td><td>male  </td><td>14.0  </td><td>0     </td></tr>\n",
       "</tbody>\n",
       "</table>\n"
      ],
      "text/latex": [
       "\\begin{tabular}{r|llll}\n",
       " Pclass & Sex & Age & SibSp\\\\\n",
       "\\hline\n",
       "\t 3      & male   & 34.5   & 0     \\\\\n",
       "\t 3      & female & 47.0   & 1     \\\\\n",
       "\t 2      & male   & 62.0   & 0     \\\\\n",
       "\t 3      & male   & 27.0   & 0     \\\\\n",
       "\t 3      & female & 22.0   & 1     \\\\\n",
       "\t 3      & male   & 14.0   & 0     \\\\\n",
       "\\end{tabular}\n"
      ],
      "text/markdown": [
       "\n",
       "Pclass | Sex | Age | SibSp | \n",
       "|---|---|---|---|---|---|\n",
       "| 3      | male   | 34.5   | 0      | \n",
       "| 3      | female | 47.0   | 1      | \n",
       "| 2      | male   | 62.0   | 0      | \n",
       "| 3      | male   | 27.0   | 0      | \n",
       "| 3      | female | 22.0   | 1      | \n",
       "| 3      | male   | 14.0   | 0      | \n",
       "\n",
       "\n"
      ],
      "text/plain": [
       "  Pclass Sex    Age  SibSp\n",
       "1 3      male   34.5 0    \n",
       "2 3      female 47.0 1    \n",
       "3 2      male   62.0 0    \n",
       "4 3      male   27.0 0    \n",
       "5 3      female 22.0 1    \n",
       "6 3      male   14.0 0    "
      ]
     },
     "metadata": {},
     "output_type": "display_data"
    }
   ],
   "source": [
    "head(test)"
   ]
  },
  {
   "cell_type": "code",
   "execution_count": 145,
   "metadata": {},
   "outputs": [
    {
     "data": {
      "image/png": "[encoded data removed]",
      "text/plain": [
       "Plot with title \"Missingness Map\""
      ]
     },
     "metadata": {},
     "output_type": "display_data"
    }
   ],
   "source": [
    "# Dealing with the null values\n",
    "missmap(obj = test, col = c(\"yellow\", \"black\"), legend = FALSE)"
   ]
  },
  {
   "cell_type": "code",
   "execution_count": 146,
   "metadata": {},
   "outputs": [
    {
     "name": "stderr",
     "output_type": "stream",
     "text": [
      "Warning message:\n",
      "\"Removed 86 rows containing non-finite values (stat_boxplot).\""
     ]
    },
    {
     "data": {},
     "metadata": {},
     "output_type": "display_data"
    },
    {
     "data": {
      "image/png": "[encoded data removed]",
      "text/plain": [
       "plot without title"
      ]
     },
     "metadata": {},
     "output_type": "display_data"
    }
   ],
   "source": [
    "ggplot(data = test, aes(Pclass, Age)) +\n",
    "geom_boxplot(aes(group=Pclass, fill = factor(Pclass)), alpha = 0.5) +\n",
    "scale_y_continuous(breaks = seq(min(0), max(80), by = 2))"
   ]
  },
  {
   "cell_type": "code",
   "execution_count": 147,
   "metadata": {},
   "outputs": [],
   "source": [
    "impute_test_age = function(class, age){\n",
    "    out = age\n",
    "    for(i in 1:length(age)){\n",
    "        if(is.na(age[i])){\n",
    "            if(class[i] == 1){\n",
    "                out[i] = 42\n",
    "            }else if(class[i] ==2){\n",
    "                out[i] = 28\n",
    "            }else if(class[i] == 3){\n",
    "                out[i] = 24\n",
    "            }\n",
    "        }else{\n",
    "                out[i] = age[i]\n",
    "            }\n",
    "    }\n",
    "        return (out)\n",
    "}"
   ]
  },
  {
   "cell_type": "code",
   "execution_count": 148,
   "metadata": {},
   "outputs": [],
   "source": [
    "age_fixed_test = impute_test_age(test$Pclass, test$Age)"
   ]
  },
  {
   "cell_type": "code",
   "execution_count": 149,
   "metadata": {},
   "outputs": [],
   "source": [
    "test$Age = age_fixed_test"
   ]
  },
  {
   "cell_type": "code",
   "execution_count": 150,
   "metadata": {},
   "outputs": [
    {
     "data": {
      "text/html": [
       "<dl class=dl-horizontal>\n",
       "\t<dt>Pclass</dt>\n",
       "\t\t<dd>0</dd>\n",
       "\t<dt>Sex</dt>\n",
       "\t\t<dd>0</dd>\n",
       "\t<dt>Age</dt>\n",
       "\t\t<dd>0</dd>\n",
       "\t<dt>SibSp</dt>\n",
       "\t\t<dd>0</dd>\n",
       "</dl>\n"
      ],
      "text/latex": [
       "\\begin{description*}\n",
       "\\item[Pclass] 0\n",
       "\\item[Sex] 0\n",
       "\\item[Age] 0\n",
       "\\item[SibSp] 0\n",
       "\\end{description*}\n"
      ],
      "text/markdown": [
       "Pclass\n",
       ":   0Sex\n",
       ":   0Age\n",
       ":   0SibSp\n",
       ":   0\n",
       "\n"
      ],
      "text/plain": [
       "Pclass    Sex    Age  SibSp \n",
       "     0      0      0      0 "
      ]
     },
     "metadata": {},
     "output_type": "display_data"
    }
   ],
   "source": [
    "# let's see if we still have any null values\n",
    "sapply(test, function(x) sum(is.na(test)))"
   ]
  },
  {
   "cell_type": "code",
   "execution_count": 151,
   "metadata": {},
   "outputs": [
    {
     "name": "stdout",
     "output_type": "stream",
     "text": [
      "'data.frame':\t418 obs. of  4 variables:\n",
      " $ Pclass: int  3 3 2 3 3 3 3 2 3 3 ...\n",
      " $ Sex   : Factor w/ 2 levels \"female\",\"male\": 2 1 2 2 1 2 1 2 1 2 ...\n",
      " $ Age   : num  34.5 47 62 27 22 14 30 26 18 21 ...\n",
      " $ SibSp : int  0 1 0 0 1 0 0 1 0 2 ...\n"
     ]
    }
   ],
   "source": [
    "str(test)"
   ]
  },
  {
   "cell_type": "code",
   "execution_count": 152,
   "metadata": {},
   "outputs": [],
   "source": [
    "test$Pclass <- factor(test$Pclass)\n",
    "test$SibSp <- factor(test$SibSp)\n",
    "test$Sex <- ifelse(test$Sex == \"male\",1,0)"
   ]
  },
  {
   "cell_type": "code",
   "execution_count": 153,
   "metadata": {},
   "outputs": [],
   "source": [
    "# Predicting the test data set\n",
    "y_prob = predict(opt_model, newdata = test, type=\"response\")"
   ]
  },
  {
   "cell_type": "code",
   "execution_count": 154,
   "metadata": {},
   "outputs": [],
   "source": [
    "results = ifelse(y_prob > 0.5,1,0)"
   ]
  },
  {
   "cell_type": "code",
   "execution_count": 159,
   "metadata": {},
   "outputs": [
    {
     "name": "stdout",
     "output_type": "stream",
     "text": [
      "  1   2   3   4   5   6   7   8   9  10  11  12  13  14  15  16  17  18  19  20 \n",
      "  0   0   0   0   1   0   1   0   1   0   0   0   1   0   1   1   0   0   1   0 \n",
      " 21  22  23  24  25  26  27  28  29  30  31  32  33  34  35  36  37  38  39  40 \n",
      "  0   0   1   1   1   0   1   0   0   0   0   0   1   1   1   0   1   1   0   0 \n",
      " 41  42  43  44  45  46  47  48  49  50  51  52  53  54  55  56  57  58  59  60 \n",
      "  0   0   0   1   1   0   0   0   1   1   1   0   1   1   0   0   0   0   0   1 \n",
      " 61  62  63  64  65  66  67  68  69  70  71  72  73  74  75  76  77  78  79  80 \n",
      "  0   0   0   1   1   1   1   0   1   1   1   0   1   1   1   0   0   1   0   1 \n",
      " 81  82  83  84  85  86  87  88  89  90  91  92  93  94  95  96  97  98  99 100 \n",
      "  0   0   0   0   0   0   1   1   1   1   1   0   1   0   1   0   1   0   1   0 \n",
      "101 102 103 104 105 106 107 108 109 110 111 112 113 114 115 116 117 118 119 120 \n",
      "  1   0   0   0   1   0   0   0   0   0   0   1   1   1   1   0   0   1   0   1 \n",
      "121 122 123 124 125 126 127 128 129 130 131 132 133 134 135 136 137 138 139 140 \n",
      "  1   0   1   0   0   1   0   1   0   0   0   0   1   0   0   0   0   0   1   0 \n",
      "141 142 143 144 145 146 147 148 149 150 151 152 153 154 155 156 157 158 159 160 \n",
      "  0   1   0   0   0   0   0   0   0   0   1   0   0   1   0   0   1   1   0   1 \n",
      "161 162 163 164 165 166 167 168 169 170 171 172 173 174 175 176 177 178 179 180 \n",
      "  1   0   1   0   0   1   0   0   1   1   0   0   0   0   0   1   1   0   1   1 \n",
      "181 182 183 184 185 186 187 188 189 190 191 192 193 194 195 196 197 198 199 200 \n",
      "  0   0   1   0   1   0   1   0   0   0   0   0   0   0   0   0   1   1   0   1 \n",
      "201 202 203 204 205 206 207 208 209 210 211 212 213 214 215 216 217 218 219 220 \n",
      "  1   0   0   1   0   0   1   0   1   0   0   0   0   1   0   0   1   0   1   0 \n",
      "221 222 223 224 225 226 227 228 229 230 231 232 233 234 235 236 237 238 239 240 \n",
      "  1   0   1   0   1   1   0   1   0   0   0   1   0   0   0   0   0   0   1   1 \n",
      "241 242 243 244 245 246 247 248 249 250 251 252 253 254 255 256 257 258 259 260 \n",
      "  1   1   0   0   0   0   1   0   1   1   1   0   1   0   0   0   0   0   1   0 \n",
      "261 262 263 264 265 266 267 268 269 270 271 272 273 274 275 276 277 278 279 280 \n",
      "  0   0   1   1   0   0   0   0   1   0   0   0   1   1   0   1   0   0   0   0 \n",
      "281 282 283 284 285 286 287 288 289 290 291 292 293 294 295 296 297 298 299 300 \n",
      "  1   0   1   1   1   0   0   1   0   0   0   1   0   0   0   0   1   0   1   0 \n",
      "301 302 303 304 305 306 307 308 309 310 311 312 313 314 315 316 317 318 319 320 \n",
      "  0   0   0   0   1   1   1   0   0   0   0   0   0   0   1   1   0   0   0   0 \n",
      "321 322 323 324 325 326 327 328 329 330 331 332 333 334 335 336 337 338 339 340 \n",
      "  0   0   0   0   1   0   1   0   0   0   1   0   0   1   0   1   0   0   0   0 \n",
      "341 342 343 344 345 346 347 348 349 350 351 352 353 354 355 356 357 358 359 360 \n",
      "  0   0   0   1   0   1   0   0   0   1   1   0   0   0   1   0   1   0   0   1 \n",
      "361 362 363 364 365 366 367 368 369 370 371 372 373 374 375 376 377 378 379 380 \n",
      "  0   1   1   0   1   1   0   1   1   0   0   1   0   0   1   1   1   0   0   0 \n",
      "381 382 383 384 385 386 387 388 389 390 391 392 393 394 395 396 397 398 399 400 \n",
      "  0   0   1   1   0   1   0   0   0   0   1   1   0   0   0   1   0   1   0   0 \n",
      "401 402 403 404 405 406 407 408 409 410 411 412 413 414 415 416 417 418 \n",
      "  1   0   1   1   0   0   0   0   1   1   1   1   1   0   1   0   0   0 \n"
     ]
    }
   ],
   "source": [
    "print(results)"
   ]
  },
  {
   "cell_type": "code",
   "execution_count": null,
   "metadata": {},
   "outputs": [],
   "source": []
  }
 ],
 "metadata": {
  "kernelspec": {
   "display_name": "R",
   "language": "R",
   "name": "ir"
  },
  "language_info": {
   "codemirror_mode": "r",
   "file_extension": ".r",
   "mimetype": "text/x-r-source",
   "name": "R",
   "pygments_lexer": "r",
   "version": "3.5.1"
  }
 },
 "nbformat": 4,
 "nbformat_minor": 2
}
