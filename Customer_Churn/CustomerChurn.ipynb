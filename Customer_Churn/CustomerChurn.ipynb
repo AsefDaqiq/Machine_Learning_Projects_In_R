{
 "cells": [
  {
   "cell_type": "code",
   "execution_count": 1,
   "metadata": {},
   "outputs": [],
   "source": [
    "#importing the data set\n",
    "churn = read.csv(\"Telco-Customer-Churn.csv\")"
   ]
  },
  {
   "cell_type": "code",
   "execution_count": 2,
   "metadata": {},
   "outputs": [
    {
     "data": {
      "text/html": [
       "<table>\n",
       "<thead><tr><th scope=col>customerID</th><th scope=col>gender</th><th scope=col>SeniorCitizen</th><th scope=col>Partner</th><th scope=col>Dependents</th><th scope=col>tenure</th><th scope=col>PhoneService</th><th scope=col>MultipleLines</th><th scope=col>InternetService</th><th scope=col>OnlineSecurity</th><th scope=col>...</th><th scope=col>DeviceProtection</th><th scope=col>TechSupport</th><th scope=col>StreamingTV</th><th scope=col>StreamingMovies</th><th scope=col>Contract</th><th scope=col>PaperlessBilling</th><th scope=col>PaymentMethod</th><th scope=col>MonthlyCharges</th><th scope=col>TotalCharges</th><th scope=col>Churn</th></tr></thead>\n",
       "<tbody>\n",
       "\t<tr><td>7590-VHVEG               </td><td>Female                   </td><td>0                        </td><td>Yes                      </td><td>No                       </td><td> 1                       </td><td>No                       </td><td>No phone service         </td><td>DSL                      </td><td>No                       </td><td>...                      </td><td>No                       </td><td>No                       </td><td>No                       </td><td>No                       </td><td>Month-to-month           </td><td>Yes                      </td><td>Electronic check         </td><td>29.85                    </td><td>  29.85                  </td><td>No                       </td></tr>\n",
       "\t<tr><td>5575-GNVDE               </td><td>Male                     </td><td>0                        </td><td>No                       </td><td>No                       </td><td>34                       </td><td>Yes                      </td><td>No                       </td><td>DSL                      </td><td>Yes                      </td><td>...                      </td><td>Yes                      </td><td>No                       </td><td>No                       </td><td>No                       </td><td>One year                 </td><td>No                       </td><td>Mailed check             </td><td>56.95                    </td><td>1889.50                  </td><td>No                       </td></tr>\n",
       "\t<tr><td>3668-QPYBK               </td><td>Male                     </td><td>0                        </td><td>No                       </td><td>No                       </td><td> 2                       </td><td>Yes                      </td><td>No                       </td><td>DSL                      </td><td>Yes                      </td><td>...                      </td><td>No                       </td><td>No                       </td><td>No                       </td><td>No                       </td><td>Month-to-month           </td><td>Yes                      </td><td>Mailed check             </td><td>53.85                    </td><td> 108.15                  </td><td>Yes                      </td></tr>\n",
       "\t<tr><td>7795-CFOCW               </td><td>Male                     </td><td>0                        </td><td>No                       </td><td>No                       </td><td>45                       </td><td>No                       </td><td>No phone service         </td><td>DSL                      </td><td>Yes                      </td><td>...                      </td><td>Yes                      </td><td>Yes                      </td><td>No                       </td><td>No                       </td><td>One year                 </td><td>No                       </td><td>Bank transfer (automatic)</td><td>42.30                    </td><td>1840.75                  </td><td>No                       </td></tr>\n",
       "\t<tr><td>9237-HQITU               </td><td>Female                   </td><td>0                        </td><td>No                       </td><td>No                       </td><td> 2                       </td><td>Yes                      </td><td>No                       </td><td>Fiber optic              </td><td>No                       </td><td>...                      </td><td>No                       </td><td>No                       </td><td>No                       </td><td>No                       </td><td>Month-to-month           </td><td>Yes                      </td><td>Electronic check         </td><td>70.70                    </td><td> 151.65                  </td><td>Yes                      </td></tr>\n",
       "\t<tr><td>9305-CDSKC               </td><td>Female                   </td><td>0                        </td><td>No                       </td><td>No                       </td><td> 8                       </td><td>Yes                      </td><td>Yes                      </td><td>Fiber optic              </td><td>No                       </td><td>...                      </td><td>Yes                      </td><td>No                       </td><td>Yes                      </td><td>Yes                      </td><td>Month-to-month           </td><td>Yes                      </td><td>Electronic check         </td><td>99.65                    </td><td> 820.50                  </td><td>Yes                      </td></tr>\n",
       "</tbody>\n",
       "</table>\n"
      ],
      "text/latex": [
       "\\begin{tabular}{r|lllllllllllllllllllll}\n",
       " customerID & gender & SeniorCitizen & Partner & Dependents & tenure & PhoneService & MultipleLines & InternetService & OnlineSecurity & ... & DeviceProtection & TechSupport & StreamingTV & StreamingMovies & Contract & PaperlessBilling & PaymentMethod & MonthlyCharges & TotalCharges & Churn\\\\\n",
       "\\hline\n",
       "\t 7590-VHVEG                & Female                    & 0                         & Yes                       & No                        &  1                        & No                        & No phone service          & DSL                       & No                        & ...                       & No                        & No                        & No                        & No                        & Month-to-month            & Yes                       & Electronic check          & 29.85                     &   29.85                   & No                       \\\\\n",
       "\t 5575-GNVDE                & Male                      & 0                         & No                        & No                        & 34                        & Yes                       & No                        & DSL                       & Yes                       & ...                       & Yes                       & No                        & No                        & No                        & One year                  & No                        & Mailed check              & 56.95                     & 1889.50                   & No                       \\\\\n",
       "\t 3668-QPYBK                & Male                      & 0                         & No                        & No                        &  2                        & Yes                       & No                        & DSL                       & Yes                       & ...                       & No                        & No                        & No                        & No                        & Month-to-month            & Yes                       & Mailed check              & 53.85                     &  108.15                   & Yes                      \\\\\n",
       "\t 7795-CFOCW                & Male                      & 0                         & No                        & No                        & 45                        & No                        & No phone service          & DSL                       & Yes                       & ...                       & Yes                       & Yes                       & No                        & No                        & One year                  & No                        & Bank transfer (automatic) & 42.30                     & 1840.75                   & No                       \\\\\n",
       "\t 9237-HQITU                & Female                    & 0                         & No                        & No                        &  2                        & Yes                       & No                        & Fiber optic               & No                        & ...                       & No                        & No                        & No                        & No                        & Month-to-month            & Yes                       & Electronic check          & 70.70                     &  151.65                   & Yes                      \\\\\n",
       "\t 9305-CDSKC                & Female                    & 0                         & No                        & No                        &  8                        & Yes                       & Yes                       & Fiber optic               & No                        & ...                       & Yes                       & No                        & Yes                       & Yes                       & Month-to-month            & Yes                       & Electronic check          & 99.65                     &  820.50                   & Yes                      \\\\\n",
       "\\end{tabular}\n"
      ],
      "text/markdown": [
       "\n",
       "customerID | gender | SeniorCitizen | Partner | Dependents | tenure | PhoneService | MultipleLines | InternetService | OnlineSecurity | ... | DeviceProtection | TechSupport | StreamingTV | StreamingMovies | Contract | PaperlessBilling | PaymentMethod | MonthlyCharges | TotalCharges | Churn | \n",
       "|---|---|---|---|---|---|\n",
       "| 7590-VHVEG                | Female                    | 0                         | Yes                       | No                        |  1                        | No                        | No phone service          | DSL                       | No                        | ...                       | No                        | No                        | No                        | No                        | Month-to-month            | Yes                       | Electronic check          | 29.85                     |   29.85                   | No                        | \n",
       "| 5575-GNVDE                | Male                      | 0                         | No                        | No                        | 34                        | Yes                       | No                        | DSL                       | Yes                       | ...                       | Yes                       | No                        | No                        | No                        | One year                  | No                        | Mailed check              | 56.95                     | 1889.50                   | No                        | \n",
       "| 3668-QPYBK                | Male                      | 0                         | No                        | No                        |  2                        | Yes                       | No                        | DSL                       | Yes                       | ...                       | No                        | No                        | No                        | No                        | Month-to-month            | Yes                       | Mailed check              | 53.85                     |  108.15                   | Yes                       | \n",
       "| 7795-CFOCW                | Male                      | 0                         | No                        | No                        | 45                        | No                        | No phone service          | DSL                       | Yes                       | ...                       | Yes                       | Yes                       | No                        | No                        | One year                  | No                        | Bank transfer (automatic) | 42.30                     | 1840.75                   | No                        | \n",
       "| 9237-HQITU                | Female                    | 0                         | No                        | No                        |  2                        | Yes                       | No                        | Fiber optic               | No                        | ...                       | No                        | No                        | No                        | No                        | Month-to-month            | Yes                       | Electronic check          | 70.70                     |  151.65                   | Yes                       | \n",
       "| 9305-CDSKC                | Female                    | 0                         | No                        | No                        |  8                        | Yes                       | Yes                       | Fiber optic               | No                        | ...                       | Yes                       | No                        | Yes                       | Yes                       | Month-to-month            | Yes                       | Electronic check          | 99.65                     |  820.50                   | Yes                       | \n",
       "\n",
       "\n"
      ],
      "text/plain": [
       "  customerID gender SeniorCitizen Partner Dependents tenure PhoneService\n",
       "1 7590-VHVEG Female 0             Yes     No          1     No          \n",
       "2 5575-GNVDE Male   0             No      No         34     Yes         \n",
       "3 3668-QPYBK Male   0             No      No          2     Yes         \n",
       "4 7795-CFOCW Male   0             No      No         45     No          \n",
       "5 9237-HQITU Female 0             No      No          2     Yes         \n",
       "6 9305-CDSKC Female 0             No      No          8     Yes         \n",
       "  MultipleLines    InternetService OnlineSecurity ... DeviceProtection\n",
       "1 No phone service DSL             No             ... No              \n",
       "2 No               DSL             Yes            ... Yes             \n",
       "3 No               DSL             Yes            ... No              \n",
       "4 No phone service DSL             Yes            ... Yes             \n",
       "5 No               Fiber optic     No             ... No              \n",
       "6 Yes              Fiber optic     No             ... Yes             \n",
       "  TechSupport StreamingTV StreamingMovies Contract       PaperlessBilling\n",
       "1 No          No          No              Month-to-month Yes             \n",
       "2 No          No          No              One year       No              \n",
       "3 No          No          No              Month-to-month Yes             \n",
       "4 Yes         No          No              One year       No              \n",
       "5 No          No          No              Month-to-month Yes             \n",
       "6 No          Yes         Yes             Month-to-month Yes             \n",
       "  PaymentMethod             MonthlyCharges TotalCharges Churn\n",
       "1 Electronic check          29.85            29.85      No   \n",
       "2 Mailed check              56.95          1889.50      No   \n",
       "3 Mailed check              53.85           108.15      Yes  \n",
       "4 Bank transfer (automatic) 42.30          1840.75      No   \n",
       "5 Electronic check          70.70           151.65      Yes  \n",
       "6 Electronic check          99.65           820.50      Yes  "
      ]
     },
     "metadata": {},
     "output_type": "display_data"
    }
   ],
   "source": [
    "#checking the head of the data set\n",
    "head(churn)"
   ]
  },
  {
   "cell_type": "code",
   "execution_count": 3,
   "metadata": {},
   "outputs": [
    {
     "name": "stdout",
     "output_type": "stream",
     "text": [
      "'data.frame':\t7043 obs. of  21 variables:\n",
      " $ customerID      : Factor w/ 7043 levels \"0002-ORFBO\",\"0003-MKNFE\",..: 5376 3963 2565 5536 6512 6552 1003 4771 5605 4535 ...\n",
      " $ gender          : Factor w/ 2 levels \"Female\",\"Male\": 1 2 2 2 1 1 2 1 1 2 ...\n",
      " $ SeniorCitizen   : int  0 0 0 0 0 0 0 0 0 0 ...\n",
      " $ Partner         : Factor w/ 2 levels \"No\",\"Yes\": 2 1 1 1 1 1 1 1 2 1 ...\n",
      " $ Dependents      : Factor w/ 2 levels \"No\",\"Yes\": 1 1 1 1 1 1 2 1 1 2 ...\n",
      " $ tenure          : int  1 34 2 45 2 8 22 10 28 62 ...\n",
      " $ PhoneService    : Factor w/ 2 levels \"No\",\"Yes\": 1 2 2 1 2 2 2 1 2 2 ...\n",
      " $ MultipleLines   : Factor w/ 3 levels \"No\",\"No phone service\",..: 2 1 1 2 1 3 3 2 3 1 ...\n",
      " $ InternetService : Factor w/ 3 levels \"DSL\",\"Fiber optic\",..: 1 1 1 1 2 2 2 1 2 1 ...\n",
      " $ OnlineSecurity  : Factor w/ 3 levels \"No\",\"No internet service\",..: 1 3 3 3 1 1 1 3 1 3 ...\n",
      " $ OnlineBackup    : Factor w/ 3 levels \"No\",\"No internet service\",..: 3 1 3 1 1 1 3 1 1 3 ...\n",
      " $ DeviceProtection: Factor w/ 3 levels \"No\",\"No internet service\",..: 1 3 1 3 1 3 1 1 3 1 ...\n",
      " $ TechSupport     : Factor w/ 3 levels \"No\",\"No internet service\",..: 1 1 1 3 1 1 1 1 3 1 ...\n",
      " $ StreamingTV     : Factor w/ 3 levels \"No\",\"No internet service\",..: 1 1 1 1 1 3 3 1 3 1 ...\n",
      " $ StreamingMovies : Factor w/ 3 levels \"No\",\"No internet service\",..: 1 1 1 1 1 3 1 1 3 1 ...\n",
      " $ Contract        : Factor w/ 3 levels \"Month-to-month\",..: 1 2 1 2 1 1 1 1 1 2 ...\n",
      " $ PaperlessBilling: Factor w/ 2 levels \"No\",\"Yes\": 2 1 2 1 2 2 2 1 2 1 ...\n",
      " $ PaymentMethod   : Factor w/ 4 levels \"Bank transfer (automatic)\",..: 3 4 4 1 3 3 2 4 3 1 ...\n",
      " $ MonthlyCharges  : num  29.9 57 53.9 42.3 70.7 ...\n",
      " $ TotalCharges    : num  29.9 1889.5 108.2 1840.8 151.7 ...\n",
      " $ Churn           : Factor w/ 2 levels \"No\",\"Yes\": 1 1 2 1 2 2 1 1 2 1 ...\n"
     ]
    }
   ],
   "source": [
    "# checking the str of the data set\n",
    "str(churn)"
   ]
  },
  {
   "cell_type": "markdown",
   "metadata": {},
   "source": [
    "# dealing with the missing values"
   ]
  },
  {
   "cell_type": "code",
   "execution_count": 4,
   "metadata": {},
   "outputs": [
    {
     "data": {
      "text/html": [
       "<ol class=list-inline>\n",
       "\t<li>'customerID'</li>\n",
       "\t<li>'gender'</li>\n",
       "\t<li>'SeniorCitizen'</li>\n",
       "\t<li>'Partner'</li>\n",
       "\t<li>'Dependents'</li>\n",
       "\t<li>'tenure'</li>\n",
       "\t<li>'PhoneService'</li>\n",
       "\t<li>'MultipleLines'</li>\n",
       "\t<li>'InternetService'</li>\n",
       "\t<li>'OnlineSecurity'</li>\n",
       "\t<li>'OnlineBackup'</li>\n",
       "\t<li>'DeviceProtection'</li>\n",
       "\t<li>'TechSupport'</li>\n",
       "\t<li>'StreamingTV'</li>\n",
       "\t<li>'StreamingMovies'</li>\n",
       "\t<li>'Contract'</li>\n",
       "\t<li>'PaperlessBilling'</li>\n",
       "\t<li>'PaymentMethod'</li>\n",
       "\t<li>'MonthlyCharges'</li>\n",
       "\t<li>'TotalCharges'</li>\n",
       "\t<li>'Churn'</li>\n",
       "</ol>\n"
      ],
      "text/latex": [
       "\\begin{enumerate*}\n",
       "\\item 'customerID'\n",
       "\\item 'gender'\n",
       "\\item 'SeniorCitizen'\n",
       "\\item 'Partner'\n",
       "\\item 'Dependents'\n",
       "\\item 'tenure'\n",
       "\\item 'PhoneService'\n",
       "\\item 'MultipleLines'\n",
       "\\item 'InternetService'\n",
       "\\item 'OnlineSecurity'\n",
       "\\item 'OnlineBackup'\n",
       "\\item 'DeviceProtection'\n",
       "\\item 'TechSupport'\n",
       "\\item 'StreamingTV'\n",
       "\\item 'StreamingMovies'\n",
       "\\item 'Contract'\n",
       "\\item 'PaperlessBilling'\n",
       "\\item 'PaymentMethod'\n",
       "\\item 'MonthlyCharges'\n",
       "\\item 'TotalCharges'\n",
       "\\item 'Churn'\n",
       "\\end{enumerate*}\n"
      ],
      "text/markdown": [
       "1. 'customerID'\n",
       "2. 'gender'\n",
       "3. 'SeniorCitizen'\n",
       "4. 'Partner'\n",
       "5. 'Dependents'\n",
       "6. 'tenure'\n",
       "7. 'PhoneService'\n",
       "8. 'MultipleLines'\n",
       "9. 'InternetService'\n",
       "10. 'OnlineSecurity'\n",
       "11. 'OnlineBackup'\n",
       "12. 'DeviceProtection'\n",
       "13. 'TechSupport'\n",
       "14. 'StreamingTV'\n",
       "15. 'StreamingMovies'\n",
       "16. 'Contract'\n",
       "17. 'PaperlessBilling'\n",
       "18. 'PaymentMethod'\n",
       "19. 'MonthlyCharges'\n",
       "20. 'TotalCharges'\n",
       "21. 'Churn'\n",
       "\n",
       "\n"
      ],
      "text/plain": [
       " [1] \"customerID\"       \"gender\"           \"SeniorCitizen\"    \"Partner\"         \n",
       " [5] \"Dependents\"       \"tenure\"           \"PhoneService\"     \"MultipleLines\"   \n",
       " [9] \"InternetService\"  \"OnlineSecurity\"   \"OnlineBackup\"     \"DeviceProtection\"\n",
       "[13] \"TechSupport\"      \"StreamingTV\"      \"StreamingMovies\"  \"Contract\"        \n",
       "[17] \"PaperlessBilling\" \"PaymentMethod\"    \"MonthlyCharges\"   \"TotalCharges\"    \n",
       "[21] \"Churn\"           "
      ]
     },
     "metadata": {},
     "output_type": "display_data"
    }
   ],
   "source": [
    "names(churn)"
   ]
  },
  {
   "cell_type": "code",
   "execution_count": 5,
   "metadata": {},
   "outputs": [
    {
     "name": "stderr",
     "output_type": "stream",
     "text": [
      "\n",
      "Attaching package: 'dplyr'\n",
      "\n",
      "The following objects are masked from 'package:stats':\n",
      "\n",
      "    filter, lag\n",
      "\n",
      "The following objects are masked from 'package:base':\n",
      "\n",
      "    intersect, setdiff, setequal, union\n",
      "\n"
     ]
    },
    {
     "name": "stdout",
     "output_type": "stream",
     "text": [
      "Observations: 7,043\n",
      "Variables: 21\n",
      "$ customerID       <fct> 7590-VHVEG, 5575-GNVDE, 3668-QPYBK, 7795-CFOCW, 92...\n",
      "$ gender           <fct> Female, Male, Male, Male, Female, Female, Male, Fe...\n",
      "$ SeniorCitizen    <int> 0, 0, 0, 0, 0, 0, 0, 0, 0, 0, 0, 0, 0, 0, 0, 0, 0,...\n",
      "$ Partner          <fct> Yes, No, No, No, No, No, No, No, Yes, No, Yes, No,...\n",
      "$ Dependents       <fct> No, No, No, No, No, No, Yes, No, No, Yes, Yes, No,...\n",
      "$ tenure           <int> 1, 34, 2, 45, 2, 8, 22, 10, 28, 62, 13, 16, 58, 49...\n",
      "$ PhoneService     <fct> No, Yes, Yes, No, Yes, Yes, Yes, No, Yes, Yes, Yes...\n",
      "$ MultipleLines    <fct> No phone service, No, No, No phone service, No, Ye...\n",
      "$ InternetService  <fct> DSL, DSL, DSL, DSL, Fiber optic, Fiber optic, Fibe...\n",
      "$ OnlineSecurity   <fct> No, Yes, Yes, Yes, No, No, No, Yes, No, Yes, Yes, ...\n",
      "$ OnlineBackup     <fct> Yes, No, Yes, No, No, No, Yes, No, No, Yes, No, No...\n",
      "$ DeviceProtection <fct> No, Yes, No, Yes, No, Yes, No, No, Yes, No, No, No...\n",
      "$ TechSupport      <fct> No, No, No, Yes, No, No, No, No, Yes, No, No, No i...\n",
      "$ StreamingTV      <fct> No, No, No, No, No, Yes, Yes, No, Yes, No, No, No ...\n",
      "$ StreamingMovies  <fct> No, No, No, No, No, Yes, No, No, Yes, No, No, No i...\n",
      "$ Contract         <fct> Month-to-month, One year, Month-to-month, One year...\n",
      "$ PaperlessBilling <fct> Yes, No, Yes, No, Yes, Yes, Yes, No, Yes, No, Yes,...\n",
      "$ PaymentMethod    <fct> Electronic check, Mailed check, Mailed check, Bank...\n",
      "$ MonthlyCharges   <dbl> 29.85, 56.95, 53.85, 42.30, 70.70, 99.65, 89.10, 2...\n",
      "$ TotalCharges     <dbl> 29.85, 1889.50, 108.15, 1840.75, 151.65, 820.50, 1...\n",
      "$ Churn            <fct> No, No, Yes, No, Yes, Yes, No, No, Yes, No, No, No...\n"
     ]
    }
   ],
   "source": [
    "library(dplyr)\n",
    "glimpse(churn)"
   ]
  },
  {
   "cell_type": "code",
   "execution_count": 6,
   "metadata": {},
   "outputs": [
    {
     "data": {
      "text/html": [
       "<dl class=dl-horizontal>\n",
       "\t<dt>customerID</dt>\n",
       "\t\t<dd>0</dd>\n",
       "\t<dt>gender</dt>\n",
       "\t\t<dd>0</dd>\n",
       "\t<dt>SeniorCitizen</dt>\n",
       "\t\t<dd>0</dd>\n",
       "\t<dt>Partner</dt>\n",
       "\t\t<dd>0</dd>\n",
       "\t<dt>Dependents</dt>\n",
       "\t\t<dd>0</dd>\n",
       "\t<dt>tenure</dt>\n",
       "\t\t<dd>0</dd>\n",
       "\t<dt>PhoneService</dt>\n",
       "\t\t<dd>0</dd>\n",
       "\t<dt>MultipleLines</dt>\n",
       "\t\t<dd>0</dd>\n",
       "\t<dt>InternetService</dt>\n",
       "\t\t<dd>0</dd>\n",
       "\t<dt>OnlineSecurity</dt>\n",
       "\t\t<dd>0</dd>\n",
       "\t<dt>OnlineBackup</dt>\n",
       "\t\t<dd>0</dd>\n",
       "\t<dt>DeviceProtection</dt>\n",
       "\t\t<dd>0</dd>\n",
       "\t<dt>TechSupport</dt>\n",
       "\t\t<dd>0</dd>\n",
       "\t<dt>StreamingTV</dt>\n",
       "\t\t<dd>0</dd>\n",
       "\t<dt>StreamingMovies</dt>\n",
       "\t\t<dd>0</dd>\n",
       "\t<dt>Contract</dt>\n",
       "\t\t<dd>0</dd>\n",
       "\t<dt>PaperlessBilling</dt>\n",
       "\t\t<dd>0</dd>\n",
       "\t<dt>PaymentMethod</dt>\n",
       "\t\t<dd>0</dd>\n",
       "\t<dt>MonthlyCharges</dt>\n",
       "\t\t<dd>0</dd>\n",
       "\t<dt>TotalCharges</dt>\n",
       "\t\t<dd>11</dd>\n",
       "\t<dt>Churn</dt>\n",
       "\t\t<dd>0</dd>\n",
       "</dl>\n"
      ],
      "text/latex": [
       "\\begin{description*}\n",
       "\\item[customerID] 0\n",
       "\\item[gender] 0\n",
       "\\item[SeniorCitizen] 0\n",
       "\\item[Partner] 0\n",
       "\\item[Dependents] 0\n",
       "\\item[tenure] 0\n",
       "\\item[PhoneService] 0\n",
       "\\item[MultipleLines] 0\n",
       "\\item[InternetService] 0\n",
       "\\item[OnlineSecurity] 0\n",
       "\\item[OnlineBackup] 0\n",
       "\\item[DeviceProtection] 0\n",
       "\\item[TechSupport] 0\n",
       "\\item[StreamingTV] 0\n",
       "\\item[StreamingMovies] 0\n",
       "\\item[Contract] 0\n",
       "\\item[PaperlessBilling] 0\n",
       "\\item[PaymentMethod] 0\n",
       "\\item[MonthlyCharges] 0\n",
       "\\item[TotalCharges] 11\n",
       "\\item[Churn] 0\n",
       "\\end{description*}\n"
      ],
      "text/markdown": [
       "customerID\n",
       ":   0gender\n",
       ":   0SeniorCitizen\n",
       ":   0Partner\n",
       ":   0Dependents\n",
       ":   0tenure\n",
       ":   0PhoneService\n",
       ":   0MultipleLines\n",
       ":   0InternetService\n",
       ":   0OnlineSecurity\n",
       ":   0OnlineBackup\n",
       ":   0DeviceProtection\n",
       ":   0TechSupport\n",
       ":   0StreamingTV\n",
       ":   0StreamingMovies\n",
       ":   0Contract\n",
       ":   0PaperlessBilling\n",
       ":   0PaymentMethod\n",
       ":   0MonthlyCharges\n",
       ":   0TotalCharges\n",
       ":   11Churn\n",
       ":   0\n",
       "\n"
      ],
      "text/plain": [
       "      customerID           gender    SeniorCitizen          Partner \n",
       "               0                0                0                0 \n",
       "      Dependents           tenure     PhoneService    MultipleLines \n",
       "               0                0                0                0 \n",
       " InternetService   OnlineSecurity     OnlineBackup DeviceProtection \n",
       "               0                0                0                0 \n",
       "     TechSupport      StreamingTV  StreamingMovies         Contract \n",
       "               0                0                0                0 \n",
       "PaperlessBilling    PaymentMethod   MonthlyCharges     TotalCharges \n",
       "               0                0                0               11 \n",
       "           Churn \n",
       "               0 "
      ]
     },
     "metadata": {},
     "output_type": "display_data"
    }
   ],
   "source": [
    "sapply(churn, function(x) sum(is.na(x)))"
   ]
  },
  {
   "cell_type": "code",
   "execution_count": 7,
   "metadata": {},
   "outputs": [
    {
     "name": "stderr",
     "output_type": "stream",
     "text": [
      "Warning message:\n",
      "\"package 'Amelia' was built under R version 3.5.2\"Loading required package: Rcpp\n",
      "## \n",
      "## Amelia II: Multiple Imputation\n",
      "## (Version 1.7.5, built: 2018-05-07)\n",
      "## Copyright (C) 2005-2018 James Honaker, Gary King and Matthew Blackwell\n",
      "## Refer to http://gking.harvard.edu/amelia/ for more information\n",
      "## \n"
     ]
    },
    {
     "data": {
      "image/png": "[encoded data removed]",
      "text/plain": [
       "Plot with title \"Missingness Map\""
      ]
     },
     "metadata": {},
     "output_type": "display_data"
    }
   ],
   "source": [
    "library(Amelia)\n",
    "missmap(obj = churn, legend = FALSE, col = c(\"yellow\", 'black'))"
   ]
  },
  {
   "cell_type": "markdown",
   "metadata": {},
   "source": [
    "#### We found that there are 11 missing values in “TotalCharges” columns. So, let’s remove all rows with missing values."
   ]
  },
  {
   "cell_type": "code",
   "execution_count": 8,
   "metadata": {},
   "outputs": [],
   "source": [
    "churn = churn[complete.cases(churn),]"
   ]
  },
  {
   "cell_type": "code",
   "execution_count": 9,
   "metadata": {},
   "outputs": [
    {
     "data": {
      "text/html": [
       "<dl class=dl-horizontal>\n",
       "\t<dt>customerID</dt>\n",
       "\t\t<dd>0</dd>\n",
       "\t<dt>gender</dt>\n",
       "\t\t<dd>0</dd>\n",
       "\t<dt>SeniorCitizen</dt>\n",
       "\t\t<dd>0</dd>\n",
       "\t<dt>Partner</dt>\n",
       "\t\t<dd>0</dd>\n",
       "\t<dt>Dependents</dt>\n",
       "\t\t<dd>0</dd>\n",
       "\t<dt>tenure</dt>\n",
       "\t\t<dd>0</dd>\n",
       "\t<dt>PhoneService</dt>\n",
       "\t\t<dd>0</dd>\n",
       "\t<dt>MultipleLines</dt>\n",
       "\t\t<dd>0</dd>\n",
       "\t<dt>InternetService</dt>\n",
       "\t\t<dd>0</dd>\n",
       "\t<dt>OnlineSecurity</dt>\n",
       "\t\t<dd>0</dd>\n",
       "\t<dt>OnlineBackup</dt>\n",
       "\t\t<dd>0</dd>\n",
       "\t<dt>DeviceProtection</dt>\n",
       "\t\t<dd>0</dd>\n",
       "\t<dt>TechSupport</dt>\n",
       "\t\t<dd>0</dd>\n",
       "\t<dt>StreamingTV</dt>\n",
       "\t\t<dd>0</dd>\n",
       "\t<dt>StreamingMovies</dt>\n",
       "\t\t<dd>0</dd>\n",
       "\t<dt>Contract</dt>\n",
       "\t\t<dd>0</dd>\n",
       "\t<dt>PaperlessBilling</dt>\n",
       "\t\t<dd>0</dd>\n",
       "\t<dt>PaymentMethod</dt>\n",
       "\t\t<dd>0</dd>\n",
       "\t<dt>MonthlyCharges</dt>\n",
       "\t\t<dd>0</dd>\n",
       "\t<dt>TotalCharges</dt>\n",
       "\t\t<dd>0</dd>\n",
       "\t<dt>Churn</dt>\n",
       "\t\t<dd>0</dd>\n",
       "</dl>\n"
      ],
      "text/latex": [
       "\\begin{description*}\n",
       "\\item[customerID] 0\n",
       "\\item[gender] 0\n",
       "\\item[SeniorCitizen] 0\n",
       "\\item[Partner] 0\n",
       "\\item[Dependents] 0\n",
       "\\item[tenure] 0\n",
       "\\item[PhoneService] 0\n",
       "\\item[MultipleLines] 0\n",
       "\\item[InternetService] 0\n",
       "\\item[OnlineSecurity] 0\n",
       "\\item[OnlineBackup] 0\n",
       "\\item[DeviceProtection] 0\n",
       "\\item[TechSupport] 0\n",
       "\\item[StreamingTV] 0\n",
       "\\item[StreamingMovies] 0\n",
       "\\item[Contract] 0\n",
       "\\item[PaperlessBilling] 0\n",
       "\\item[PaymentMethod] 0\n",
       "\\item[MonthlyCharges] 0\n",
       "\\item[TotalCharges] 0\n",
       "\\item[Churn] 0\n",
       "\\end{description*}\n"
      ],
      "text/markdown": [
       "customerID\n",
       ":   0gender\n",
       ":   0SeniorCitizen\n",
       ":   0Partner\n",
       ":   0Dependents\n",
       ":   0tenure\n",
       ":   0PhoneService\n",
       ":   0MultipleLines\n",
       ":   0InternetService\n",
       ":   0OnlineSecurity\n",
       ":   0OnlineBackup\n",
       ":   0DeviceProtection\n",
       ":   0TechSupport\n",
       ":   0StreamingTV\n",
       ":   0StreamingMovies\n",
       ":   0Contract\n",
       ":   0PaperlessBilling\n",
       ":   0PaymentMethod\n",
       ":   0MonthlyCharges\n",
       ":   0TotalCharges\n",
       ":   0Churn\n",
       ":   0\n",
       "\n"
      ],
      "text/plain": [
       "      customerID           gender    SeniorCitizen          Partner \n",
       "               0                0                0                0 \n",
       "      Dependents           tenure     PhoneService    MultipleLines \n",
       "               0                0                0                0 \n",
       " InternetService   OnlineSecurity     OnlineBackup DeviceProtection \n",
       "               0                0                0                0 \n",
       "     TechSupport      StreamingTV  StreamingMovies         Contract \n",
       "               0                0                0                0 \n",
       "PaperlessBilling    PaymentMethod   MonthlyCharges     TotalCharges \n",
       "               0                0                0                0 \n",
       "           Churn \n",
       "               0 "
      ]
     },
     "metadata": {},
     "output_type": "display_data"
    }
   ],
   "source": [
    "#let's recheck the missing values\n",
    "sapply(churn, function(x) sum(is.na(x)))"
   ]
  },
  {
   "cell_type": "markdown",
   "metadata": {},
   "source": [
    "#####  data contains various categorical features that are character types, such as the \"Dependents\" feature, that has values of either \"Yes\" or \"No\".  There's also numeric types, which includes \"MonthlyCharges\" and \"TotalCharges\".  The \"SeniorCitizen\" variable is an integer type, but it really represents \"Yes\" and \"No\" so we'll convert that to a factor. "
   ]
  },
  {
   "cell_type": "code",
   "execution_count": 10,
   "metadata": {},
   "outputs": [],
   "source": [
    "# let's take a copy of our data set\n",
    "churn_df = data.frame(churn)"
   ]
  },
  {
   "cell_type": "code",
   "execution_count": 11,
   "metadata": {},
   "outputs": [],
   "source": [
    "library(dplyr)\n",
    "churn_df = churn_df %>% mutate_if(is.character, as.factor)\n",
    "churn_df$SeniorCitizen = as.factor(churn_df$SeniorCitizen)"
   ]
  },
  {
   "cell_type": "code",
   "execution_count": 12,
   "metadata": {},
   "outputs": [
    {
     "name": "stdout",
     "output_type": "stream",
     "text": [
      "Observations: 7,032\n",
      "Variables: 21\n",
      "$ customerID       <fct> 7590-VHVEG, 5575-GNVDE, 3668-QPYBK, 7795-CFOCW, 92...\n",
      "$ gender           <fct> Female, Male, Male, Male, Female, Female, Male, Fe...\n",
      "$ SeniorCitizen    <fct> 0, 0, 0, 0, 0, 0, 0, 0, 0, 0, 0, 0, 0, 0, 0, 0, 0,...\n",
      "$ Partner          <fct> Yes, No, No, No, No, No, No, No, Yes, No, Yes, No,...\n",
      "$ Dependents       <fct> No, No, No, No, No, No, Yes, No, No, Yes, Yes, No,...\n",
      "$ tenure           <int> 1, 34, 2, 45, 2, 8, 22, 10, 28, 62, 13, 16, 58, 49...\n",
      "$ PhoneService     <fct> No, Yes, Yes, No, Yes, Yes, Yes, No, Yes, Yes, Yes...\n",
      "$ MultipleLines    <fct> No phone service, No, No, No phone service, No, Ye...\n",
      "$ InternetService  <fct> DSL, DSL, DSL, DSL, Fiber optic, Fiber optic, Fibe...\n",
      "$ OnlineSecurity   <fct> No, Yes, Yes, Yes, No, No, No, Yes, No, Yes, Yes, ...\n",
      "$ OnlineBackup     <fct> Yes, No, Yes, No, No, No, Yes, No, No, Yes, No, No...\n",
      "$ DeviceProtection <fct> No, Yes, No, Yes, No, Yes, No, No, Yes, No, No, No...\n",
      "$ TechSupport      <fct> No, No, No, Yes, No, No, No, No, Yes, No, No, No i...\n",
      "$ StreamingTV      <fct> No, No, No, No, No, Yes, Yes, No, Yes, No, No, No ...\n",
      "$ StreamingMovies  <fct> No, No, No, No, No, Yes, No, No, Yes, No, No, No i...\n",
      "$ Contract         <fct> Month-to-month, One year, Month-to-month, One year...\n",
      "$ PaperlessBilling <fct> Yes, No, Yes, No, Yes, Yes, Yes, No, Yes, No, Yes,...\n",
      "$ PaymentMethod    <fct> Electronic check, Mailed check, Mailed check, Bank...\n",
      "$ MonthlyCharges   <dbl> 29.85, 56.95, 53.85, 42.30, 70.70, 99.65, 89.10, 2...\n",
      "$ TotalCharges     <dbl> 29.85, 1889.50, 108.15, 1840.75, 151.65, 820.50, 1...\n",
      "$ Churn            <fct> No, No, Yes, No, Yes, Yes, No, No, Yes, No, No, No...\n"
     ]
    }
   ],
   "source": [
    "glimpse(churn_df)"
   ]
  },
  {
   "cell_type": "code",
   "execution_count": 13,
   "metadata": {},
   "outputs": [],
   "source": [
    "#tb = churn_df %>% select_if(is.factor) %>% summarise_all(n_distinct)"
   ]
  },
  {
   "cell_type": "markdown",
   "metadata": {},
   "source": [
    "### Data Visualization\n",
    "### let's find the answer for the following questions\n",
    "\n",
    "-  Are men more likely to churn than women?  \n",
    "-  Are senior citizens more like to churn?\n",
    "-  Do individuals with a partner churn more than those without a partner?\n",
    "-  Do people with dependents churn more than people that do not have dependents?"
   ]
  },
  {
   "cell_type": "code",
   "execution_count": 14,
   "metadata": {},
   "outputs": [
    {
     "name": "stderr",
     "output_type": "stream",
     "text": [
      "Warning message:\n",
      "\"Ignoring unknown aesthetics: position\""
     ]
    },
    {
     "data": {},
     "metadata": {},
     "output_type": "display_data"
    },
    {
     "data": {
      "image/png": "[encoded data removed]",
      "text/plain": [
       "plot without title"
      ]
     },
     "metadata": {},
     "output_type": "display_data"
    }
   ],
   "source": [
    "#Statring from gender tendacy to churn\n",
    "library(ggplot2)\n",
    "ggplot(data = churn_df, aes(x = gender)) +\n",
    "geom_bar(aes(fill = (Churn), alpha = 0.5,  position = \"dodge\"))"
   ]
  },
  {
   "cell_type": "markdown",
   "metadata": {},
   "source": [
    "Taking a look, the results are similar.  Roughly one quarter of the male customers churn, and roughly one quarter of the female customers churn.  We can also take a look at exactly how many people from each gender churned."
   ]
  },
  {
   "cell_type": "code",
   "execution_count": 15,
   "metadata": {},
   "outputs": [
    {
     "data": {
      "text/html": [
       "<table>\n",
       "<thead><tr><th scope=col>gender</th><th scope=col>Churn</th><th scope=col>n</th></tr></thead>\n",
       "<tbody>\n",
       "\t<tr><td>Female</td><td>No    </td><td>2544  </td></tr>\n",
       "\t<tr><td>Female</td><td>Yes   </td><td> 939  </td></tr>\n",
       "\t<tr><td>Male  </td><td>No    </td><td>2619  </td></tr>\n",
       "\t<tr><td>Male  </td><td>Yes   </td><td> 930  </td></tr>\n",
       "</tbody>\n",
       "</table>\n"
      ],
      "text/latex": [
       "\\begin{tabular}{r|lll}\n",
       " gender & Churn & n\\\\\n",
       "\\hline\n",
       "\t Female & No     & 2544  \\\\\n",
       "\t Female & Yes    &  939  \\\\\n",
       "\t Male   & No     & 2619  \\\\\n",
       "\t Male   & Yes    &  930  \\\\\n",
       "\\end{tabular}\n"
      ],
      "text/markdown": [
       "\n",
       "gender | Churn | n | \n",
       "|---|---|---|---|\n",
       "| Female | No     | 2544   | \n",
       "| Female | Yes    |  939   | \n",
       "| Male   | No     | 2619   | \n",
       "| Male   | Yes    |  930   | \n",
       "\n",
       "\n"
      ],
      "text/plain": [
       "  gender Churn n   \n",
       "1 Female No    2544\n",
       "2 Female Yes    939\n",
       "3 Male   No    2619\n",
       "4 Male   Yes    930"
      ]
     },
     "metadata": {},
     "output_type": "display_data"
    }
   ],
   "source": [
    "churn_df %>% \n",
    "  group_by(gender,Churn) %>% \n",
    "  summarise(n=n())"
   ]
  },
  {
   "cell_type": "code",
   "execution_count": 16,
   "metadata": {},
   "outputs": [
    {
     "data": {},
     "metadata": {},
     "output_type": "display_data"
    },
    {
     "data": {
      "image/png": "[encoded data removed]",
      "text/plain": [
       "plot without title"
      ]
     },
     "metadata": {},
     "output_type": "display_data"
    }
   ],
   "source": [
    "#Senior Citizens\n",
    "ggplot(data  = churn_df, aes(x = SeniorCitizen)) +\n",
    "geom_bar(aes(fill = Churn, alpha = 0.5), position = \"dodge\")"
   ]
  },
  {
   "cell_type": "code",
   "execution_count": 17,
   "metadata": {},
   "outputs": [
    {
     "data": {
      "text/html": [
       "<table>\n",
       "<thead><tr><th scope=col>SeniorCitizen</th><th scope=col>Churn</th><th scope=col>n</th></tr></thead>\n",
       "<tbody>\n",
       "\t<tr><td>0   </td><td>No  </td><td>4497</td></tr>\n",
       "\t<tr><td>0   </td><td>Yes </td><td>1393</td></tr>\n",
       "\t<tr><td>1   </td><td>No  </td><td> 666</td></tr>\n",
       "\t<tr><td>1   </td><td>Yes </td><td> 476</td></tr>\n",
       "</tbody>\n",
       "</table>\n"
      ],
      "text/latex": [
       "\\begin{tabular}{r|lll}\n",
       " SeniorCitizen & Churn & n\\\\\n",
       "\\hline\n",
       "\t 0    & No   & 4497\\\\\n",
       "\t 0    & Yes  & 1393\\\\\n",
       "\t 1    & No   &  666\\\\\n",
       "\t 1    & Yes  &  476\\\\\n",
       "\\end{tabular}\n"
      ],
      "text/markdown": [
       "\n",
       "SeniorCitizen | Churn | n | \n",
       "|---|---|---|---|\n",
       "| 0    | No   | 4497 | \n",
       "| 0    | Yes  | 1393 | \n",
       "| 1    | No   |  666 | \n",
       "| 1    | Yes  |  476 | \n",
       "\n",
       "\n"
      ],
      "text/plain": [
       "  SeniorCitizen Churn n   \n",
       "1 0             No    4497\n",
       "2 0             Yes   1393\n",
       "3 1             No     666\n",
       "4 1             Yes    476"
      ]
     },
     "metadata": {},
     "output_type": "display_data"
    }
   ],
   "source": [
    "#churn_df %>% group_by(SeniorCitizen, Churn) %>% summarise(n = n(), average = mean(TotalCharges), maximum = max(TotalCharges))\n",
    "churn_df %>% group_by(SeniorCitizen, Churn) %>% summarise(n = n())"
   ]
  },
  {
   "cell_type": "code",
   "execution_count": 18,
   "metadata": {},
   "outputs": [
    {
     "data": {
      "text/html": [
       "<table>\n",
       "<thead><tr><th scope=col>SeniorCitizen</th><th scope=col>Churn</th><th scope=col>n</th><th scope=col>Percentage</th></tr></thead>\n",
       "<tbody>\n",
       "\t<tr><td>0        </td><td>No       </td><td>4497     </td><td>0.7634975</td></tr>\n",
       "\t<tr><td>0        </td><td>Yes      </td><td>1393     </td><td>0.2365025</td></tr>\n",
       "\t<tr><td>1        </td><td>No       </td><td> 666     </td><td>0.5831874</td></tr>\n",
       "\t<tr><td>1        </td><td>Yes      </td><td> 476     </td><td>0.4168126</td></tr>\n",
       "</tbody>\n",
       "</table>\n"
      ],
      "text/latex": [
       "\\begin{tabular}{r|llll}\n",
       " SeniorCitizen & Churn & n & Percentage\\\\\n",
       "\\hline\n",
       "\t 0         & No        & 4497      & 0.7634975\\\\\n",
       "\t 0         & Yes       & 1393      & 0.2365025\\\\\n",
       "\t 1         & No        &  666      & 0.5831874\\\\\n",
       "\t 1         & Yes       &  476      & 0.4168126\\\\\n",
       "\\end{tabular}\n"
      ],
      "text/markdown": [
       "\n",
       "SeniorCitizen | Churn | n | Percentage | \n",
       "|---|---|---|---|\n",
       "| 0         | No        | 4497      | 0.7634975 | \n",
       "| 0         | Yes       | 1393      | 0.2365025 | \n",
       "| 1         | No        |  666      | 0.5831874 | \n",
       "| 1         | Yes       |  476      | 0.4168126 | \n",
       "\n",
       "\n"
      ],
      "text/plain": [
       "  SeniorCitizen Churn n    Percentage\n",
       "1 0             No    4497 0.7634975 \n",
       "2 0             Yes   1393 0.2365025 \n",
       "3 1             No     666 0.5831874 \n",
       "4 1             Yes    476 0.4168126 "
      ]
     },
     "metadata": {},
     "output_type": "display_data"
    }
   ],
   "source": [
    "churn_df %>% group_by(SeniorCitizen, Churn) %>% summarise(n = n()) %>% mutate(Percentage = n / sum(n))"
   ]
  },
  {
   "cell_type": "code",
   "execution_count": 19,
   "metadata": {},
   "outputs": [
    {
     "data": {},
     "metadata": {},
     "output_type": "display_data"
    },
    {
     "data": {
      "image/png": "[encoded data removed]",
      "text/plain": [
       "plot without title"
      ]
     },
     "metadata": {},
     "output_type": "display_data"
    }
   ],
   "source": [
    "#Partener\n",
    "ggplot(data = churn_df, aes(x = Partner)) +\n",
    "geom_bar(aes(fill = Churn), alpha = 0.5, position = \"dodge\")"
   ]
  },
  {
   "cell_type": "code",
   "execution_count": 20,
   "metadata": {},
   "outputs": [
    {
     "data": {
      "text/html": [
       "<table>\n",
       "<thead><tr><th scope=col>Partner</th><th scope=col>Churn</th><th scope=col>n</th></tr></thead>\n",
       "<tbody>\n",
       "\t<tr><td>No  </td><td>No  </td><td>2439</td></tr>\n",
       "\t<tr><td>No  </td><td>Yes </td><td>1200</td></tr>\n",
       "\t<tr><td>Yes </td><td>No  </td><td>2724</td></tr>\n",
       "\t<tr><td>Yes </td><td>Yes </td><td> 669</td></tr>\n",
       "</tbody>\n",
       "</table>\n"
      ],
      "text/latex": [
       "\\begin{tabular}{r|lll}\n",
       " Partner & Churn & n\\\\\n",
       "\\hline\n",
       "\t No   & No   & 2439\\\\\n",
       "\t No   & Yes  & 1200\\\\\n",
       "\t Yes  & No   & 2724\\\\\n",
       "\t Yes  & Yes  &  669\\\\\n",
       "\\end{tabular}\n"
      ],
      "text/markdown": [
       "\n",
       "Partner | Churn | n | \n",
       "|---|---|---|---|\n",
       "| No   | No   | 2439 | \n",
       "| No   | Yes  | 1200 | \n",
       "| Yes  | No   | 2724 | \n",
       "| Yes  | Yes  |  669 | \n",
       "\n",
       "\n"
      ],
      "text/plain": [
       "  Partner Churn n   \n",
       "1 No      No    2439\n",
       "2 No      Yes   1200\n",
       "3 Yes     No    2724\n",
       "4 Yes     Yes    669"
      ]
     },
     "metadata": {},
     "output_type": "display_data"
    }
   ],
   "source": [
    "churn_df %>% group_by(Partner, Churn) %>% summarise(n = n())"
   ]
  },
  {
   "cell_type": "code",
   "execution_count": 21,
   "metadata": {},
   "outputs": [
    {
     "data": {
      "text/html": [
       "<table>\n",
       "<thead><tr><th scope=col>Partner</th><th scope=col>Churn</th><th scope=col>n</th><th scope=col>percent</th></tr></thead>\n",
       "<tbody>\n",
       "\t<tr><td>No       </td><td>No       </td><td>2439     </td><td>0.6702391</td></tr>\n",
       "\t<tr><td>No       </td><td>Yes      </td><td>1200     </td><td>0.3297609</td></tr>\n",
       "\t<tr><td>Yes      </td><td>No       </td><td>2724     </td><td>0.8028294</td></tr>\n",
       "\t<tr><td>Yes      </td><td>Yes      </td><td> 669     </td><td>0.1971706</td></tr>\n",
       "</tbody>\n",
       "</table>\n"
      ],
      "text/latex": [
       "\\begin{tabular}{r|llll}\n",
       " Partner & Churn & n & percent\\\\\n",
       "\\hline\n",
       "\t No        & No        & 2439      & 0.6702391\\\\\n",
       "\t No        & Yes       & 1200      & 0.3297609\\\\\n",
       "\t Yes       & No        & 2724      & 0.8028294\\\\\n",
       "\t Yes       & Yes       &  669      & 0.1971706\\\\\n",
       "\\end{tabular}\n"
      ],
      "text/markdown": [
       "\n",
       "Partner | Churn | n | percent | \n",
       "|---|---|---|---|\n",
       "| No        | No        | 2439      | 0.6702391 | \n",
       "| No        | Yes       | 1200      | 0.3297609 | \n",
       "| Yes       | No        | 2724      | 0.8028294 | \n",
       "| Yes       | Yes       |  669      | 0.1971706 | \n",
       "\n",
       "\n"
      ],
      "text/plain": [
       "  Partner Churn n    percent  \n",
       "1 No      No    2439 0.6702391\n",
       "2 No      Yes   1200 0.3297609\n",
       "3 Yes     No    2724 0.8028294\n",
       "4 Yes     Yes    669 0.1971706"
      ]
     },
     "metadata": {},
     "output_type": "display_data"
    }
   ],
   "source": [
    "churn_df %>% group_by(Partner, Churn) %>% summarise(n = n()) %>% mutate(percent = n/sum(n))"
   ]
  },
  {
   "cell_type": "markdown",
   "metadata": {},
   "source": [
    "Roughly half of the people have partners.  Of the people with partners, 20% churn.  For people without partners, approximately 33% churn."
   ]
  },
  {
   "cell_type": "code",
   "execution_count": 22,
   "metadata": {},
   "outputs": [
    {
     "data": {},
     "metadata": {},
     "output_type": "display_data"
    },
    {
     "data": {
      "image/png": "[encoded data removed]",
      "text/plain": [
       "plot without title"
      ]
     },
     "metadata": {},
     "output_type": "display_data"
    }
   ],
   "source": [
    "# dependent\n",
    "ggplot(data = churn_df, aes(x = Dependents)) +\n",
    "geom_bar(aes(fill = Churn), alpha = 0.5, position = \"dodge\")"
   ]
  },
  {
   "cell_type": "code",
   "execution_count": 23,
   "metadata": {},
   "outputs": [
    {
     "data": {
      "text/html": [
       "<table>\n",
       "<thead><tr><th scope=col>Dependents</th><th scope=col>Churn</th><th scope=col>n</th><th scope=col>percent</th></tr></thead>\n",
       "<tbody>\n",
       "\t<tr><td>No       </td><td>No       </td><td>3390     </td><td>0.6872086</td></tr>\n",
       "\t<tr><td>No       </td><td>Yes      </td><td>1543     </td><td>0.3127914</td></tr>\n",
       "\t<tr><td>Yes      </td><td>No       </td><td>1773     </td><td>0.8446879</td></tr>\n",
       "\t<tr><td>Yes      </td><td>Yes      </td><td> 326     </td><td>0.1553121</td></tr>\n",
       "</tbody>\n",
       "</table>\n"
      ],
      "text/latex": [
       "\\begin{tabular}{r|llll}\n",
       " Dependents & Churn & n & percent\\\\\n",
       "\\hline\n",
       "\t No        & No        & 3390      & 0.6872086\\\\\n",
       "\t No        & Yes       & 1543      & 0.3127914\\\\\n",
       "\t Yes       & No        & 1773      & 0.8446879\\\\\n",
       "\t Yes       & Yes       &  326      & 0.1553121\\\\\n",
       "\\end{tabular}\n"
      ],
      "text/markdown": [
       "\n",
       "Dependents | Churn | n | percent | \n",
       "|---|---|---|---|\n",
       "| No        | No        | 3390      | 0.6872086 | \n",
       "| No        | Yes       | 1543      | 0.3127914 | \n",
       "| Yes       | No        | 1773      | 0.8446879 | \n",
       "| Yes       | Yes       |  326      | 0.1553121 | \n",
       "\n",
       "\n"
      ],
      "text/plain": [
       "  Dependents Churn n    percent  \n",
       "1 No         No    3390 0.6872086\n",
       "2 No         Yes   1543 0.3127914\n",
       "3 Yes        No    1773 0.8446879\n",
       "4 Yes        Yes    326 0.1553121"
      ]
     },
     "metadata": {},
     "output_type": "display_data"
    }
   ],
   "source": [
    "churn_df %>% group_by(Dependents, Churn) %>% summarise(n = n()) %>% mutate(percent = n/sum(n))"
   ]
  },
  {
   "cell_type": "markdown",
   "metadata": {},
   "source": [
    "Approximately 30% of the people have dependents, of which 15% churn.  For the other 70% that don't have dependents, 31% churn."
   ]
  },
  {
   "cell_type": "markdown",
   "metadata": {},
   "source": [
    "### using boxplot to visualize the data and get more insight out of it"
   ]
  },
  {
   "cell_type": "code",
   "execution_count": 24,
   "metadata": {},
   "outputs": [
    {
     "data": {},
     "metadata": {},
     "output_type": "display_data"
    },
    {
     "data": {
      "image/png": "[encoded data removed]",
      "text/plain": [
       "plot without title"
      ]
     },
     "metadata": {},
     "output_type": "display_data"
    }
   ],
   "source": [
    "# Senior Citizens \n",
    "ggplot(churn_df, aes(x = SeniorCitizen, y = TotalCharges)) + \n",
    "geom_boxplot(aes(fill=Churn)) +\n",
    "scale_y_continuous(breaks = seq(min(churn_df$TotalCharges), max(churn_df$TotalCharges), by = 400))"
   ]
  },
  {
   "cell_type": "code",
   "execution_count": 25,
   "metadata": {},
   "outputs": [
    {
     "data": {},
     "metadata": {},
     "output_type": "display_data"
    },
    {
     "data": {
      "image/png": "[encoded data removed]",
      "text/plain": [
       "plot without title"
      ]
     },
     "metadata": {},
     "output_type": "display_data"
    }
   ],
   "source": [
    "# Gender \n",
    "ggplot(churn_df, aes(x = gender, y = TotalCharges)) + \n",
    "geom_boxplot(aes(fill=Churn)) +\n",
    "scale_y_continuous(breaks = seq(min(churn_df$TotalCharges), max(churn_df$TotalCharges), by = 400))"
   ]
  },
  {
   "cell_type": "code",
   "execution_count": 26,
   "metadata": {},
   "outputs": [
    {
     "data": {},
     "metadata": {},
     "output_type": "display_data"
    },
    {
     "data": {
      "image/png": "[encoded data removed]",
      "text/plain": [
       "plot without title"
      ]
     },
     "metadata": {},
     "output_type": "display_data"
    }
   ],
   "source": [
    "# Partner \n",
    "ggplot(churn_df, aes(x = Partner, y = TotalCharges)) + \n",
    "geom_boxplot(aes(fill=Churn)) +\n",
    "scale_y_continuous(breaks = seq(min(churn_df$TotalCharges), max(churn_df$TotalCharges), by = 400))"
   ]
  },
  {
   "cell_type": "code",
   "execution_count": 27,
   "metadata": {},
   "outputs": [
    {
     "data": {},
     "metadata": {},
     "output_type": "display_data"
    },
    {
     "data": {
      "image/png": "[encoded data removed]",
      "text/plain": [
       "plot without title"
      ]
     },
     "metadata": {},
     "output_type": "display_data"
    }
   ],
   "source": [
    "# Dependents\n",
    "ggplot(churn_df, aes(x = Dependents, y = TotalCharges)) + \n",
    "geom_boxplot(aes(fill=Churn)) +\n",
    "scale_y_continuous(breaks = seq(min(churn_df$TotalCharges), max(churn_df$TotalCharges), by = 400))"
   ]
  },
  {
   "cell_type": "code",
   "execution_count": 28,
   "metadata": {},
   "outputs": [
    {
     "data": {
      "text/html": [
       "<table>\n",
       "<thead><tr><th scope=col>n</th><th scope=col>total</th><th scope=col>avg_tenure</th></tr></thead>\n",
       "<tbody>\n",
       "\t<tr><td>1200    </td><td>1306776 </td><td>13.17667</td></tr>\n",
       "</tbody>\n",
       "</table>\n"
      ],
      "text/latex": [
       "\\begin{tabular}{r|lll}\n",
       " n & total & avg\\_tenure\\\\\n",
       "\\hline\n",
       "\t 1200     & 1306776  & 13.17667\\\\\n",
       "\\end{tabular}\n"
      ],
      "text/markdown": [
       "\n",
       "n | total | avg_tenure | \n",
       "|---|\n",
       "| 1200     | 1306776  | 13.17667 | \n",
       "\n",
       "\n"
      ],
      "text/plain": [
       "  n    total   avg_tenure\n",
       "1 1200 1306776 13.17667  "
      ]
     },
     "metadata": {},
     "output_type": "display_data"
    }
   ],
   "source": [
    "# Total charges and tenure of people without a partner\n",
    "churn_df %>% \n",
    "  select(Partner, Churn, TotalCharges, tenure) %>% \n",
    "  filter(Partner == \"No\", Churn == \"Yes\") %>% \n",
    "  summarise(n = n(),\n",
    "            total = sum(TotalCharges),\n",
    "            avg_tenure = sum(tenure)/n)"
   ]
  },
  {
   "cell_type": "markdown",
   "metadata": {},
   "source": [
    "## Model building using Logistic Regression"
   ]
  },
  {
   "cell_type": "code",
   "execution_count": 29,
   "metadata": {},
   "outputs": [
    {
     "data": {
      "text/html": [
       "<table>\n",
       "<thead><tr><th scope=col>customerID</th><th scope=col>gender</th><th scope=col>SeniorCitizen</th><th scope=col>Partner</th><th scope=col>Dependents</th><th scope=col>tenure</th><th scope=col>PhoneService</th><th scope=col>MultipleLines</th><th scope=col>InternetService</th><th scope=col>OnlineSecurity</th><th scope=col>...</th><th scope=col>DeviceProtection</th><th scope=col>TechSupport</th><th scope=col>StreamingTV</th><th scope=col>StreamingMovies</th><th scope=col>Contract</th><th scope=col>PaperlessBilling</th><th scope=col>PaymentMethod</th><th scope=col>MonthlyCharges</th><th scope=col>TotalCharges</th><th scope=col>Churn</th></tr></thead>\n",
       "<tbody>\n",
       "\t<tr><td>7590-VHVEG               </td><td>Female                   </td><td>0                        </td><td>Yes                      </td><td>No                       </td><td> 1                       </td><td>No                       </td><td>No phone service         </td><td>DSL                      </td><td>No                       </td><td>...                      </td><td>No                       </td><td>No                       </td><td>No                       </td><td>No                       </td><td>Month-to-month           </td><td>Yes                      </td><td>Electronic check         </td><td>29.85                    </td><td>  29.85                  </td><td>No                       </td></tr>\n",
       "\t<tr><td>5575-GNVDE               </td><td>Male                     </td><td>0                        </td><td>No                       </td><td>No                       </td><td>34                       </td><td>Yes                      </td><td>No                       </td><td>DSL                      </td><td>Yes                      </td><td>...                      </td><td>Yes                      </td><td>No                       </td><td>No                       </td><td>No                       </td><td>One year                 </td><td>No                       </td><td>Mailed check             </td><td>56.95                    </td><td>1889.50                  </td><td>No                       </td></tr>\n",
       "\t<tr><td>3668-QPYBK               </td><td>Male                     </td><td>0                        </td><td>No                       </td><td>No                       </td><td> 2                       </td><td>Yes                      </td><td>No                       </td><td>DSL                      </td><td>Yes                      </td><td>...                      </td><td>No                       </td><td>No                       </td><td>No                       </td><td>No                       </td><td>Month-to-month           </td><td>Yes                      </td><td>Mailed check             </td><td>53.85                    </td><td> 108.15                  </td><td>Yes                      </td></tr>\n",
       "\t<tr><td>7795-CFOCW               </td><td>Male                     </td><td>0                        </td><td>No                       </td><td>No                       </td><td>45                       </td><td>No                       </td><td>No phone service         </td><td>DSL                      </td><td>Yes                      </td><td>...                      </td><td>Yes                      </td><td>Yes                      </td><td>No                       </td><td>No                       </td><td>One year                 </td><td>No                       </td><td>Bank transfer (automatic)</td><td>42.30                    </td><td>1840.75                  </td><td>No                       </td></tr>\n",
       "\t<tr><td>9237-HQITU               </td><td>Female                   </td><td>0                        </td><td>No                       </td><td>No                       </td><td> 2                       </td><td>Yes                      </td><td>No                       </td><td>Fiber optic              </td><td>No                       </td><td>...                      </td><td>No                       </td><td>No                       </td><td>No                       </td><td>No                       </td><td>Month-to-month           </td><td>Yes                      </td><td>Electronic check         </td><td>70.70                    </td><td> 151.65                  </td><td>Yes                      </td></tr>\n",
       "\t<tr><td>9305-CDSKC               </td><td>Female                   </td><td>0                        </td><td>No                       </td><td>No                       </td><td> 8                       </td><td>Yes                      </td><td>Yes                      </td><td>Fiber optic              </td><td>No                       </td><td>...                      </td><td>Yes                      </td><td>No                       </td><td>Yes                      </td><td>Yes                      </td><td>Month-to-month           </td><td>Yes                      </td><td>Electronic check         </td><td>99.65                    </td><td> 820.50                  </td><td>Yes                      </td></tr>\n",
       "</tbody>\n",
       "</table>\n"
      ],
      "text/latex": [
       "\\begin{tabular}{r|lllllllllllllllllllll}\n",
       " customerID & gender & SeniorCitizen & Partner & Dependents & tenure & PhoneService & MultipleLines & InternetService & OnlineSecurity & ... & DeviceProtection & TechSupport & StreamingTV & StreamingMovies & Contract & PaperlessBilling & PaymentMethod & MonthlyCharges & TotalCharges & Churn\\\\\n",
       "\\hline\n",
       "\t 7590-VHVEG                & Female                    & 0                         & Yes                       & No                        &  1                        & No                        & No phone service          & DSL                       & No                        & ...                       & No                        & No                        & No                        & No                        & Month-to-month            & Yes                       & Electronic check          & 29.85                     &   29.85                   & No                       \\\\\n",
       "\t 5575-GNVDE                & Male                      & 0                         & No                        & No                        & 34                        & Yes                       & No                        & DSL                       & Yes                       & ...                       & Yes                       & No                        & No                        & No                        & One year                  & No                        & Mailed check              & 56.95                     & 1889.50                   & No                       \\\\\n",
       "\t 3668-QPYBK                & Male                      & 0                         & No                        & No                        &  2                        & Yes                       & No                        & DSL                       & Yes                       & ...                       & No                        & No                        & No                        & No                        & Month-to-month            & Yes                       & Mailed check              & 53.85                     &  108.15                   & Yes                      \\\\\n",
       "\t 7795-CFOCW                & Male                      & 0                         & No                        & No                        & 45                        & No                        & No phone service          & DSL                       & Yes                       & ...                       & Yes                       & Yes                       & No                        & No                        & One year                  & No                        & Bank transfer (automatic) & 42.30                     & 1840.75                   & No                       \\\\\n",
       "\t 9237-HQITU                & Female                    & 0                         & No                        & No                        &  2                        & Yes                       & No                        & Fiber optic               & No                        & ...                       & No                        & No                        & No                        & No                        & Month-to-month            & Yes                       & Electronic check          & 70.70                     &  151.65                   & Yes                      \\\\\n",
       "\t 9305-CDSKC                & Female                    & 0                         & No                        & No                        &  8                        & Yes                       & Yes                       & Fiber optic               & No                        & ...                       & Yes                       & No                        & Yes                       & Yes                       & Month-to-month            & Yes                       & Electronic check          & 99.65                     &  820.50                   & Yes                      \\\\\n",
       "\\end{tabular}\n"
      ],
      "text/markdown": [
       "\n",
       "customerID | gender | SeniorCitizen | Partner | Dependents | tenure | PhoneService | MultipleLines | InternetService | OnlineSecurity | ... | DeviceProtection | TechSupport | StreamingTV | StreamingMovies | Contract | PaperlessBilling | PaymentMethod | MonthlyCharges | TotalCharges | Churn | \n",
       "|---|---|---|---|---|---|\n",
       "| 7590-VHVEG                | Female                    | 0                         | Yes                       | No                        |  1                        | No                        | No phone service          | DSL                       | No                        | ...                       | No                        | No                        | No                        | No                        | Month-to-month            | Yes                       | Electronic check          | 29.85                     |   29.85                   | No                        | \n",
       "| 5575-GNVDE                | Male                      | 0                         | No                        | No                        | 34                        | Yes                       | No                        | DSL                       | Yes                       | ...                       | Yes                       | No                        | No                        | No                        | One year                  | No                        | Mailed check              | 56.95                     | 1889.50                   | No                        | \n",
       "| 3668-QPYBK                | Male                      | 0                         | No                        | No                        |  2                        | Yes                       | No                        | DSL                       | Yes                       | ...                       | No                        | No                        | No                        | No                        | Month-to-month            | Yes                       | Mailed check              | 53.85                     |  108.15                   | Yes                       | \n",
       "| 7795-CFOCW                | Male                      | 0                         | No                        | No                        | 45                        | No                        | No phone service          | DSL                       | Yes                       | ...                       | Yes                       | Yes                       | No                        | No                        | One year                  | No                        | Bank transfer (automatic) | 42.30                     | 1840.75                   | No                        | \n",
       "| 9237-HQITU                | Female                    | 0                         | No                        | No                        |  2                        | Yes                       | No                        | Fiber optic               | No                        | ...                       | No                        | No                        | No                        | No                        | Month-to-month            | Yes                       | Electronic check          | 70.70                     |  151.65                   | Yes                       | \n",
       "| 9305-CDSKC                | Female                    | 0                         | No                        | No                        |  8                        | Yes                       | Yes                       | Fiber optic               | No                        | ...                       | Yes                       | No                        | Yes                       | Yes                       | Month-to-month            | Yes                       | Electronic check          | 99.65                     |  820.50                   | Yes                       | \n",
       "\n",
       "\n"
      ],
      "text/plain": [
       "  customerID gender SeniorCitizen Partner Dependents tenure PhoneService\n",
       "1 7590-VHVEG Female 0             Yes     No          1     No          \n",
       "2 5575-GNVDE Male   0             No      No         34     Yes         \n",
       "3 3668-QPYBK Male   0             No      No          2     Yes         \n",
       "4 7795-CFOCW Male   0             No      No         45     No          \n",
       "5 9237-HQITU Female 0             No      No          2     Yes         \n",
       "6 9305-CDSKC Female 0             No      No          8     Yes         \n",
       "  MultipleLines    InternetService OnlineSecurity ... DeviceProtection\n",
       "1 No phone service DSL             No             ... No              \n",
       "2 No               DSL             Yes            ... Yes             \n",
       "3 No               DSL             Yes            ... No              \n",
       "4 No phone service DSL             Yes            ... Yes             \n",
       "5 No               Fiber optic     No             ... No              \n",
       "6 Yes              Fiber optic     No             ... Yes             \n",
       "  TechSupport StreamingTV StreamingMovies Contract       PaperlessBilling\n",
       "1 No          No          No              Month-to-month Yes             \n",
       "2 No          No          No              One year       No              \n",
       "3 No          No          No              Month-to-month Yes             \n",
       "4 Yes         No          No              One year       No              \n",
       "5 No          No          No              Month-to-month Yes             \n",
       "6 No          Yes         Yes             Month-to-month Yes             \n",
       "  PaymentMethod             MonthlyCharges TotalCharges Churn\n",
       "1 Electronic check          29.85            29.85      No   \n",
       "2 Mailed check              56.95          1889.50      No   \n",
       "3 Mailed check              53.85           108.15      Yes  \n",
       "4 Bank transfer (automatic) 42.30          1840.75      No   \n",
       "5 Electronic check          70.70           151.65      Yes  \n",
       "6 Electronic check          99.65           820.50      Yes  "
      ]
     },
     "metadata": {},
     "output_type": "display_data"
    }
   ],
   "source": [
    "head(churn_df)"
   ]
  },
  {
   "cell_type": "code",
   "execution_count": 30,
   "metadata": {},
   "outputs": [],
   "source": [
    "# removing customerID\n",
    "churn_df = select(churn_df, -customerID)"
   ]
  },
  {
   "cell_type": "code",
   "execution_count": 31,
   "metadata": {},
   "outputs": [
    {
     "data": {
      "text/html": [
       "<table>\n",
       "<thead><tr><th scope=col>gender</th><th scope=col>SeniorCitizen</th><th scope=col>Partner</th><th scope=col>Dependents</th><th scope=col>tenure</th><th scope=col>PhoneService</th><th scope=col>MultipleLines</th><th scope=col>InternetService</th><th scope=col>OnlineSecurity</th><th scope=col>OnlineBackup</th><th scope=col>DeviceProtection</th><th scope=col>TechSupport</th><th scope=col>StreamingTV</th><th scope=col>StreamingMovies</th><th scope=col>Contract</th><th scope=col>PaperlessBilling</th><th scope=col>PaymentMethod</th><th scope=col>MonthlyCharges</th><th scope=col>TotalCharges</th><th scope=col>Churn</th></tr></thead>\n",
       "<tbody>\n",
       "\t<tr><td>Female                   </td><td>0                        </td><td>Yes                      </td><td>No                       </td><td> 1                       </td><td>No                       </td><td>No phone service         </td><td>DSL                      </td><td>No                       </td><td>Yes                      </td><td>No                       </td><td>No                       </td><td>No                       </td><td>No                       </td><td>Month-to-month           </td><td>Yes                      </td><td>Electronic check         </td><td>29.85                    </td><td>  29.85                  </td><td>No                       </td></tr>\n",
       "\t<tr><td>Male                     </td><td>0                        </td><td>No                       </td><td>No                       </td><td>34                       </td><td>Yes                      </td><td>No                       </td><td>DSL                      </td><td>Yes                      </td><td>No                       </td><td>Yes                      </td><td>No                       </td><td>No                       </td><td>No                       </td><td>One year                 </td><td>No                       </td><td>Mailed check             </td><td>56.95                    </td><td>1889.50                  </td><td>No                       </td></tr>\n",
       "\t<tr><td>Male                     </td><td>0                        </td><td>No                       </td><td>No                       </td><td> 2                       </td><td>Yes                      </td><td>No                       </td><td>DSL                      </td><td>Yes                      </td><td>Yes                      </td><td>No                       </td><td>No                       </td><td>No                       </td><td>No                       </td><td>Month-to-month           </td><td>Yes                      </td><td>Mailed check             </td><td>53.85                    </td><td> 108.15                  </td><td>Yes                      </td></tr>\n",
       "\t<tr><td>Male                     </td><td>0                        </td><td>No                       </td><td>No                       </td><td>45                       </td><td>No                       </td><td>No phone service         </td><td>DSL                      </td><td>Yes                      </td><td>No                       </td><td>Yes                      </td><td>Yes                      </td><td>No                       </td><td>No                       </td><td>One year                 </td><td>No                       </td><td>Bank transfer (automatic)</td><td>42.30                    </td><td>1840.75                  </td><td>No                       </td></tr>\n",
       "\t<tr><td>Female                   </td><td>0                        </td><td>No                       </td><td>No                       </td><td> 2                       </td><td>Yes                      </td><td>No                       </td><td>Fiber optic              </td><td>No                       </td><td>No                       </td><td>No                       </td><td>No                       </td><td>No                       </td><td>No                       </td><td>Month-to-month           </td><td>Yes                      </td><td>Electronic check         </td><td>70.70                    </td><td> 151.65                  </td><td>Yes                      </td></tr>\n",
       "\t<tr><td>Female                   </td><td>0                        </td><td>No                       </td><td>No                       </td><td> 8                       </td><td>Yes                      </td><td>Yes                      </td><td>Fiber optic              </td><td>No                       </td><td>No                       </td><td>Yes                      </td><td>No                       </td><td>Yes                      </td><td>Yes                      </td><td>Month-to-month           </td><td>Yes                      </td><td>Electronic check         </td><td>99.65                    </td><td> 820.50                  </td><td>Yes                      </td></tr>\n",
       "</tbody>\n",
       "</table>\n"
      ],
      "text/latex": [
       "\\begin{tabular}{r|llllllllllllllllllll}\n",
       " gender & SeniorCitizen & Partner & Dependents & tenure & PhoneService & MultipleLines & InternetService & OnlineSecurity & OnlineBackup & DeviceProtection & TechSupport & StreamingTV & StreamingMovies & Contract & PaperlessBilling & PaymentMethod & MonthlyCharges & TotalCharges & Churn\\\\\n",
       "\\hline\n",
       "\t Female                    & 0                         & Yes                       & No                        &  1                        & No                        & No phone service          & DSL                       & No                        & Yes                       & No                        & No                        & No                        & No                        & Month-to-month            & Yes                       & Electronic check          & 29.85                     &   29.85                   & No                       \\\\\n",
       "\t Male                      & 0                         & No                        & No                        & 34                        & Yes                       & No                        & DSL                       & Yes                       & No                        & Yes                       & No                        & No                        & No                        & One year                  & No                        & Mailed check              & 56.95                     & 1889.50                   & No                       \\\\\n",
       "\t Male                      & 0                         & No                        & No                        &  2                        & Yes                       & No                        & DSL                       & Yes                       & Yes                       & No                        & No                        & No                        & No                        & Month-to-month            & Yes                       & Mailed check              & 53.85                     &  108.15                   & Yes                      \\\\\n",
       "\t Male                      & 0                         & No                        & No                        & 45                        & No                        & No phone service          & DSL                       & Yes                       & No                        & Yes                       & Yes                       & No                        & No                        & One year                  & No                        & Bank transfer (automatic) & 42.30                     & 1840.75                   & No                       \\\\\n",
       "\t Female                    & 0                         & No                        & No                        &  2                        & Yes                       & No                        & Fiber optic               & No                        & No                        & No                        & No                        & No                        & No                        & Month-to-month            & Yes                       & Electronic check          & 70.70                     &  151.65                   & Yes                      \\\\\n",
       "\t Female                    & 0                         & No                        & No                        &  8                        & Yes                       & Yes                       & Fiber optic               & No                        & No                        & Yes                       & No                        & Yes                       & Yes                       & Month-to-month            & Yes                       & Electronic check          & 99.65                     &  820.50                   & Yes                      \\\\\n",
       "\\end{tabular}\n"
      ],
      "text/markdown": [
       "\n",
       "gender | SeniorCitizen | Partner | Dependents | tenure | PhoneService | MultipleLines | InternetService | OnlineSecurity | OnlineBackup | DeviceProtection | TechSupport | StreamingTV | StreamingMovies | Contract | PaperlessBilling | PaymentMethod | MonthlyCharges | TotalCharges | Churn | \n",
       "|---|---|---|---|---|---|\n",
       "| Female                    | 0                         | Yes                       | No                        |  1                        | No                        | No phone service          | DSL                       | No                        | Yes                       | No                        | No                        | No                        | No                        | Month-to-month            | Yes                       | Electronic check          | 29.85                     |   29.85                   | No                        | \n",
       "| Male                      | 0                         | No                        | No                        | 34                        | Yes                       | No                        | DSL                       | Yes                       | No                        | Yes                       | No                        | No                        | No                        | One year                  | No                        | Mailed check              | 56.95                     | 1889.50                   | No                        | \n",
       "| Male                      | 0                         | No                        | No                        |  2                        | Yes                       | No                        | DSL                       | Yes                       | Yes                       | No                        | No                        | No                        | No                        | Month-to-month            | Yes                       | Mailed check              | 53.85                     |  108.15                   | Yes                       | \n",
       "| Male                      | 0                         | No                        | No                        | 45                        | No                        | No phone service          | DSL                       | Yes                       | No                        | Yes                       | Yes                       | No                        | No                        | One year                  | No                        | Bank transfer (automatic) | 42.30                     | 1840.75                   | No                        | \n",
       "| Female                    | 0                         | No                        | No                        |  2                        | Yes                       | No                        | Fiber optic               | No                        | No                        | No                        | No                        | No                        | No                        | Month-to-month            | Yes                       | Electronic check          | 70.70                     |  151.65                   | Yes                       | \n",
       "| Female                    | 0                         | No                        | No                        |  8                        | Yes                       | Yes                       | Fiber optic               | No                        | No                        | Yes                       | No                        | Yes                       | Yes                       | Month-to-month            | Yes                       | Electronic check          | 99.65                     |  820.50                   | Yes                       | \n",
       "\n",
       "\n"
      ],
      "text/plain": [
       "  gender SeniorCitizen Partner Dependents tenure PhoneService MultipleLines   \n",
       "1 Female 0             Yes     No          1     No           No phone service\n",
       "2 Male   0             No      No         34     Yes          No              \n",
       "3 Male   0             No      No          2     Yes          No              \n",
       "4 Male   0             No      No         45     No           No phone service\n",
       "5 Female 0             No      No          2     Yes          No              \n",
       "6 Female 0             No      No          8     Yes          Yes             \n",
       "  InternetService OnlineSecurity OnlineBackup DeviceProtection TechSupport\n",
       "1 DSL             No             Yes          No               No         \n",
       "2 DSL             Yes            No           Yes              No         \n",
       "3 DSL             Yes            Yes          No               No         \n",
       "4 DSL             Yes            No           Yes              Yes        \n",
       "5 Fiber optic     No             No           No               No         \n",
       "6 Fiber optic     No             No           Yes              No         \n",
       "  StreamingTV StreamingMovies Contract       PaperlessBilling\n",
       "1 No          No              Month-to-month Yes             \n",
       "2 No          No              One year       No              \n",
       "3 No          No              Month-to-month Yes             \n",
       "4 No          No              One year       No              \n",
       "5 No          No              Month-to-month Yes             \n",
       "6 Yes         Yes             Month-to-month Yes             \n",
       "  PaymentMethod             MonthlyCharges TotalCharges Churn\n",
       "1 Electronic check          29.85            29.85      No   \n",
       "2 Mailed check              56.95          1889.50      No   \n",
       "3 Mailed check              53.85           108.15      Yes  \n",
       "4 Bank transfer (automatic) 42.30          1840.75      No   \n",
       "5 Electronic check          70.70           151.65      Yes  \n",
       "6 Electronic check          99.65           820.50      Yes  "
      ]
     },
     "metadata": {},
     "output_type": "display_data"
    }
   ],
   "source": [
    "head(churn_df)"
   ]
  },
  {
   "cell_type": "markdown",
   "metadata": {},
   "source": [
    "## Spliting the dataset into training and testing set"
   ]
  },
  {
   "cell_type": "code",
   "execution_count": 32,
   "metadata": {},
   "outputs": [
    {
     "name": "stderr",
     "output_type": "stream",
     "text": [
      "Warning message:\n",
      "\"package 'caret' was built under R version 3.5.2\"Loading required package: lattice\n",
      "Warning message:\n",
      "\"package 'lattice' was built under R version 3.5.2\""
     ]
    }
   ],
   "source": [
    "library(caret)\n",
    "set.seed(1234)\n",
    "inTrain = createDataPartition(y = churn_df$Churn, list = FALSE, p = 0.75)"
   ]
  },
  {
   "cell_type": "code",
   "execution_count": 33,
   "metadata": {},
   "outputs": [],
   "source": [
    "train = churn_df[inTrain,]\n",
    "test = churn_df[-inTrain,]"
   ]
  },
  {
   "cell_type": "code",
   "execution_count": 34,
   "metadata": {},
   "outputs": [
    {
     "data": {
      "text/html": [
       "<ol class=list-inline>\n",
       "\t<li>5275</li>\n",
       "\t<li>20</li>\n",
       "</ol>\n"
      ],
      "text/latex": [
       "\\begin{enumerate*}\n",
       "\\item 5275\n",
       "\\item 20\n",
       "\\end{enumerate*}\n"
      ],
      "text/markdown": [
       "1. 5275\n",
       "2. 20\n",
       "\n",
       "\n"
      ],
      "text/plain": [
       "[1] 5275   20"
      ]
     },
     "metadata": {},
     "output_type": "display_data"
    }
   ],
   "source": [
    "dim(train)"
   ]
  },
  {
   "cell_type": "code",
   "execution_count": 35,
   "metadata": {},
   "outputs": [
    {
     "data": {
      "text/html": [
       "<ol class=list-inline>\n",
       "\t<li>1757</li>\n",
       "\t<li>20</li>\n",
       "</ol>\n"
      ],
      "text/latex": [
       "\\begin{enumerate*}\n",
       "\\item 1757\n",
       "\\item 20\n",
       "\\end{enumerate*}\n"
      ],
      "text/markdown": [
       "1. 1757\n",
       "2. 20\n",
       "\n",
       "\n"
      ],
      "text/plain": [
       "[1] 1757   20"
      ]
     },
     "metadata": {},
     "output_type": "display_data"
    }
   ],
   "source": [
    "dim(test)"
   ]
  },
  {
   "cell_type": "code",
   "execution_count": 36,
   "metadata": {},
   "outputs": [],
   "source": [
    "# using all the features to create the model at first\n",
    "classifier = glm(formula =train$Churn ~., family = binomial(link = \"logit\"), data = train)"
   ]
  },
  {
   "cell_type": "code",
   "execution_count": 37,
   "metadata": {},
   "outputs": [
    {
     "data": {
      "text/plain": [
       "\n",
       "Call:\n",
       "glm(formula = train$Churn ~ ., family = binomial(link = \"logit\"), \n",
       "    data = train)\n",
       "\n",
       "Deviance Residuals: \n",
       "    Min       1Q   Median       3Q      Max  \n",
       "-1.9211  -0.6883  -0.2821   0.7234   3.3819  \n",
       "\n",
       "Coefficients: (7 not defined because of singularities)\n",
       "                                       Estimate Std. Error z value Pr(>|z|)    \n",
       "(Intercept)                           1.884e+00  9.454e-01   1.993 0.046247 *  \n",
       "genderMale                            1.496e-02  7.510e-02   0.199 0.842090    \n",
       "SeniorCitizen1                        1.388e-01  9.856e-02   1.408 0.159052    \n",
       "PartnerYes                           -5.406e-02  8.936e-02  -0.605 0.545167    \n",
       "DependentsYes                        -1.779e-01  1.032e-01  -1.723 0.084841 .  \n",
       "tenure                               -5.937e-02  7.044e-03  -8.428  < 2e-16 ***\n",
       "PhoneServiceYes                       7.832e-01  7.501e-01   1.044 0.296402    \n",
       "MultipleLinesNo phone service                NA         NA      NA       NA    \n",
       "MultipleLinesYes                      5.660e-01  2.056e-01   2.752 0.005917 ** \n",
       "InternetServiceFiber optic            2.413e+00  9.257e-01   2.607 0.009135 ** \n",
       "InternetServiceNo                    -2.459e+00  9.348e-01  -2.630 0.008529 ** \n",
       "OnlineSecurityNo internet service            NA         NA      NA       NA    \n",
       "OnlineSecurityYes                    -1.386e-02  2.067e-01  -0.067 0.946530    \n",
       "OnlineBackupNo internet service              NA         NA      NA       NA    \n",
       "OnlineBackupYes                       1.532e-01  2.032e-01   0.754 0.450801    \n",
       "DeviceProtectionNo internet service          NA         NA      NA       NA    \n",
       "DeviceProtectionYes                   3.157e-01  2.042e-01   1.546 0.122076    \n",
       "TechSupportNo internet service               NA         NA      NA       NA    \n",
       "TechSupportYes                       -1.781e-01  2.091e-01  -0.852 0.394419    \n",
       "StreamingTVNo internet service               NA         NA      NA       NA    \n",
       "StreamingTVYes                        8.795e-01  3.770e-01   2.333 0.019641 *  \n",
       "StreamingMoviesNo internet service           NA         NA      NA       NA    \n",
       "StreamingMoviesYes                    9.525e-01  3.773e-01   2.525 0.011575 *  \n",
       "ContractOne year                     -7.363e-01  1.265e-01  -5.822 5.80e-09 ***\n",
       "ContractTwo year                     -1.421e+00  2.031e-01  -6.996 2.64e-12 ***\n",
       "PaperlessBillingYes                   2.842e-01  8.549e-02   3.324 0.000886 ***\n",
       "PaymentMethodCredit card (automatic) -1.177e-01  1.307e-01  -0.900 0.368032    \n",
       "PaymentMethodElectronic check         3.532e-01  1.091e-01   3.239 0.001201 ** \n",
       "PaymentMethodMailed check            -6.292e-02  1.323e-01  -0.476 0.634382    \n",
       "MonthlyCharges                       -6.890e-02  3.678e-02  -1.873 0.061046 .  \n",
       "TotalCharges                          3.459e-04  8.027e-05   4.309 1.64e-05 ***\n",
       "---\n",
       "Signif. codes:  0 '***' 0.001 '**' 0.01 '*' 0.05 '.' 0.1 ' ' 1\n",
       "\n",
       "(Dispersion parameter for binomial family taken to be 1)\n",
       "\n",
       "    Null deviance: 6108.6  on 5274  degrees of freedom\n",
       "Residual deviance: 4362.5  on 5251  degrees of freedom\n",
       "AIC: 4410.5\n",
       "\n",
       "Number of Fisher Scoring iterations: 6\n"
      ]
     },
     "metadata": {},
     "output_type": "display_data"
    }
   ],
   "source": [
    "summary(classifier)"
   ]
  },
  {
   "cell_type": "code",
   "execution_count": 38,
   "metadata": {},
   "outputs": [
    {
     "name": "stderr",
     "output_type": "stream",
     "text": [
      "Warning message in predict.lm(object, newdata, se.fit, scale = 1, type = ifelse(type == :\n",
      "\"prediction from a rank-deficient fit may be misleading\""
     ]
    }
   ],
   "source": [
    "#making prediction\n",
    "y_pred = predict(object = classifier, newdata = test, type = \"response\")"
   ]
  },
  {
   "cell_type": "code",
   "execution_count": 39,
   "metadata": {},
   "outputs": [
    {
     "data": {
      "text/html": [
       "<dl class=dl-horizontal>\n",
       "\t<dt>1</dt>\n",
       "\t\t<dd>0.626054102923548</dd>\n",
       "\t<dt>3</dt>\n",
       "\t\t<dd>0.321212437634012</dd>\n",
       "\t<dt>12</dt>\n",
       "\t\t<dd>0.0305557642477538</dd>\n",
       "\t<dt>27</dt>\n",
       "\t\t<dd>0.515048003969305</dd>\n",
       "\t<dt>29</dt>\n",
       "\t\t<dd>0.0142052493983058</dd>\n",
       "\t<dt>31</dt>\n",
       "\t\t<dd>0.0227942463035113</dd>\n",
       "</dl>\n"
      ],
      "text/latex": [
       "\\begin{description*}\n",
       "\\item[1] 0.626054102923548\n",
       "\\item[3] 0.321212437634012\n",
       "\\item[12] 0.0305557642477538\n",
       "\\item[27] 0.515048003969305\n",
       "\\item[29] 0.0142052493983058\n",
       "\\item[31] 0.0227942463035113\n",
       "\\end{description*}\n"
      ],
      "text/markdown": [
       "1\n",
       ":   0.6260541029235483\n",
       ":   0.32121243763401212\n",
       ":   0.030555764247753827\n",
       ":   0.51504800396930529\n",
       ":   0.014205249398305831\n",
       ":   0.0227942463035113\n",
       "\n"
      ],
      "text/plain": [
       "         1          3         12         27         29         31 \n",
       "0.62605410 0.32121244 0.03055576 0.51504800 0.01420525 0.02279425 "
      ]
     },
     "metadata": {},
     "output_type": "display_data"
    }
   ],
   "source": [
    "head(y_pred)"
   ]
  },
  {
   "cell_type": "code",
   "execution_count": 40,
   "metadata": {},
   "outputs": [],
   "source": [
    "y_pred = ifelse(y_pred > 0.5, \"Yes\", \"No\")"
   ]
  },
  {
   "cell_type": "code",
   "execution_count": 41,
   "metadata": {},
   "outputs": [],
   "source": [
    "y_pred = as.factor(y_pred)"
   ]
  },
  {
   "cell_type": "code",
   "execution_count": 42,
   "metadata": {},
   "outputs": [
    {
     "data": {
      "text/html": [
       "<dl class=dl-horizontal>\n",
       "\t<dt>1</dt>\n",
       "\t\t<dd>Yes</dd>\n",
       "\t<dt>3</dt>\n",
       "\t\t<dd>No</dd>\n",
       "\t<dt>12</dt>\n",
       "\t\t<dd>No</dd>\n",
       "\t<dt>27</dt>\n",
       "\t\t<dd>Yes</dd>\n",
       "\t<dt>29</dt>\n",
       "\t\t<dd>No</dd>\n",
       "\t<dt>31</dt>\n",
       "\t\t<dd>No</dd>\n",
       "</dl>\n",
       "\n",
       "<details>\n",
       "\t<summary style=display:list-item;cursor:pointer>\n",
       "\t\t<strong>Levels</strong>:\n",
       "\t</summary>\n",
       "\t<ol class=list-inline>\n",
       "\t\t<li>'No'</li>\n",
       "\t\t<li>'Yes'</li>\n",
       "\t</ol>\n",
       "</details>"
      ],
      "text/latex": [
       "\\begin{description*}\n",
       "\\item[1] Yes\n",
       "\\item[3] No\n",
       "\\item[12] No\n",
       "\\item[27] Yes\n",
       "\\item[29] No\n",
       "\\item[31] No\n",
       "\\end{description*}\n",
       "\n",
       "\\emph{Levels}: \\begin{enumerate*}\n",
       "\\item 'No'\n",
       "\\item 'Yes'\n",
       "\\end{enumerate*}\n"
      ],
      "text/markdown": [
       "1\n",
       ":   Yes3\n",
       ":   No12\n",
       ":   No27\n",
       ":   Yes29\n",
       ":   No31\n",
       ":   No\n",
       "\n",
       "\n",
       "**Levels**: 1. 'No'\n",
       "2. 'Yes'\n",
       "\n",
       "\n"
      ],
      "text/plain": [
       "  1   3  12  27  29  31 \n",
       "Yes  No  No Yes  No  No \n",
       "Levels: No Yes"
      ]
     },
     "metadata": {},
     "output_type": "display_data"
    }
   ],
   "source": [
    "head(y_pred)"
   ]
  },
  {
   "cell_type": "code",
   "execution_count": 43,
   "metadata": {},
   "outputs": [
    {
     "data": {
      "text/plain": [
       "Confusion Matrix and Statistics\n",
       "\n",
       "          Reference\n",
       "Prediction   No  Yes\n",
       "       No  1140  204\n",
       "       Yes  150  263\n",
       "                                        \n",
       "               Accuracy : 0.7985        \n",
       "                 95% CI : (0.779, 0.817)\n",
       "    No Information Rate : 0.7342        \n",
       "    P-Value [Acc > NIR] : 2.05e-10      \n",
       "                                        \n",
       "                  Kappa : 0.464         \n",
       " Mcnemar's Test P-Value : 0.004849      \n",
       "                                        \n",
       "            Sensitivity : 0.5632        \n",
       "            Specificity : 0.8837        \n",
       "         Pos Pred Value : 0.6368        \n",
       "         Neg Pred Value : 0.8482        \n",
       "             Prevalence : 0.2658        \n",
       "         Detection Rate : 0.1497        \n",
       "   Detection Prevalence : 0.2351        \n",
       "      Balanced Accuracy : 0.7234        \n",
       "                                        \n",
       "       'Positive' Class : Yes           \n",
       "                                        "
      ]
     },
     "metadata": {},
     "output_type": "display_data"
    }
   ],
   "source": [
    "confusionMatrix(y_pred, test$Churn, positive = \"Yes\")"
   ]
  },
  {
   "cell_type": "code",
   "execution_count": 44,
   "metadata": {},
   "outputs": [
    {
     "name": "stderr",
     "output_type": "stream",
     "text": [
      "Warning message:\n",
      "\"package 'pscl' was built under R version 3.5.2\"Classes and Methods for R developed in the\n",
      "Political Science Computational Laboratory\n",
      "Department of Political Science\n",
      "Stanford University\n",
      "Simon Jackman\n",
      "hurdle and zeroinfl functions by Achim Zeileis\n"
     ]
    },
    {
     "data": {
      "text/html": [
       "<dl class=dl-horizontal>\n",
       "\t<dt>llh</dt>\n",
       "\t\t<dd>-2181.23471773311</dd>\n",
       "\t<dt>llhNull</dt>\n",
       "\t\t<dd>-3054.32116173784</dd>\n",
       "\t<dt>G2</dt>\n",
       "\t\t<dd>1746.17288800946</dd>\n",
       "\t<dt>McFadden</dt>\n",
       "\t\t<dd>0.285852861494095</dd>\n",
       "\t<dt>r2ML</dt>\n",
       "\t\t<dd>0.281814966019895</dd>\n",
       "\t<dt>r2CU</dt>\n",
       "\t\t<dd>0.410870276577882</dd>\n",
       "</dl>\n"
      ],
      "text/latex": [
       "\\begin{description*}\n",
       "\\item[llh] -2181.23471773311\n",
       "\\item[llhNull] -3054.32116173784\n",
       "\\item[G2] 1746.17288800946\n",
       "\\item[McFadden] 0.285852861494095\n",
       "\\item[r2ML] 0.281814966019895\n",
       "\\item[r2CU] 0.410870276577882\n",
       "\\end{description*}\n"
      ],
      "text/markdown": [
       "llh\n",
       ":   -2181.23471773311llhNull\n",
       ":   -3054.32116173784G2\n",
       ":   1746.17288800946McFadden\n",
       ":   0.285852861494095r2ML\n",
       ":   0.281814966019895r2CU\n",
       ":   0.410870276577882\n",
       "\n"
      ],
      "text/plain": [
       "          llh       llhNull            G2      McFadden          r2ML \n",
       "-2181.2347177 -3054.3211617  1746.1728880     0.2858529     0.2818150 \n",
       "         r2CU \n",
       "    0.4108703 "
      ]
     },
     "metadata": {},
     "output_type": "display_data"
    }
   ],
   "source": [
    "library(pscl)\n",
    "pR2(classifier)"
   ]
  },
  {
   "cell_type": "code",
   "execution_count": 45,
   "metadata": {},
   "outputs": [
    {
     "data": {
      "text/html": [
       "<table>\n",
       "<thead><tr><th></th><th scope=col>Overall</th></tr></thead>\n",
       "<tbody>\n",
       "\t<tr><th scope=row>genderMale</th><td>0.19922047</td></tr>\n",
       "\t<tr><th scope=row>SeniorCitizen1</th><td>1.40826707</td></tr>\n",
       "\t<tr><th scope=row>PartnerYes</th><td>0.60501880</td></tr>\n",
       "\t<tr><th scope=row>DependentsYes</th><td>1.72326130</td></tr>\n",
       "\t<tr><th scope=row>tenure</th><td>8.42754857</td></tr>\n",
       "\t<tr><th scope=row>PhoneServiceYes</th><td>1.04418041</td></tr>\n",
       "\t<tr><th scope=row>MultipleLinesYes</th><td>2.75233216</td></tr>\n",
       "\t<tr><th scope=row>InternetServiceFiber optic</th><td>2.60695752</td></tr>\n",
       "\t<tr><th scope=row>InternetServiceNo</th><td>2.63036916</td></tr>\n",
       "\t<tr><th scope=row>OnlineSecurityYes</th><td>0.06706515</td></tr>\n",
       "\t<tr><th scope=row>OnlineBackupYes</th><td>0.75407971</td></tr>\n",
       "\t<tr><th scope=row>DeviceProtectionYes</th><td>1.54611852</td></tr>\n",
       "\t<tr><th scope=row>TechSupportYes</th><td>0.85163085</td></tr>\n",
       "\t<tr><th scope=row>StreamingTVYes</th><td>2.33314002</td></tr>\n",
       "\t<tr><th scope=row>StreamingMoviesYes</th><td>2.52485528</td></tr>\n",
       "\t<tr><th scope=row>ContractOne year</th><td>5.82245338</td></tr>\n",
       "\t<tr><th scope=row>ContractTwo year</th><td>6.99588516</td></tr>\n",
       "\t<tr><th scope=row>PaperlessBillingYes</th><td>3.32431056</td></tr>\n",
       "\t<tr><th scope=row>PaymentMethodCredit card (automatic)</th><td>0.90016651</td></tr>\n",
       "\t<tr><th scope=row>PaymentMethodElectronic check</th><td>3.23874203</td></tr>\n",
       "\t<tr><th scope=row>PaymentMethodMailed check</th><td>0.47556891</td></tr>\n",
       "\t<tr><th scope=row>MonthlyCharges</th><td>1.87316312</td></tr>\n",
       "\t<tr><th scope=row>TotalCharges</th><td>4.30945985</td></tr>\n",
       "</tbody>\n",
       "</table>\n"
      ],
      "text/latex": [
       "\\begin{tabular}{r|l}\n",
       "  & Overall\\\\\n",
       "\\hline\n",
       "\tgenderMale & 0.19922047\\\\\n",
       "\tSeniorCitizen1 & 1.40826707\\\\\n",
       "\tPartnerYes & 0.60501880\\\\\n",
       "\tDependentsYes & 1.72326130\\\\\n",
       "\ttenure & 8.42754857\\\\\n",
       "\tPhoneServiceYes & 1.04418041\\\\\n",
       "\tMultipleLinesYes & 2.75233216\\\\\n",
       "\tInternetServiceFiber optic & 2.60695752\\\\\n",
       "\tInternetServiceNo & 2.63036916\\\\\n",
       "\tOnlineSecurityYes & 0.06706515\\\\\n",
       "\tOnlineBackupYes & 0.75407971\\\\\n",
       "\tDeviceProtectionYes & 1.54611852\\\\\n",
       "\tTechSupportYes & 0.85163085\\\\\n",
       "\tStreamingTVYes & 2.33314002\\\\\n",
       "\tStreamingMoviesYes & 2.52485528\\\\\n",
       "\tContractOne year & 5.82245338\\\\\n",
       "\tContractTwo year & 6.99588516\\\\\n",
       "\tPaperlessBillingYes & 3.32431056\\\\\n",
       "\tPaymentMethodCredit card (automatic) & 0.90016651\\\\\n",
       "\tPaymentMethodElectronic check & 3.23874203\\\\\n",
       "\tPaymentMethodMailed check & 0.47556891\\\\\n",
       "\tMonthlyCharges & 1.87316312\\\\\n",
       "\tTotalCharges & 4.30945985\\\\\n",
       "\\end{tabular}\n"
      ],
      "text/markdown": [
       "\n",
       "| <!--/--> | Overall | \n",
       "|---|---|---|---|---|---|---|---|---|---|---|---|---|---|---|---|---|---|---|---|---|---|---|\n",
       "| genderMale | 0.19922047 | \n",
       "| SeniorCitizen1 | 1.40826707 | \n",
       "| PartnerYes | 0.60501880 | \n",
       "| DependentsYes | 1.72326130 | \n",
       "| tenure | 8.42754857 | \n",
       "| PhoneServiceYes | 1.04418041 | \n",
       "| MultipleLinesYes | 2.75233216 | \n",
       "| InternetServiceFiber optic | 2.60695752 | \n",
       "| InternetServiceNo | 2.63036916 | \n",
       "| OnlineSecurityYes | 0.06706515 | \n",
       "| OnlineBackupYes | 0.75407971 | \n",
       "| DeviceProtectionYes | 1.54611852 | \n",
       "| TechSupportYes | 0.85163085 | \n",
       "| StreamingTVYes | 2.33314002 | \n",
       "| StreamingMoviesYes | 2.52485528 | \n",
       "| ContractOne year | 5.82245338 | \n",
       "| ContractTwo year | 6.99588516 | \n",
       "| PaperlessBillingYes | 3.32431056 | \n",
       "| PaymentMethodCredit card (automatic) | 0.90016651 | \n",
       "| PaymentMethodElectronic check | 3.23874203 | \n",
       "| PaymentMethodMailed check | 0.47556891 | \n",
       "| MonthlyCharges | 1.87316312 | \n",
       "| TotalCharges | 4.30945985 | \n",
       "\n",
       "\n"
      ],
      "text/plain": [
       "                                     Overall   \n",
       "genderMale                           0.19922047\n",
       "SeniorCitizen1                       1.40826707\n",
       "PartnerYes                           0.60501880\n",
       "DependentsYes                        1.72326130\n",
       "tenure                               8.42754857\n",
       "PhoneServiceYes                      1.04418041\n",
       "MultipleLinesYes                     2.75233216\n",
       "InternetServiceFiber optic           2.60695752\n",
       "InternetServiceNo                    2.63036916\n",
       "OnlineSecurityYes                    0.06706515\n",
       "OnlineBackupYes                      0.75407971\n",
       "DeviceProtectionYes                  1.54611852\n",
       "TechSupportYes                       0.85163085\n",
       "StreamingTVYes                       2.33314002\n",
       "StreamingMoviesYes                   2.52485528\n",
       "ContractOne year                     5.82245338\n",
       "ContractTwo year                     6.99588516\n",
       "PaperlessBillingYes                  3.32431056\n",
       "PaymentMethodCredit card (automatic) 0.90016651\n",
       "PaymentMethodElectronic check        3.23874203\n",
       "PaymentMethodMailed check            0.47556891\n",
       "MonthlyCharges                       1.87316312\n",
       "TotalCharges                         4.30945985"
      ]
     },
     "metadata": {},
     "output_type": "display_data"
    }
   ],
   "source": [
    "library(caret)\n",
    "varImp(classifier)"
   ]
  },
  {
   "cell_type": "markdown",
   "metadata": {},
   "source": [
    "### based on the fucntion varImp, the features like 'TotalCharges', 'PaymentMethodElectronic check','ContractTwo year','ContractOne year', 'ContractTwo year' are the most significant"
   ]
  },
  {
   "cell_type": "code",
   "execution_count": 56,
   "metadata": {},
   "outputs": [],
   "source": [
    "#train_df = data.frame(train)\n",
    "#train_df %>% mutate_if(is.factor, as.numeric)\n",
    "#head(train_df)"
   ]
  },
  {
   "cell_type": "code",
   "execution_count": null,
   "metadata": {},
   "outputs": [],
   "source": [
    "#vifstep(train[-20], th = 10)"
   ]
  },
  {
   "cell_type": "code",
   "execution_count": null,
   "metadata": {},
   "outputs": [],
   "source": [
    "#library(MASS)\n",
    "#step=stepAIC(classifier, direction=\"both\")"
   ]
  },
  {
   "cell_type": "code",
   "execution_count": null,
   "metadata": {},
   "outputs": [],
   "source": [
    "#cor(train)"
   ]
  },
  {
   "cell_type": "code",
   "execution_count": null,
   "metadata": {},
   "outputs": [],
   "source": [
    "#library(ggcorrplot)\n",
    "#ggcorrplot(cor(copy), lab = TRUE)"
   ]
  },
  {
   "cell_type": "code",
   "execution_count": 57,
   "metadata": {},
   "outputs": [],
   "source": [
    "# fitting the model\n",
    "classifier2 <- glm(Churn~SeniorCitizen + tenure + MultipleLines + InternetService + StreamingTV + Contract + PaperlessBilling + PaymentMethod + TotalCharges\n",
    "           , data=train, \n",
    "           family=binomial(link = \"logit\"))"
   ]
  },
  {
   "cell_type": "code",
   "execution_count": 58,
   "metadata": {},
   "outputs": [
    {
     "data": {
      "text/plain": [
       "\n",
       "Call:\n",
       "glm(formula = Churn ~ SeniorCitizen + tenure + MultipleLines + \n",
       "    InternetService + StreamingTV + Contract + PaperlessBilling + \n",
       "    PaymentMethod + TotalCharges, family = binomial(link = \"logit\"), \n",
       "    data = train)\n",
       "\n",
       "Deviance Residuals: \n",
       "    Min       1Q   Median       3Q      Max  \n",
       "-1.8378  -0.6903  -0.3017   0.7696   3.4675  \n",
       "\n",
       "Coefficients: (1 not defined because of singularities)\n",
       "                                       Estimate Std. Error z value Pr(>|z|)    \n",
       "(Intercept)                          -0.7691594  0.1415082  -5.435 5.47e-08 ***\n",
       "SeniorCitizen1                        0.2137603  0.0959659   2.227 0.025917 *  \n",
       "tenure                               -0.0575211  0.0067723  -8.494  < 2e-16 ***\n",
       "MultipleLinesNo phone service         0.6461830  0.1477283   4.374 1.22e-05 ***\n",
       "MultipleLinesYes                      0.2569313  0.0911434   2.819 0.004818 ** \n",
       "InternetServiceFiber optic            0.8820594  0.1095278   8.053 8.06e-16 ***\n",
       "InternetServiceNo                    -0.4484251  0.1498886  -2.992 0.002774 ** \n",
       "StreamingTVNo internet service               NA         NA      NA       NA    \n",
       "StreamingTVYes                        0.2628119  0.0894574   2.938 0.003305 ** \n",
       "ContractOne year                     -0.8269445  0.1236799  -6.686 2.29e-11 ***\n",
       "ContractTwo year                     -1.6260087  0.1996271  -8.145 3.79e-16 ***\n",
       "PaperlessBillingYes                   0.3111479  0.0844502   3.684 0.000229 ***\n",
       "PaymentMethodCredit card (automatic) -0.1319371  0.1295712  -1.018 0.308555    \n",
       "PaymentMethodElectronic check         0.4081055  0.1078976   3.782 0.000155 ***\n",
       "PaymentMethodMailed check            -0.0712937  0.1304369  -0.547 0.584670    \n",
       "TotalCharges                          0.0002723  0.0000742   3.670 0.000243 ***\n",
       "---\n",
       "Signif. codes:  0 '***' 0.001 '**' 0.01 '*' 0.05 '.' 0.1 ' ' 1\n",
       "\n",
       "(Dispersion parameter for binomial family taken to be 1)\n",
       "\n",
       "    Null deviance: 6108.6  on 5274  degrees of freedom\n",
       "Residual deviance: 4428.3  on 5260  degrees of freedom\n",
       "AIC: 4458.3\n",
       "\n",
       "Number of Fisher Scoring iterations: 6\n"
      ]
     },
     "metadata": {},
     "output_type": "display_data"
    }
   ],
   "source": [
    "summary(classifier2)"
   ]
  },
  {
   "cell_type": "code",
   "execution_count": 74,
   "metadata": {},
   "outputs": [
    {
     "name": "stderr",
     "output_type": "stream",
     "text": [
      "Warning message in predict.lm(object, newdata, se.fit, scale = 1, type = ifelse(type == :\n",
      "\"prediction from a rank-deficient fit may be misleading\""
     ]
    }
   ],
   "source": [
    "# making the prediction\n",
    "y_pred2 = predict(classifier2, newdata=test, type = \"response\")"
   ]
  },
  {
   "cell_type": "code",
   "execution_count": 75,
   "metadata": {},
   "outputs": [
    {
     "data": {
      "text/html": [
       "<dl class=dl-horizontal>\n",
       "\t<dt>1</dt>\n",
       "\t\t<dd>0.633412469128856</dd>\n",
       "\t<dt>3</dt>\n",
       "\t\t<dd>0.35094296934468</dd>\n",
       "\t<dt>12</dt>\n",
       "\t\t<dd>0.0217345856968424</dd>\n",
       "\t<dt>27</dt>\n",
       "\t\t<dd>0.485417757374496</dd>\n",
       "\t<dt>29</dt>\n",
       "\t\t<dd>0.0162503521036993</dd>\n",
       "\t<dt>31</dt>\n",
       "\t\t<dd>0.0429226710418071</dd>\n",
       "</dl>\n"
      ],
      "text/latex": [
       "\\begin{description*}\n",
       "\\item[1] 0.633412469128856\n",
       "\\item[3] 0.35094296934468\n",
       "\\item[12] 0.0217345856968424\n",
       "\\item[27] 0.485417757374496\n",
       "\\item[29] 0.0162503521036993\n",
       "\\item[31] 0.0429226710418071\n",
       "\\end{description*}\n"
      ],
      "text/markdown": [
       "1\n",
       ":   0.6334124691288563\n",
       ":   0.3509429693446812\n",
       ":   0.021734585696842427\n",
       ":   0.48541775737449629\n",
       ":   0.016250352103699331\n",
       ":   0.0429226710418071\n",
       "\n"
      ],
      "text/plain": [
       "         1          3         12         27         29         31 \n",
       "0.63341247 0.35094297 0.02173459 0.48541776 0.01625035 0.04292267 "
      ]
     },
     "metadata": {},
     "output_type": "display_data"
    }
   ],
   "source": [
    "head(y_pred2)"
   ]
  },
  {
   "cell_type": "code",
   "execution_count": 76,
   "metadata": {},
   "outputs": [],
   "source": [
    "y_pred2 = ifelse(y_pred2 > 0.5,\"Yes\",\"No\")"
   ]
  },
  {
   "cell_type": "code",
   "execution_count": 77,
   "metadata": {},
   "outputs": [],
   "source": [
    "y_pred2 = as.factor(y_pred2)"
   ]
  },
  {
   "cell_type": "code",
   "execution_count": 78,
   "metadata": {},
   "outputs": [
    {
     "data": {
      "text/html": [
       "<dl class=dl-horizontal>\n",
       "\t<dt>1</dt>\n",
       "\t\t<dd>Yes</dd>\n",
       "\t<dt>3</dt>\n",
       "\t\t<dd>No</dd>\n",
       "\t<dt>12</dt>\n",
       "\t\t<dd>No</dd>\n",
       "\t<dt>27</dt>\n",
       "\t\t<dd>No</dd>\n",
       "\t<dt>29</dt>\n",
       "\t\t<dd>No</dd>\n",
       "\t<dt>31</dt>\n",
       "\t\t<dd>No</dd>\n",
       "</dl>\n",
       "\n",
       "<details>\n",
       "\t<summary style=display:list-item;cursor:pointer>\n",
       "\t\t<strong>Levels</strong>:\n",
       "\t</summary>\n",
       "\t<ol class=list-inline>\n",
       "\t\t<li>'No'</li>\n",
       "\t\t<li>'Yes'</li>\n",
       "\t</ol>\n",
       "</details>"
      ],
      "text/latex": [
       "\\begin{description*}\n",
       "\\item[1] Yes\n",
       "\\item[3] No\n",
       "\\item[12] No\n",
       "\\item[27] No\n",
       "\\item[29] No\n",
       "\\item[31] No\n",
       "\\end{description*}\n",
       "\n",
       "\\emph{Levels}: \\begin{enumerate*}\n",
       "\\item 'No'\n",
       "\\item 'Yes'\n",
       "\\end{enumerate*}\n"
      ],
      "text/markdown": [
       "1\n",
       ":   Yes3\n",
       ":   No12\n",
       ":   No27\n",
       ":   No29\n",
       ":   No31\n",
       ":   No\n",
       "\n",
       "\n",
       "**Levels**: 1. 'No'\n",
       "2. 'Yes'\n",
       "\n",
       "\n"
      ],
      "text/plain": [
       "  1   3  12  27  29  31 \n",
       "Yes  No  No  No  No  No \n",
       "Levels: No Yes"
      ]
     },
     "metadata": {},
     "output_type": "display_data"
    }
   ],
   "source": [
    "head(y_pred2)"
   ]
  },
  {
   "cell_type": "code",
   "execution_count": 79,
   "metadata": {},
   "outputs": [
    {
     "data": {
      "text/plain": [
       "Confusion Matrix and Statistics\n",
       "\n",
       "          Reference\n",
       "Prediction   No  Yes\n",
       "       No  1150  203\n",
       "       Yes  140  264\n",
       "                                          \n",
       "               Accuracy : 0.8048          \n",
       "                 95% CI : (0.7855, 0.8231)\n",
       "    No Information Rate : 0.7342          \n",
       "    P-Value [Acc > NIR] : 2.906e-12       \n",
       "                                          \n",
       "                  Kappa : 0.4773          \n",
       " Mcnemar's Test P-Value : 0.0008149       \n",
       "                                          \n",
       "            Sensitivity : 0.5653          \n",
       "            Specificity : 0.8915          \n",
       "         Pos Pred Value : 0.6535          \n",
       "         Neg Pred Value : 0.8500          \n",
       "             Prevalence : 0.2658          \n",
       "         Detection Rate : 0.1503          \n",
       "   Detection Prevalence : 0.2299          \n",
       "      Balanced Accuracy : 0.7284          \n",
       "                                          \n",
       "       'Positive' Class : Yes             \n",
       "                                          "
      ]
     },
     "metadata": {},
     "output_type": "display_data"
    }
   ],
   "source": [
    "confusionMatrix(y_pred2, test$Churn, positive = \"Yes\")"
   ]
  },
  {
   "cell_type": "code",
   "execution_count": null,
   "metadata": {},
   "outputs": [],
   "source": []
  }
 ],
 "metadata": {
  "kernelspec": {
   "display_name": "R",
   "language": "R",
   "name": "ir"
  },
  "language_info": {
   "codemirror_mode": "r",
   "file_extension": ".r",
   "mimetype": "text/x-r-source",
   "name": "R",
   "pygments_lexer": "r",
   "version": "3.5.1"
  }
 },
 "nbformat": 4,
 "nbformat_minor": 2
}
